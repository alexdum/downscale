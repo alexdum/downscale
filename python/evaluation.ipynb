{
 "cells": [
  {
   "cell_type": "markdown",
   "id": "75b8d6ac-9a95-4731-b6cf-749309abc008",
   "metadata": {},
   "source": [
    "## Evaluation of the models (ResNet and ViT)"
   ]
  },
  {
   "cell_type": "markdown",
   "id": "adfe5b9a-f892-4c8e-ab3b-3c4ec287e0e8",
   "metadata": {},
   "source": [
    "**ResNet:** This model includes a series of convolutional layers with skip connections, global average pooling, and integrates low-level features via a skip connection from the input. It is tailored for complex pattern recognition in data with spatial dimension (adopted from https://arxiv.org/pdf/2301.10343).\n",
    "\n",
    "**ViT (Vision Transformer):** This configuration features multi-scale convolutional patch embedding with residual connections, followed by a series of transformer blocks. The model processes input data to generate an output with the same spatial dimensions, applying learnable positional encodings and a final dense layer for regression (https://arxiv.org/pdf/2410.12728)."
   ]
  },
  {
   "cell_type": "markdown",
   "id": "b97b0c14-0a3d-4c6b-ac47-229cb1c2e87e",
   "metadata": {},
   "source": [
    "Models were trained on historical data using air temperature and sea-level pressure as a predictors, and residuals (observational - cmip6) as the target variable. Estimated residuals were added back to bilinearly interpolated CMIP6 data (resampled to the observational data's spatial resolution) to evaluate models' performance.\n",
    "\n",
    "\n",
    "The data from CNRM-ESM2-1 for historical and SSP245 scenario. \n",
    "The historical data were split using daily data as follows: training from 1950-2004, validation from 2004-2009, and testing from 2010-2014."
   ]
  },
  {
   "cell_type": "markdown",
   "id": "7025813f-f65f-4ae1-8cb7-7c716a18e173",
   "metadata": {
    "jp-MarkdownHeadingCollapsed": true
   },
   "source": [
    "#### Define Functions for data loading and plotting"
   ]
  },
  {
   "cell_type": "code",
   "execution_count": 8,
   "id": "267a7369-f067-477c-951f-1576d25eb539",
   "metadata": {},
   "outputs": [
    {
     "data": {
      "text/html": [
       "<!-- This cell will be hidden -->\n",
       "<div style=\"display: none;\">\n",
       "  import xarray as xr\n",
       "  import numpy as np\n",
       "\n",
       "def load_and_mean_data(files_or_path, var_name, start_year=None, end_year=None, mask=None, lat=None, lon=None, interp_method=None, is_zarr=False):\n",
       "  \n",
       "    if is_zarr:\n",
       "        ds = xr.open_zarr(files_or_path, consolidated=True)\n",
       "    else:\n",
       "        ds = xr.open_mfdataset(files_or_path, combine='by_coords', chunks={'time': -1})\n",
       "\n",
       "    # Select time range based on start and end years\n",
       "    if 'time' in ds.coords and hasattr(ds.time.dt, 'year'):\n",
       "        if start_year is not None:\n",
       "            ds = ds.sel(time=ds.time.dt.year >= start_year)\n",
       "        if end_year is not None:\n",
       "            ds = ds.sel(time=ds.time.dt.year <= end_year)\n",
       "    elif start_year is not None or end_year is not None:\n",
       "        print(\"Warning: start_year and end_year provided, but 'time' coordinate not found or doesn't have a 'year' attribute. Ignoring year selection.\")\n",
       "\n",
       "\n",
       "    data_mean = ds[var_name].mean(dim='time')\n",
       "\n",
       "    # Interpolate if lat/lon are provided\n",
       "    if lat is not None and lon is not None and interp_method:\n",
       "        data_mean = data_mean.interp(lat=lat, lon=lon, method=interp_method, kwargs={\"fill_value\": \"extrapolate\"})\n",
       "\n",
       "    # Apply mask if provided\n",
       "    if mask is not None:\n",
       "        data_mean = data_mean.where(~mask, np.nan)\n",
       "\n",
       "    return data_mean\n",
       "\n",
       "# Function to plot mean temperature maps\n",
       "def plot_map(data, ax, title, mean_value, vmin=270, vmax=292, cmap='RdBu_r'):\n",
       "    data.plot(\n",
       "        ax=ax, transform=ccrs.PlateCarree(), cmap=cmap, vmin=vmin, vmax=vmax,\n",
       "        cbar_kwargs={'orientation': 'horizontal', 'pad': 0.1, 'shrink': 0.8, 'aspect': 30, 'label': 'Mean Temperature (K)'}\n",
       "    )\n",
       "    ax.coastlines()\n",
       "    ax.add_feature(cfeature.BORDERS, edgecolor='gray')\n",
       "    ax.gridlines(draw_labels=True, linewidth=0.5, color='gray', alpha=0.5, linestyle='--')\n",
       "    ax.set_title(title)\n",
       "    ax.text(10, 50.5, f'Mean: {mean_value:.2f} K', fontsize=10, ha='center', va='center', color='black')\n",
       "\n",
       "# Function to calculate RMSE and MAE\n",
       "def calculate_rmse_mae(model1, model2):\n",
       "    diff = model1 - model2\n",
       "    rmse = np.sqrt(np.nanmean(diff ** 2))\n",
       "    mae = np.nanmean(np.abs(diff))\n",
       "    return rmse, mae\n",
       "\n",
       "</div>\n"
      ],
      "text/plain": [
       "<IPython.core.display.HTML object>"
      ]
     },
     "metadata": {},
     "output_type": "display_data"
    }
   ],
   "source": [
    "import xarray as xr\n",
    "import numpy as np\n",
    "\n",
    "def load_and_mean_data(files_or_path, var_name, start_year=None, end_year=None, mask=None, lat=None, lon=None, interp_method=None, is_zarr=False):\n",
    "  \n",
    "    if is_zarr:\n",
    "        ds = xr.open_zarr(files_or_path, consolidated=True)\n",
    "    else:\n",
    "        ds = xr.open_mfdataset(files_or_path, combine='by_coords', chunks={'time': -1})\n",
    "\n",
    "    # Select time range based on start and end years\n",
    "    if 'time' in ds.coords and hasattr(ds.time.dt, 'year'):\n",
    "        if start_year is not None:\n",
    "            ds = ds.sel(time=ds.time.dt.year >= start_year)\n",
    "        if end_year is not None:\n",
    "            ds = ds.sel(time=ds.time.dt.year <= end_year)\n",
    "    elif start_year is not None or end_year is not None:\n",
    "        print(\"Warning: start_year and end_year provided, but 'time' coordinate not found or doesn't have a 'year' attribute. Ignoring year selection.\")\n",
    "\n",
    "\n",
    "    data_mean = ds[var_name].mean(dim='time')\n",
    "\n",
    "    # Interpolate if lat/lon are provided\n",
    "    if lat is not None and lon is not None and interp_method:\n",
    "        data_mean = data_mean.interp(lat=lat, lon=lon, method=interp_method, kwargs={\"fill_value\": \"extrapolate\"})\n",
    "\n",
    "    # Apply mask if provided\n",
    "    if mask is not None:\n",
    "        data_mean = data_mean.where(~mask, np.nan)\n",
    "\n",
    "    return data_mean\n",
    "\n",
    "# Function to plot mean temperature maps\n",
    "def plot_map(data, ax, title, mean_value, vmin=270, vmax=292, cmap='RdBu_r'):\n",
    "    data.plot(\n",
    "        ax=ax, transform=ccrs.PlateCarree(), cmap=cmap, vmin=vmin, vmax=vmax,\n",
    "        cbar_kwargs={'orientation': 'horizontal', 'pad': 0.1, 'shrink': 0.8, 'aspect': 30, 'label': 'Mean Temperature (K)'}\n",
    "    )\n",
    "    ax.coastlines()\n",
    "    ax.add_feature(cfeature.BORDERS, edgecolor='gray')\n",
    "    ax.gridlines(draw_labels=True, linewidth=0.5, color='gray', alpha=0.5, linestyle='--')\n",
    "    ax.set_title(title)\n",
    "    ax.text(10, 50.5, f'Mean: {mean_value:.2f} K', fontsize=10, ha='center', va='center', color='black')\n",
    "\n",
    "# Function to calculate RMSE and MAE\n",
    "def calculate_rmse_mae(model1, model2):\n",
    "    diff = model1 - model2\n",
    "    rmse = np.sqrt(np.nanmean(diff ** 2))\n",
    "    mae = np.nanmean(np.abs(diff))\n",
    "    return rmse, mae"
   ]
  }
 ],
 "metadata": {
  "kernelspec": {
   "display_name": "Python 3 (ipykernel)",
   "language": "python",
   "name": "python3"
  },
  "language_info": {
   "codemirror_mode": {
    "name": "ipython",
    "version": 3
   },
   "file_extension": ".py",
   "mimetype": "text/x-python",
   "name": "python",
   "nbconvert_exporter": "python",
   "pygments_lexer": "ipython3",
   "version": "3.10.15"
  }
 },
 "nbformat": 4,
 "nbformat_minor": 5
}
