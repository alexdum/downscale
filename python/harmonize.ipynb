{
 "cells": [
  {
   "cell_type": "code",
   "execution_count": null,
   "id": "ddddf08d-34e5-4075-82f1-3302ee1edd27",
   "metadata": {},
   "outputs": [],
   "source": [
    "import requests\n",
    "import re\n",
    "import os\n",
    "import glob\n",
    "import pandas as pd\n",
    "import xarray as xr\n",
    "import xesmf as xe\n",
    "import zarr\n",
    "# Set the working directory\n",
    "os.chdir('/data/keeling/a/ad87/downscale')\n",
    "# Verify the change\n",
    "print(\"Current Working Directory:\", os.getcwd())"
   ]
  },
  {
   "cell_type": "markdown",
   "id": "9268bc9c-3679-46de-907b-61e41c50d295",
   "metadata": {},
   "source": [
    "#### List files that will be used to downsample the reference dataset (GMFD)"
   ]
  },
  {
   "cell_type": "code",
   "execution_count": 1,
   "id": "b64d3cc1-b6f6-4cf4-947b-37a7b4ec0774",
   "metadata": {},
   "outputs": [
    {
     "ename": "NameError",
     "evalue": "name 'xr' is not defined",
     "output_type": "error",
     "traceback": [
      "\u001b[0;31m---------------------------------------------------------------------------\u001b[0m",
      "\u001b[0;31mNameError\u001b[0m                                 Traceback (most recent call last)",
      "Cell \u001b[0;32mIn[1], line 5\u001b[0m\n\u001b[1;32m      3\u001b[0m file_pr \u001b[38;5;241m=\u001b[39m \u001b[38;5;124m'\u001b[39m\u001b[38;5;124m/data/keeling/a/ad87/gmfd/ncs/ro/prcp_daily_ro_*.nc\u001b[39m\u001b[38;5;124m'\u001b[39m\n\u001b[1;32m      4\u001b[0m \u001b[38;5;66;03m# Open multiple files as a single dataset\u001b[39;00m\n\u001b[0;32m----> 5\u001b[0m pr \u001b[38;5;241m=\u001b[39m \u001b[43mxr\u001b[49m\u001b[38;5;241m.\u001b[39mopen_mfdataset(file_pr, combine\u001b[38;5;241m=\u001b[39m\u001b[38;5;124m'\u001b[39m\u001b[38;5;124mby_coords\u001b[39m\u001b[38;5;124m'\u001b[39m)\n\u001b[1;32m      6\u001b[0m \u001b[38;5;66;03m# Rename variable from 'prcp' to 'pr' to be consistent with cmip6\u001b[39;00m\n\u001b[1;32m      7\u001b[0m pr \u001b[38;5;241m=\u001b[39m pr\u001b[38;5;241m.\u001b[39mrename({\u001b[38;5;124m'\u001b[39m\u001b[38;5;124mprcp\u001b[39m\u001b[38;5;124m'\u001b[39m: \u001b[38;5;124m'\u001b[39m\u001b[38;5;124mpr\u001b[39m\u001b[38;5;124m'\u001b[39m})\n",
      "\u001b[0;31mNameError\u001b[0m: name 'xr' is not defined"
     ]
    }
   ],
   "source": [
    "# Use a file pattern to load all precipitation files\n",
    "#file_pr = '/data/keeling/a/cristi/a/downscaled_data/gmfd/ncs/ro/prcp_daily_ro_*.nc'\n",
    "file_pr = '/data/keeling/a/ad87/gmfd/ncs/ro/prcp_daily_ro_*.nc'\n",
    "# Open multiple files as a single dataset\n",
    "pr = xr.open_mfdataset(file_pr, combine='by_coords')\n",
    "# Rename variable from 'prcp' to 'pr' to be consistent with cmip6\n",
    "pr = pr.rename({'prcp': 'pr'})\n",
    "\n",
    "\n",
    "#file_ta = '/data/keeling/a/cristi/a/downscaled_data/gmfd/ncs/ro/tas_daily_ro_*.nc'\n",
    "file_ta = '/data/keeling/a/ad87/gmfd/ncs/ro/tas_daily_ro_*.nc'\n",
    "# Open multiple files as a single dataset\n",
    "ta = xr.open_mfdataset(file_ta, combine='by_coords')\n",
    "print(ta)\n"
   ]
  },
  {
   "cell_type": "markdown",
   "id": "3fcb4c6f-5504-4e62-acd2-359db282d6bf",
   "metadata": {},
   "source": [
    "#### CMIP6 raw data structure to be read"
   ]
  },
  {
   "cell_type": "markdown",
   "id": "37c7598e-cb0a-4e19-be6f-7a1e049ad3c6",
   "metadata": {},
   "source": [
    "Iterate through each file that that should be used for resample the observational datset"
   ]
  },
  {
   "cell_type": "code",
   "execution_count": 3,
   "id": "7daaf1b3-3727-459c-aa7d-e89c5b26616c",
   "metadata": {},
   "outputs": [],
   "source": [
    "# Define the base directory\n",
    "#directory = \"../../cristi/a/downscaled_data/cmip6/raw/zarr/RO_CMIP6_raw\"\n",
    "directory = \"/data/keeling/a/ad87/cmip6/zarr/RO_CMIP6_raw\"\n",
    "\n",
    "# Initialize an empty list to store matching files\n",
    "matching_files = []\n",
    "\n",
    "# Find all .zarr directories recursively in subdirectories\n",
    "for root, dirs, files in os.walk(directory):\n",
    "    for dir_name in dirs:\n",
    "        if dir_name.endswith(\".zarr\") and \"pr\" in dir_name and \"historical\" in dir_name:\n",
    "            matching_files.append(os.path.join(root, dir_name))\n",
    "\n",
    "# Print the list of matching files (optional)\n",
    "# print(matching_files)"
   ]
  },
  {
   "cell_type": "code",
   "execution_count": 4,
   "id": "82fd17db-cd34-4b4c-982e-015c0e866447",
   "metadata": {},
   "outputs": [
    {
     "name": "stdout",
     "output_type": "stream",
     "text": [
      "\n",
      "Reading Zarr file: /data/keeling/a/ad87/cmip6/zarr/RO_CMIP6_raw/IPSL-CM6A-LR/historical/r1i1p1f1/pr/pr_day_IPSL-CM6A-LR_historical_r1i1p1f1_gr_1950_2014_rou.zarr\n",
      "Created directory: zarr/gmfd_harm/IPSL-CM6A-LR\n",
      "\n",
      "Reading Zarr file: /data/keeling/a/ad87/cmip6/zarr/RO_CMIP6_raw/CNRM-ESM2-1/historical/r1i1p1f2/pr/pr_day_CNRM-ESM2-1_historical_r1i1p1f2_gr_1950_2014_rou.zarr\n",
      "Created directory: zarr/gmfd_harm/CNRM-ESM2-1\n",
      "\n",
      "Reading Zarr file: /data/keeling/a/ad87/cmip6/zarr/RO_CMIP6_raw/MPI-ESM1-2-LR/historical/r1i1p1f1/pr/pr_day_MPI-ESM1-2-LR_historical_r1i1p1f1_gr_1950_2014_rou.zarr\n",
      "Created directory: zarr/gmfd_harm/MPI-ESM1-2-LR\n",
      "\n",
      "Reading Zarr file: /data/keeling/a/ad87/cmip6/zarr/RO_CMIP6_raw/MPI-ESM1-2-HR/historical/r1i1p1f1/pr/pr_day_MPI-ESM1-2-HR_historical_r1i1p1f1_gr_1950_2014_rou.zarr\n",
      "Created directory: zarr/gmfd_harm/MPI-ESM1-2-HR\n",
      "\n",
      "Reading Zarr file: /data/keeling/a/ad87/cmip6/zarr/RO_CMIP6_raw/MIROC6/historical/r1i1p1f1/pr/pr_day_MIROC6_historical_r1i1p1f1_gr_1950_2014_rou.zarr\n",
      "Created directory: zarr/gmfd_harm/MIROC6\n",
      "\n",
      "Reading Zarr file: /data/keeling/a/ad87/cmip6/zarr/RO_CMIP6_raw/EC-Earth3-Veg-LR/historical/r1i1p1f1/pr/pr_day_EC-Earth3-Veg-LR_historical_r1i1p1f1_gr_1950_2014_rou.zarr\n",
      "Created directory: zarr/gmfd_harm/EC-Earth3-Veg-LR\n"
     ]
    }
   ],
   "source": [
    "for file in matching_files:\n",
    "    print(f\"\\nReading Zarr file: {file}\")\n",
    "    # Extract the model name (e.g., 'IPSL-CM6A-LR') from the file path\n",
    "    parts = file.split('/')\n",
    "    model_name = parts[8]  # The model name is in the 8th part of the path (0-indexed)\n",
    "    \n",
    "    # Define the target directory path\n",
    "    target_directory = os.path.join('zarr/gmfd_harm', model_name)\n",
    "    \n",
    "    # Create the directory if it doesn't exist\n",
    "    if not os.path.exists(target_directory):\n",
    "        os.makedirs(target_directory)\n",
    "        print(f\"Created directory: {target_directory}\")\n",
    "    else:\n",
    "        print(f\"Directory already exists: {target_directory}\")\n",
    "    # Open the Zarr file using xarray\n",
    "    ds = xr.open_zarr(file, consolidated=False)  # Set consolidated=True if the dataset is consolidate\n",
    "    # get lat and lon dimensions (could be applied to booth observational pr and tas\n",
    "    target_lat = ds.lat\n",
    "    target_lon = ds.lon\n",
    "    # resample observational pr and tas\n",
    "    resampled_pr = pr.interp(lat=target_lat, lon=target_lon, method='cubic', kwargs={\"fill_value\": \"extrapolate\"})\n",
    "    resampled_ta = ta.interp(lat=target_lat, lon=target_lon, method='cubic', kwargs={\"fill_value\": \"extrapolate\"})\n",
    "    # Create the filename and full path\n",
    "    # Full path to save the Zarr file\n",
    "    ta_full_path = os.path.join(target_directory,f\"tas_{model_name}.zarr\")\n",
    "    pr_full_path = os.path.join(target_directory,f\"pr_{model_name}.zarr\")\n",
    "    resampled_pr = resampled_pr.chunk({'time': 100, 'lat': 50, 'lon': 50})  # Example chunk sizes\n",
    "    resampled_ta = resampled_ta.chunk({'time': 100, 'lat': 50, 'lon': 50})  # Example chunk sizes\n",
    "    \n",
    "    # Define the compressor\n",
    "    compressor = zarr.Blosc(cname='zstd', clevel=3, shuffle=1)\n",
    "    # Create an encoding dictionary for all data variables\n",
    "    encoding_pr = {var: {'compressor': compressor} for var in resampled_pr.data_vars}\n",
    "    encoding_ta = {var: {'compressor': compressor} for var in resampled_ta.data_vars}\n",
    "    \n",
    "    # Save the subset to Zarr with compression\n",
    "    resampled_ta.to_zarr(ta_full_path, mode='w', encoding=encoding_ta)\n",
    "    resampled_pr.to_zarr(pr_full_path, mode='w', encoding=encoding_pr)"
   ]
  },
  {
   "cell_type": "code",
   "execution_count": 18,
   "id": "341bfecb-3f2e-4bbe-a1da-53b1963afee3",
   "metadata": {
    "scrolled": true
   },
   "outputs": [
    {
     "name": "stdout",
     "output_type": "stream",
     "text": [
      "\n",
      "Reading Zarr file: /data/keeling/a/ad87/cmip6/zarr/RO_CMIP6_raw/IPSL-CM6A-LR/historical/r1i1p1f1/pr/pr_day_IPSL-CM6A-LR_historical_r1i1p1f1_gr_1950_2014_rou.zarr\n",
      "<xarray.Dataset> Size: 8MB\n",
      "Dimensions:      (lat: 8, lon: 10, time: 23741, axis_nbounds: 2)\n",
      "Coordinates:\n",
      "  * lat          (lat) float32 32B 41.83 43.1 44.37 45.63 46.9 48.17 49.44 50.7\n",
      "  * lon          (lon) float32 40B 7.5 10.0 12.5 15.0 ... 22.5 25.0 27.5 30.0\n",
      "  * time         (time) datetime64[ns] 190kB 1950-01-01T12:00:00 ... 2014-12-...\n",
      "    time_bounds  (time, axis_nbounds) datetime64[ns] 380kB dask.array<chunksize=(23741, 1), meta=np.ndarray>\n",
      "Dimensions without coordinates: axis_nbounds\n",
      "Data variables:\n",
      "    pr           (time, lat, lon) float32 8MB dask.array<chunksize=(100, 8, 10), meta=np.ndarray>\n",
      "Attributes: (12/54)\n",
      "    CMIP6_CV_version:       cv=6.2.3.5-2-g63b123e\n",
      "    Conventions:            CF-1.7 CMIP-6.2\n",
      "    EXPID:                  historical\n",
      "    NCO:                    \"4.6.0\"\n",
      "    activity_id:            CMIP\n",
      "    branch_method:          standard\n",
      "    ...                     ...\n",
      "    table_id:               day\n",
      "    title:                  IPSL-CM6A-LR model output prepared for CMIP6 / CM...\n",
      "    tracking_id:            hdl:21.14100/41b69e94-c1e8-4950-8f04-9a4cbe5c700c\n",
      "    variable_id:            pr\n",
      "    variant_label:          r1i1p1f1\n",
      "    version_id:             v20180803\n",
      "\n",
      "Reading Zarr file: /data/keeling/a/ad87/cmip6/zarr/RO_CMIP6_raw/CNRM-ESM2-1/historical/r1i1p1f2/pr/pr_day_CNRM-ESM2-1_historical_r1i1p1f2_gr_1950_2014_rou.zarr\n",
      "<xarray.Dataset> Size: 14MB\n",
      "Dimensions:      (lat: 8, lon: 18, time: 23741, axis_nbounds: 2)\n",
      "Coordinates:\n",
      "  * lat          (lat) float64 64B 41.32 42.72 44.12 45.52 ... 48.33 49.73 51.13\n",
      "  * lon          (lon) float64 144B 7.031 8.438 9.844 ... 28.12 29.53 30.94\n",
      "  * time         (time) datetime64[ns] 190kB 1950-01-01T12:00:00 ... 2014-12-...\n",
      "    time_bounds  (time, axis_nbounds) datetime64[ns] 380kB dask.array<chunksize=(23741, 1), meta=np.ndarray>\n",
      "Dimensions without coordinates: axis_nbounds\n",
      "Data variables:\n",
      "    pr           (time, lat, lon) float32 14MB dask.array<chunksize=(100, 8, 18), meta=np.ndarray>\n",
      "Attributes: (12/55)\n",
      "    CMIP6_CV_version:       cv=6.2.3.0-7-g2019642\n",
      "    Conventions:            CF-1.7 CMIP-6.2\n",
      "    EXPID:                  CNRM-ESM2-1_historical_r1i1p1f2\n",
      "    activity_id:            CMIP\n",
      "    arpege_minor_version:   6.3.2\n",
      "    branch_method:          standard\n",
      "    ...                     ...\n",
      "    title:                  CNRM-ESM2-1 model output prepared for CMIP6 / CMI...\n",
      "    tracking_id:            hdl:21.14100/39e537bb-ea92-4815-aec0-743134eaf32b...\n",
      "    variable_id:            pr\n",
      "    variant_label:          r1i1p1f2\n",
      "    version_id:             v20181206\n",
      "    xios_commit:            1442-shuffle\n",
      "\n",
      "Reading Zarr file: /data/keeling/a/ad87/cmip6/zarr/RO_CMIP6_raw/MPI-ESM1-2-LR/historical/r1i1p1f1/pr/pr_day_MPI-ESM1-2-LR_historical_r1i1p1f1_gr_1950_2014_rou.zarr\n",
      "<xarray.Dataset> Size: 8MB\n",
      "Dimensions:    (lat: 6, bnds: 2, lon: 13, time: 23741)\n",
      "Coordinates:\n",
      "  * lat        (lat) float64 48B 41.97 43.83 45.7 47.56 49.43 51.29\n",
      "    lat_bnds   (lat, bnds) float64 96B dask.array<chunksize=(6, 2), meta=np.ndarray>\n",
      "  * lon        (lon) float64 104B 7.5 9.375 11.25 13.12 ... 26.25 28.12 30.0\n",
      "    lon_bnds   (lon, bnds) float64 208B dask.array<chunksize=(13, 2), meta=np.ndarray>\n",
      "  * time       (time) datetime64[ns] 190kB 1950-01-01T12:00:00 ... 2014-12-31...\n",
      "    time_bnds  (time, bnds) datetime64[ns] 380kB dask.array<chunksize=(23741, 1), meta=np.ndarray>\n",
      "Dimensions without coordinates: bnds\n",
      "Data variables:\n",
      "    pr         (time, lat, lon) float32 7MB dask.array<chunksize=(100, 6, 13), meta=np.ndarray>\n",
      "Attributes: (12/50)\n",
      "    Conventions:            CF-1.7 CMIP-6.2\n",
      "    activity_id:            CMIP\n",
      "    branch_method:          standard\n",
      "    branch_time_in_child:   0.0\n",
      "    branch_time_in_parent:  0.0\n",
      "    cmor_version:           3.5.0\n",
      "    ...                     ...\n",
      "    table_info:             Creation Date:(09 May 2019) MD5:e6ef8ececc8f33864...\n",
      "    title:                  MPI-ESM1-2-LR output prepared for CMIP6\n",
      "    tracking_id:            hdl:21.14100/76d5f8e0-fa19-4e97-95dc-846250093b4d...\n",
      "    variable_id:            pr\n",
      "    variant_label:          r1i1p1f1\n",
      "    version_id:             v20190710\n",
      "\n",
      "Reading Zarr file: /data/keeling/a/ad87/cmip6/zarr/RO_CMIP6_raw/MPI-ESM1-2-HR/historical/r1i1p1f1/pr/pr_day_MPI-ESM1-2-HR_historical_r1i1p1f1_gr_1950_2014_rou.zarr\n",
      "<xarray.Dataset> Size: 28MB\n",
      "Dimensions:    (lat: 11, bnds: 2, lon: 26, time: 23741)\n",
      "Coordinates:\n",
      "  * lat        (lat) float64 88B 41.61 42.55 43.48 44.42 ... 49.09 50.03 50.96\n",
      "    lat_bnds   (lat, bnds) float64 176B dask.array<chunksize=(11, 2), meta=np.ndarray>\n",
      "  * lon        (lon) float64 208B 7.5 8.438 9.375 10.31 ... 29.06 30.0 30.94\n",
      "    lon_bnds   (lon, bnds) float64 416B dask.array<chunksize=(26, 2), meta=np.ndarray>\n",
      "  * time       (time) datetime64[ns] 190kB 1950-01-01T12:00:00 ... 2014-12-31...\n",
      "    time_bnds  (time, bnds) datetime64[ns] 380kB dask.array<chunksize=(23741, 1), meta=np.ndarray>\n",
      "Dimensions without coordinates: bnds\n",
      "Data variables:\n",
      "    pr         (time, lat, lon) float32 27MB dask.array<chunksize=(100, 11, 26), meta=np.ndarray>\n",
      "Attributes: (12/50)\n",
      "    Conventions:            CF-1.7 CMIP-6.2\n",
      "    activity_id:            CMIP\n",
      "    branch_method:          standard\n",
      "    branch_time_in_child:   0.0\n",
      "    branch_time_in_parent:  0.0\n",
      "    cmor_version:           3.5.0\n",
      "    ...                     ...\n",
      "    table_info:             Creation Date:(09 May 2019) MD5:e6ef8ececc8f33864...\n",
      "    title:                  MPI-ESM1-2-HR output prepared for CMIP6\n",
      "    tracking_id:            hdl:21.14100/de914887-f8e3-477c-9f8b-ccee4e718484...\n",
      "    variable_id:            pr\n",
      "    variant_label:          r1i1p1f1\n",
      "    version_id:             v20190710\n",
      "\n",
      "Reading Zarr file: /data/keeling/a/ad87/cmip6/zarr/RO_CMIP6_raw/MIROC6/historical/r1i1p1f1/pr/pr_day_MIROC6_historical_r1i1p1f1_gr_1950_2014_rou.zarr\n",
      "<xarray.Dataset> Size: 14MB\n",
      "Dimensions:    (lat: 8, bnds: 2, lon: 18, time: 23741)\n",
      "Coordinates:\n",
      "  * lat        (lat) float64 64B 41.32 42.72 44.12 45.52 46.93 48.33 49.73 51.13\n",
      "    lat_bnds   (lat, bnds) float64 128B dask.array<chunksize=(8, 2), meta=np.ndarray>\n",
      "  * lon        (lon) float64 144B 7.031 8.438 9.844 11.25 ... 28.12 29.53 30.94\n",
      "    lon_bnds   (lon, bnds) float64 288B dask.array<chunksize=(18, 2), meta=np.ndarray>\n",
      "  * time       (time) datetime64[ns] 190kB 1950-01-01T12:00:00 ... 2014-12-31...\n",
      "    time_bnds  (time, bnds) datetime64[ns] 380kB dask.array<chunksize=(23741, 1), meta=np.ndarray>\n",
      "Dimensions without coordinates: bnds\n",
      "Data variables:\n",
      "    pr         (time, lat, lon) float32 14MB dask.array<chunksize=(100, 8, 18), meta=np.ndarray>\n",
      "Attributes: (12/47)\n",
      "    Conventions:            CF-1.7 CMIP-6.2\n",
      "    activity_id:            CMIP\n",
      "    branch_method:          standard\n",
      "    branch_time_in_child:   0.0\n",
      "    branch_time_in_parent:  0.0\n",
      "    cmor_version:           3.4.0\n",
      "    ...                     ...\n",
      "    table_info:             Creation Date:(22 July 2019) MD5:b4cefb4b6dbb146f...\n",
      "    title:                  MIROC6 output prepared for CMIP6\n",
      "    tracking_id:            hdl:21.14100/34af2c05-2219-4771-be60-aa7e73f84ad9...\n",
      "    variable_id:            pr\n",
      "    variant_label:          r1i1p1f1\n",
      "    version_id:             v20191016\n",
      "\n",
      "Reading Zarr file: /data/keeling/a/ad87/cmip6/zarr/RO_CMIP6_raw/EC-Earth3-Veg-LR/historical/r1i1p1f1/pr/pr_day_EC-Earth3-Veg-LR_historical_r1i1p1f1_gr_1950_2014_rou.zarr\n",
      "<xarray.Dataset> Size: 19MB\n",
      "Dimensions:    (lat: 9, bnds: 2, lon: 22, time: 23741)\n",
      "Coordinates:\n",
      "  * lat        (lat) float64 72B 42.06 43.18 44.3 45.42 ... 48.78 49.91 51.03\n",
      "    lat_bnds   (lat, bnds) float64 144B dask.array<chunksize=(9, 2), meta=np.ndarray>\n",
      "  * lon        (lon) float64 176B 6.75 7.875 9.0 10.12 ... 28.12 29.25 30.38\n",
      "    lon_bnds   (lon, bnds) float64 352B dask.array<chunksize=(22, 2), meta=np.ndarray>\n",
      "  * time       (time) datetime64[ns] 190kB 1950-01-01T12:00:00 ... 2014-12-31...\n",
      "    time_bnds  (time, bnds) datetime64[ns] 380kB dask.array<chunksize=(23741, 1), meta=np.ndarray>\n",
      "Dimensions without coordinates: bnds\n",
      "Data variables:\n",
      "    pr         (time, lat, lon) float32 19MB dask.array<chunksize=(100, 9, 22), meta=np.ndarray>\n",
      "Attributes: (12/48)\n",
      "    Conventions:            CF-1.7 CMIP-6.2\n",
      "    activity_id:            CMIP\n",
      "    branch_method:          standard\n",
      "    branch_time_in_child:   0.0\n",
      "    branch_time_in_parent:  164359.0\n",
      "    cmor_version:           3.5.0\n",
      "    ...                     ...\n",
      "    table_info:             Creation Date:(24 July 2019) MD5:70649eeb16bc90c4...\n",
      "    title:                  EC-Earth3-Veg-LR output prepared for CMIP6\n",
      "    tracking_id:            hdl:21.14100/037c3f46-ad12-415a-bfaf-812c1bf9662f...\n",
      "    variable_id:            pr\n",
      "    variant_label:          r1i1p1f1\n",
      "    version_id:             v20200217\n"
     ]
    }
   ],
   "source": [
    "# Iterate through each matching file\n",
    "for file in matching_files:\n",
    "    print(f\"\\nReading Zarr file: {file}\")\n",
    "    \n",
    "    # Open the Zarr file using xarray\n",
    "    ds = xr.open_zarr(file, consolidated=False)  # Set consolidated=True if the dataset is consolidate\n",
    "    # get lat and lon dimensions (could be applied to booth observational pr and tas\n",
    "    target_lat = ds.lat\n",
    "    target_lon = ds.lon\n",
    "    # resample observational pr and tas\n",
    "    resampled_pr = pr.interp(lat=target_lat, lon=target_lon, method='cubic', kwargs={\"fill_value\": \"extrapolate\"})\n",
    "    resampled_ta = ta.interp(lat=target_lat, lon=target_lon, method='cubic', kwargs={\"fill_value\": \"extrapolate\"})\n",
    "\n",
    "\n",
    "\n"
   ]
  },
  {
   "cell_type": "code",
   "execution_count": 34,
   "id": "8f4ff9db-b4f5-4818-8936-5c7abb688565",
   "metadata": {},
   "outputs": [],
   "source": [
    "target_lat = ds.lat\n",
    "target_lon = ds.lon\n",
    "resampled_ds = pr.interp(lat=target_lat, lon=target_lon, method='cubic', kwargs={\"fill_value\": \"extrapolate\"})"
   ]
  },
  {
   "cell_type": "code",
   "execution_count": 22,
   "id": "48672922-e638-4ca7-825f-0571c5d186ea",
   "metadata": {},
   "outputs": [
    {
     "name": "stdout",
     "output_type": "stream",
     "text": [
      "<xarray.Dataset> Size: 19MB\n",
      "Dimensions:  (time: 23741, lat: 9, lon: 22)\n",
      "Coordinates:\n",
      "  * time     (time) datetime64[ns] 190kB 1950-01-01 1950-01-02 ... 2014-12-31\n",
      "  * lat      (lat) float64 72B 42.06 43.18 44.3 45.42 ... 48.78 49.91 51.03\n",
      "  * lon      (lon) float64 176B 6.75 7.875 9.0 10.12 ... 27.0 28.12 29.25 30.38\n",
      "Data variables:\n",
      "    prcp     (time, lat, lon) float32 19MB dask.array<chunksize=(365, 9, 22), meta=np.ndarray>\n"
     ]
    }
   ],
   "source": [
    "print(resampled_ds)"
   ]
  },
  {
   "cell_type": "code",
   "execution_count": 36,
   "id": "fd63b203-a986-4203-a2f8-90cc6f1dba80",
   "metadata": {},
   "outputs": [
    {
     "data": {
      "text/plain": [
       "<matplotlib.collections.QuadMesh at 0x2ad571deff10>"
      ]
     },
     "execution_count": 36,
     "metadata": {},
     "output_type": "execute_result"
    },
    {
     "data": {
      "image/png": "[encoded data removed]",
      "text/plain": [
       "<Figure size 640x480 with 2 Axes>"
      ]
     },
     "metadata": {},
     "output_type": "display_data"
    }
   ],
   "source": [
    "resampled_ds['prcp'].mean(dim='time').plot()"
   ]
  },
  {
   "cell_type": "code",
   "execution_count": 42,
   "id": "29b55119-a10b-4294-a8e5-3cdc106fe4ca",
   "metadata": {},
   "outputs": [
    {
     "data": {
      "text/plain": [
       "<matplotlib.collections.QuadMesh at 0x2ad570cb9fd0>"
      ]
     },
     "execution_count": 42,
     "metadata": {},
     "output_type": "execute_result"
    },
    {
     "data": {
      "image/png": "[encoded data removed]",
      "text/plain": [
       "<Figure size 640x480 with 2 Axes>"
      ]
     },
     "metadata": {},
     "output_type": "display_data"
    }
   ],
   "source": [
    "pr['pr'].mean(dim='time').plot()"
   ]
  },
  {
   "cell_type": "code",
   "execution_count": 30,
   "id": "611bf1bc-7e1b-439c-95bf-ab930a08c677",
   "metadata": {},
   "outputs": [
    {
     "name": "stdout",
     "output_type": "stream",
     "text": [
      "<xarray.Dataset> Size: 19MB\n",
      "Dimensions:    (lat: 9, bnds: 2, lon: 22, time: 23741)\n",
      "Coordinates:\n",
      "  * lat        (lat) float64 72B 42.06 43.18 44.3 45.42 ... 48.78 49.91 51.03\n",
      "    lat_bnds   (lat, bnds) float64 144B dask.array<chunksize=(9, 2), meta=np.ndarray>\n",
      "  * lon        (lon) float64 176B 6.75 7.875 9.0 10.12 ... 28.12 29.25 30.38\n",
      "    lon_bnds   (lon, bnds) float64 352B dask.array<chunksize=(22, 2), meta=np.ndarray>\n",
      "  * time       (time) datetime64[ns] 190kB 1950-01-01T12:00:00 ... 2014-12-31...\n",
      "    time_bnds  (time, bnds) datetime64[ns] 380kB dask.array<chunksize=(23741, 1), meta=np.ndarray>\n",
      "Dimensions without coordinates: bnds\n",
      "Data variables:\n",
      "    pr         (time, lat, lon) float32 19MB dask.array<chunksize=(100, 9, 22), meta=np.ndarray>\n",
      "Attributes: (12/48)\n",
      "    Conventions:            CF-1.7 CMIP-6.2\n",
      "    activity_id:            CMIP\n",
      "    branch_method:          standard\n",
      "    branch_time_in_child:   0.0\n",
      "    branch_time_in_parent:  164359.0\n",
      "    cmor_version:           3.5.0\n",
      "    ...                     ...\n",
      "    table_info:             Creation Date:(24 July 2019) MD5:70649eeb16bc90c4...\n",
      "    title:                  EC-Earth3-Veg-LR output prepared for CMIP6\n",
      "    tracking_id:            hdl:21.14100/037c3f46-ad12-415a-bfaf-812c1bf9662f...\n",
      "    variable_id:            pr\n",
      "    variant_label:          r1i1p1f1\n",
      "    version_id:             v20200217\n",
      "<xarray.Dataset> Size: 387MB\n",
      "Dimensions:  (lon: 97, lat: 42, time: 23741)\n",
      "Coordinates:\n",
      "  * lon      (lon) float64 776B 6.875 7.125 7.375 7.625 ... 30.38 30.62 30.88\n",
      "  * lat      (lat) float64 336B 41.12 41.38 41.62 41.88 ... 50.88 51.12 51.38\n",
      "  * time     (time) datetime64[ns] 190kB 1950-01-01 1950-01-02 ... 2014-12-31\n",
      "Data variables:\n",
      "    tas      (time, lat, lon) float32 387MB dask.array<chunksize=(365, 42, 97), meta=np.ndarray>\n",
      "<xarray.Dataset> Size: 19MB\n",
      "Dimensions:  (time: 23741, lat: 9, lon: 22)\n",
      "Coordinates:\n",
      "  * time     (time) datetime64[ns] 190kB 1950-01-01 1950-01-02 ... 2014-12-31\n",
      "  * lat      (lat) float64 72B 42.06 43.18 44.3 45.42 ... 48.78 49.91 51.03\n",
      "  * lon      (lon) float64 176B 6.75 7.875 9.0 10.12 ... 27.0 28.12 29.25 30.38\n",
      "Data variables:\n",
      "    prcp     (time, lat, lon) float32 19MB dask.array<chunksize=(365, 9, 22), meta=np.ndarray>\n"
     ]
    }
   ],
   "source": [
    "print(ds)\n",
    "print(ta)\n",
    "print(resampled_ds)\n"
   ]
  },
  {
   "cell_type": "code",
   "execution_count": null,
   "id": "a5554018-b8e3-46f7-9e06-3fef5f23b501",
   "metadata": {},
   "outputs": [],
   "source": [
    "file = \"../../cristi/a/downscaled_data/cmip6/raw/zarr/RO_CMIP6_raw/CNRM-ESM2-1/historical/r1i1p1f2/pr/pr_day_CNRM-ESM2-1_historical_r1i1p1f2_gr_1950_2014_rou.zarr\"\n",
    "cmip6 = xr.open_zarr(file, consolidated=True)\n",
    "# Assume 'pr' is the variable of interest\n",
    "cmip6['pr'].mean(dim='time').plot()"
   ]
  }
 ],
 "metadata": {
  "kernelspec": {
   "display_name": "Python 3 (ipykernel)",
   "language": "python",
   "name": "python3"
  },
  "language_info": {
   "codemirror_mode": {
    "name": "ipython",
    "version": 3
   },
   "file_extension": ".py",
   "mimetype": "text/x-python",
   "name": "python",
   "nbconvert_exporter": "python",
   "pygments_lexer": "ipython3",
   "version": "3.10.15"
  }
 },
 "nbformat": 4,
 "nbformat_minor": 5
}
