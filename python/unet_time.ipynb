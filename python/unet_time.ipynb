{
 "cells": [
  {
   "cell_type": "code",
   "execution_count": 1,
   "id": "0d08d994-b39c-4c60-9bca-276262473d69",
   "metadata": {
    "scrolled": true
   },
   "outputs": [
    {
     "name": "stderr",
     "output_type": "stream",
     "text": [
      "2024-11-05 16:40:36.282644: E external/local_xla/xla/stream_executor/cuda/cuda_fft.cc:477] Unable to register cuFFT factory: Attempting to register factory for plugin cuFFT when one has already been registered\n",
      "WARNING: All log messages before absl::InitializeLog() is called are written to STDERR\n",
      "E0000 00:00:1730846436.301471   19307 cuda_dnn.cc:8310] Unable to register cuDNN factory: Attempting to register factory for plugin cuDNN when one has already been registered\n",
      "E0000 00:00:1730846436.307089   19307 cuda_blas.cc:1418] Unable to register cuBLAS factory: Attempting to register factory for plugin cuBLAS when one has already been registered\n",
      "2024-11-05 16:40:40.816660: W external/xla/xla/service/gpu/nvptx_compiler.cc:763] The NVIDIA driver's CUDA version is 12.3 which is older than the ptxas CUDA version (12.6.77). Because the driver is older than the ptxas version, XLA is disabling parallel compilation, which may slow down compilation. You should update your NVIDIA driver or use the NVIDIA-provided CUDA forward compatibility packages.\n"
     ]
    }
   ],
   "source": [
    "import os\n",
    "os.environ[\"KERAS_BACKEND\"] = \"jax\"\n",
    "import keras\n",
    "from keras import layers\n",
    "import numpy as np\n",
    "import pandas as pd\n",
    "import xarray as xr\n",
    "import zarr\n",
    "from keras.callbacks import EarlyStopping\n",
    "import matplotlib.pyplot as plt\n",
    "import random\n",
    "import jax\n",
    "import tensorflow as tf\n",
    "from tqdm import tqdm\n",
    "import jax.numpy as jnp\n",
    "from jax import grad, jit, vmap\n",
    "from utils.utils_temp_spat_grad import ClimateDownscalingLossJAX\n",
    "from utils.funs import is_leap_year, compute_day_of_year, compute_year_progress, compute_sin_cos_year_progress, normalize_to_unit_interval \n",
    "\n",
    "# Set seed for reproducibility\n",
    "SEED = 42\n",
    "random.seed(SEED)\n",
    "np.random.seed(SEED)\n",
    "tf.random.set_seed(SEED)\n",
    "jax.config.update('jax_enable_x64', True)\n",
    "jax.random.PRNGKey(SEED)\n",
    "\n",
    "\n",
    "# Set the working directory\n",
    "os.chdir('/data/keeling/a/ad87/downscale')"
   ]
  },
  {
   "cell_type": "markdown",
   "id": "2bf0b9e2-b31a-45e6-9a40-390595e76247",
   "metadata": {},
   "source": [
    "#### Data Handling: load and resample data\n",
    "We will load the CMIP6 data and the GMFD observational data. We’ll resample the GMFD data to the CMIP6 resolution (e.g., ~100 km) to use as the target during training.\n",
    "\n"
   ]
  },
  {
   "cell_type": "code",
   "execution_count": 2,
   "id": "bd37a02c-31f7-4817-b31f-9a8e432f431a",
   "metadata": {},
   "outputs": [],
   "source": [
    "# Load the CMIP6 raw data (predictor variables)\n",
    "cmip6_data_path = '/data/cristi/a/cristi/downscaled_data/cmip6/raw/zarr/RO_CMIP6_raw/CNRM-ESM2-1/historical/r1i1p1f2/tas/tas_day_CNRM-ESM2-1_historical_r1i1p1f2_gr_1950_2014_rou.zarr'\n",
    "cmip6_data = xr.open_zarr(cmip6_data_path)\n",
    "\n",
    "# Load the GMFD reference observational data (target variable)\n",
    "gmfd_data_path = '/data/keeling/a/cristi/a/downscaled_data/gmfd/ncs/ro'\n",
    "gmfd_files = [f'{gmfd_data_path}/tas_daily_ro_{year}.nc' for year in range(1950, 2015)]\n",
    "gmfd_data = xr.open_mfdataset(gmfd_files, combine='by_coords')\n",
    "\n",
    "# Resample  CMIP6 to GMFD resolution (~25 km)\n",
    "target_lat = gmfd_data.lat\n",
    "target_lon = gmfd_data.lon\n",
    "cmip6_high_res = cmip6_data.interp(lat=target_lat, lon=target_lon, method='cubic', kwargs={\"fill_value\": \"extrapolate\"})\n",
    "\n",
    "\n",
    "# Normalize the data (standardization)\n",
    "def normalize(data):\n",
    "    mean = data.mean().compute().item()\n",
    "    std = data.std().compute().item()\n",
    "    return (data - mean) / std\n",
    "\n",
    "cmip6_data_norm = normalize(cmip6_high_res['tas'])\n",
    "gmfd_data_norm = normalize(gmfd_data['tas'])\n",
    "\n",
    "# Convert data to NumPy arrays for use in Keras\n",
    "cmip6_train = cmip6_data_norm.values\n",
    "gmfd_train = gmfd_data_norm.values"
   ]
  },
  {
   "cell_type": "markdown",
   "id": "d3a13c93-21e7-4960-9210-eaf6b3d7e6e6",
   "metadata": {},
   "source": [
    "#### Add covariates\n",
    "Add the sine and cosine of the of year progress (normalized to [0,1])."
   ]
  },
  {
   "cell_type": "code",
   "execution_count": 3,
   "id": "9793c3be-8ebe-4ac2-9bb0-11a5fa7571d6",
   "metadata": {},
   "outputs": [],
   "source": [
    "# Assuming compute_year_progress, compute_sin_cos_year_progress, and normalize_to_unit_interval are defined\n",
    "\n",
    "# Generate the date range\n",
    "start_date = pd.Timestamp('1950-01-01')\n",
    "date_range = pd.date_range(start=start_date, periods=23741, freq='D')\n",
    "\n",
    "# Compute and normalize sine and cosine of year progress for each date\n",
    "sin_values = []\n",
    "cos_values = []\n",
    "for date in date_range:\n",
    "    year_progress = compute_year_progress(date)\n",
    "    sin_progress, cos_progress = compute_sin_cos_year_progress(year_progress)\n",
    "    \n",
    "    # Normalize\n",
    "    sin_values.append(normalize_to_unit_interval(sin_progress))\n",
    "    cos_values.append(normalize_to_unit_interval(cos_progress))\n",
    "\n",
    "# Convert sine and cosine values to NumPy arrays\n",
    "sin_values = np.array(sin_values)  # Shape (23741,)\n",
    "cos_values = np.array(cos_values)  # Shape (23741,)\n",
    "\n",
    "# Reshape sine and cosine arrays to match the spatial dimensions of cmip6_train\n",
    "# sin_values and cos_values are (23741,)\n",
    "# We need to expand them to (23741, 42, 97, 1) to match cmip6_train\n",
    "\n",
    "# Reshape sin_values and cos_values and expand them across the spatial dimensions (42, 97)\n",
    "sin_expanded = sin_values[:, np.newaxis, np.newaxis, np.newaxis]  # Shape (23741, 1, 1, 1)\n",
    "sin_expanded = np.tile(sin_expanded, (1, 42, 97, 1))  # Shape (23741, 42, 97, 1)\n",
    "\n",
    "cos_expanded = cos_values[:, np.newaxis, np.newaxis, np.newaxis]  # Shape (23741, 1, 1, 1)\n",
    "cos_expanded = np.tile(cos_expanded, (1, 42, 97, 1))  # Shape (23741, 42, 97, 1)\n",
    "\n",
    "# Expand cmip6_train along the last dimension to add an extra channel\n",
    "# cmip6_train originally has shape (23741, 42, 97), we want to make it (23741, 42, 97, 1)\n",
    "cmip6_train_expanded = cmip6_train[:, :, :, np.newaxis]  # Shape (23741, 42, 97, 1)\n",
    "gmfd_train_expanded = gmfd_train[:, :, :, np.newaxis]  # Shape (23741, 42, 97, 1)\n",
    "\n",
    "# Now cmip6_train_expanded, sin_expanded, and cos_expanded all have shape (23741, 42, 97, 1)\n",
    "# Concatenate along the last dimension to get a shape of (23741, 42, 97, 3)\n",
    "cmip6_train_expanded = np.concatenate([cmip6_train_expanded, sin_expanded, cos_expanded], axis=-1)\n",
    "gmfd_train_expanded = np.concatenate([gmfd_train_expanded, sin_expanded, cos_expanded], axis=-1)\n",
    "\n"
   ]
  },
  {
   "cell_type": "markdown",
   "id": "40f1f081-cc7c-4180-91a7-6c03f40ab38a",
   "metadata": {},
   "source": [
    "#### Build the UNet Model (Keras with JAX Backend)\n",
    "Now let's define a simple UNet model using Keras with JAX backend. Our model will take the coarse-resolution CMIP6 data and predict the high-resolution GMFD data.\n",
    "\n"
   ]
  },
  {
   "cell_type": "code",
   "execution_count": 21,
   "id": "c4235968-0412-43be-9c5f-d69af71b3dd6",
   "metadata": {},
   "outputs": [],
   "source": [
    "def climate_unet(input_shape=(42, 97, 3), n_filters=64):\n",
    "    \"\"\"\n",
    "    Enhanced U-Net architecture for climate downscaling with:\n",
    "        - Squeeze-and-Excitation blocks for better feature recalibration\n",
    "        - Multi-scale feature fusion\n",
    "        - Dilated convolutions in bottleneck\n",
    "        - Improved attention mechanisms\n",
    "        - Deeper feature extraction\n",
    "        - Additional regularization techniques\n",
    "    \"\"\"\n",
    "    from tensorflow import keras\n",
    "    from tensorflow.keras import layers\n",
    "    import tensorflow as tf\n",
    "    \n",
    "    inputs = keras.Input(shape=input_shape)\n",
    "    \n",
    "    # Initial processing with multi-scale input\n",
    "    x = layers.BatchNormalization()(inputs)\n",
    "    \n",
    "    def squeeze_excite_block(input_tensor, ratio=16):\n",
    "        \"\"\"Squeeze and Excitation block for channel attention\"\"\"\n",
    "        channels = input_tensor.shape[-1]\n",
    "        squeeze = layers.GlobalAveragePooling2D()(input_tensor)\n",
    "        \n",
    "        excitation = layers.Dense(channels // ratio, activation='relu')(squeeze)\n",
    "        excitation = layers.Dense(channels, activation='sigmoid')(excitation)\n",
    "        excitation = layers.Reshape((1, 1, channels))(excitation)\n",
    "        \n",
    "        scale = layers.multiply([input_tensor, excitation])\n",
    "        return scale\n",
    "    \n",
    "    def enhanced_conv_block(x, filters, kernel_size=3, dilation_rate=1):\n",
    "        \"\"\"Enhanced convolution block with improved feature extraction\"\"\"\n",
    "        conv = layers.Conv2D(filters, kernel_size, padding='same', \n",
    "                           dilation_rate=dilation_rate)(x)\n",
    "        conv = layers.LeakyReLU(negative_slope=0.2)(conv)  # Updated parameter name\n",
    "        conv = layers.BatchNormalization()(conv)\n",
    "        return conv\n",
    "    \n",
    "    def encoder_block(x, filters, dropout_rate=0.1):\n",
    "        # Multi-scale feature extraction\n",
    "        conv3x3 = enhanced_conv_block(x, filters)\n",
    "        conv5x5 = enhanced_conv_block(x, filters, kernel_size=5)\n",
    "        conv = layers.Concatenate()([conv3x3, conv5x5])\n",
    "        conv = layers.Conv2D(filters, 1, padding='same')(conv)  # 1x1 conv to reduce channels\n",
    "        \n",
    "        # Double conv with residual\n",
    "        conv = enhanced_conv_block(conv, filters)\n",
    "        conv = enhanced_conv_block(conv, filters)\n",
    "        \n",
    "        # Residual connection\n",
    "        res = layers.Conv2D(filters, 1, padding='same')(x)\n",
    "        conv = layers.Add()([conv, res])\n",
    "        \n",
    "        # Squeeze and Excitation\n",
    "        conv = squeeze_excite_block(conv)\n",
    "        \n",
    "        # Spatial attention\n",
    "        spatial_attention = layers.Conv2D(1, 7, padding='same', activation='sigmoid')(conv)\n",
    "        conv = layers.multiply([conv, spatial_attention])\n",
    "        \n",
    "        conv = layers.SpatialDropout2D(dropout_rate)(conv)\n",
    "        pool = layers.MaxPooling2D(pool_size=(2, 2))(conv)\n",
    "        \n",
    "        return conv, pool\n",
    "    \n",
    "    # Encoder path with progressive feature growth\n",
    "    conv1, pool1 = encoder_block(x, n_filters)\n",
    "    conv2, pool2 = encoder_block(pool1, n_filters*2)\n",
    "    conv3, pool3 = encoder_block(pool2, n_filters*4)\n",
    "    conv4, pool4 = encoder_block(pool3, n_filters*8)\n",
    "    \n",
    "    # Enhanced middle block with dilated convolutions\n",
    "    mid = enhanced_conv_block(pool4, n_filters*16, dilation_rate=2)\n",
    "    mid = enhanced_conv_block(mid, n_filters*16, dilation_rate=4)\n",
    "    mid = enhanced_conv_block(mid, n_filters*16, dilation_rate=8)\n",
    "    mid = layers.SpatialDropout2D(0.3)(mid)\n",
    "    \n",
    "    def decoder_block(x, skip_connection, filters, dropout_rate=0.1):\n",
    "        # Upsampling with learnable parameters\n",
    "        up = layers.Conv2DTranspose(filters, 3, strides=2, padding='same')(x)\n",
    "        \n",
    "        # Handle size mismatches\n",
    "        if up.shape[1] != skip_connection.shape[1] or up.shape[2] != skip_connection.shape[2]:\n",
    "            up = layers.Resizing(skip_connection.shape[1], skip_connection.shape[2])(up)\n",
    "        \n",
    "        # Multi-scale skip connection processing\n",
    "        skip_proc = enhanced_conv_block(skip_connection, filters)\n",
    "        concat = layers.concatenate([up, skip_proc])\n",
    "        \n",
    "        # Enhanced decoding path\n",
    "        conv = enhanced_conv_block(concat, filters)\n",
    "        conv = enhanced_conv_block(conv, filters)\n",
    "        \n",
    "        # Residual connection\n",
    "        res = layers.Conv2D(filters, 1, padding='same')(concat)\n",
    "        conv = layers.Add()([conv, res])\n",
    "        \n",
    "        # Squeeze and Excitation\n",
    "        conv = squeeze_excite_block(conv)\n",
    "        \n",
    "        conv = layers.SpatialDropout2D(dropout_rate)(conv)\n",
    "        return conv\n",
    "    \n",
    "    # Decoder path with skip connections\n",
    "    up4 = decoder_block(mid, conv4, n_filters*8)\n",
    "    up3 = decoder_block(up4, conv3, n_filters*4)\n",
    "    up2 = decoder_block(up3, conv2, n_filters*2)\n",
    "    up1 = decoder_block(up2, conv1, n_filters)\n",
    "    \n",
    "    # Enhanced final convolution blocks\n",
    "    final = enhanced_conv_block(up1, n_filters)\n",
    "    final = enhanced_conv_block(final, n_filters)\n",
    "    final = squeeze_excite_block(final)\n",
    "    \n",
    "    # Multi-scale output fusion (modified for 3 channels)\n",
    "    output_1 = layers.Conv2D(3, 1, padding='same')(final)  # Changed to 3 channels\n",
    "    output_3 = layers.Conv2D(3, 3, padding='same')(final)  # Changed to 3 channels\n",
    "    output_5 = layers.Conv2D(3, 5, padding='same')(final)  # Changed to 3 channels\n",
    "    output_fusion = layers.Average()([output_1, output_3, output_5])\n",
    "    \n",
    "    # Residual connection from input (maintaining 3 channels)\n",
    "    outputs = layers.Add()([output_fusion, inputs])\n",
    "    \n",
    "    # Final scale calibration with 3 channels\n",
    "    outputs = layers.Conv2D(3, 1, activation='linear', padding='same')(outputs)\n",
    "    \n",
    "    model = keras.Model(inputs=inputs, outputs=outputs)\n",
    "    return model\n",
    "\n",
    "# Example usage:\n",
    "input_shape = (42, 97, 3)\n",
    "model = climate_unet(input_shape)"
   ]
  },
  {
   "cell_type": "markdown",
   "id": "bed9a991-7308-4312-b209-c3fdc9c8c589",
   "metadata": {},
   "source": [
    "#### Split the data\n",
    "Train set: The first portion of the time period (e.g., 60% of the time series).\n",
    "Validation set: The next portion of the time series (e.g., the following 20% of the time series).\n",
    "Test set: The final portion of the time series (e.g., the last 20%): "
   ]
  },
  {
   "cell_type": "code",
   "execution_count": 22,
   "id": "c96fba81-bb74-4138-8fb9-34acc93ea69a",
   "metadata": {
    "scrolled": true
   },
   "outputs": [
    {
     "name": "stdout",
     "output_type": "stream",
     "text": [
      "Training shapes: (16618, 42, 97, 3) (16618, 42, 97, 3)\n",
      "Validation shapes: (3561, 42, 97, 3) (3561, 42, 97, 3)\n",
      "Testing shapes: (3562, 42, 97, 3) (3562, 42, 97, 3)\n"
     ]
    }
   ],
   "source": [
    "# The data already has channels, so no need to add a new dimension\n",
    "cmip6_train_reshaped = cmip6_train_expanded  # Shape: (23741, 42, 97, 3)\n",
    "gmfd_train_reshaped = gmfd_train_expanded    # Shape: (23741, 42, 97, 3)\n",
    "\n",
    "# Get the total number of time steps\n",
    "n_samples = cmip6_train_reshaped.shape[0]  # 23741\n",
    "\n",
    "# Split indices based on time series order\n",
    "train_size = int(n_samples * 0.7)    # 70% for training\n",
    "val_size = int(n_samples * 0.15)     # 15% for validation\n",
    "test_size = n_samples - train_size - val_size  # 15% for test\n",
    "\n",
    "# Split the data while preserving the temporal structure\n",
    "X_train = cmip6_train_reshaped[:train_size]           # Shape: (~16618, 42, 97, 3)\n",
    "y_train = gmfd_train_reshaped[:train_size]            # Shape: (~16618, 42, 97, 3)\n",
    "\n",
    "X_val = cmip6_train_reshaped[train_size:train_size + val_size]  # Shape: (~3561, 42, 97, 3)\n",
    "y_val = gmfd_train_reshaped[train_size:train_size + val_size]   # Shape: (~3561, 42, 97, 3)\n",
    "\n",
    "X_test = cmip6_train_reshaped[train_size + val_size:]  # Shape: (~3562, 42, 97, 3)\n",
    "y_test = gmfd_train_reshaped[train_size + val_size:]   # Shape: (~3562, 42, 97, 3)\n",
    "\n",
    "# Verify the shapes\n",
    "print(\"Training shapes:\", X_train.shape, y_train.shape)\n",
    "print(\"Validation shapes:\", X_val.shape, y_val.shape)\n",
    "print(\"Testing shapes:\", X_test.shape, y_test.shape)"
   ]
  },
  {
   "cell_type": "markdown",
   "id": "94fc1cf3-8a5c-4637-bd46-3e3bad547aa9",
   "metadata": {},
   "source": [
    "#### Train the model"
   ]
  },
  {
   "cell_type": "code",
   "execution_count": 24,
   "id": "ebb2660e-5ca0-4b3b-938a-ba2c99e870be",
   "metadata": {
    "scrolled": true
   },
   "outputs": [
    {
     "name": "stderr",
     "output_type": "stream",
     "text": [
      "Training:   0%|                                                                                                   | 0/156000 [00:00<?, ?batch/s]"
     ]
    },
    {
     "name": "stdout",
     "output_type": "stream",
     "text": [
      "\n",
      "Epoch 1: val_loss improved from inf to 0.06465, saving model to models/unet_time_best_model.keras\n"
     ]
    },
    {
     "name": "stderr",
     "output_type": "stream",
     "text": [
      "Training:   0%|                       | 520/156000 [01:55<9:36:38,  4.49batch/s, epoch=1, loss=0.0970, val_loss=0.0647, mae=0.1875, lr=1.00e-03]"
     ]
    },
    {
     "name": "stdout",
     "output_type": "stream",
     "text": [
      "\n",
      "Epoch 1: val_loss did not improve from 0.06465\n"
     ]
    },
    {
     "name": "stderr",
     "output_type": "stream",
     "text": [
      "Training:   1%|▏                     | 1040/156000 [02:55<6:20:21,  6.79batch/s, epoch=2, loss=0.0751, val_loss=0.0656, mae=0.1543, lr=9.98e-04]"
     ]
    },
    {
     "name": "stdout",
     "output_type": "stream",
     "text": [
      "\n",
      "Epoch 1: val_loss improved from 0.06465 to 0.06184, saving model to models/unet_time_best_model.keras\n"
     ]
    },
    {
     "name": "stderr",
     "output_type": "stream",
     "text": [
      "Training:   1%|▏                     | 1560/156000 [03:25<4:31:17,  9.49batch/s, epoch=3, loss=0.0709, val_loss=0.0618, mae=0.1447, lr=9.96e-04]"
     ]
    },
    {
     "name": "stdout",
     "output_type": "stream",
     "text": [
      "\n",
      "Epoch 1: val_loss did not improve from 0.06184\n"
     ]
    },
    {
     "name": "stderr",
     "output_type": "stream",
     "text": [
      "Training:   1%|▎                     | 2080/156000 [03:55<3:35:23, 11.91batch/s, epoch=4, loss=0.0682, val_loss=0.0619, mae=0.1396, lr=9.93e-04]"
     ]
    },
    {
     "name": "stdout",
     "output_type": "stream",
     "text": [
      "\n",
      "Epoch 1: val_loss improved from 0.06184 to 0.06023, saving model to models/unet_time_best_model.keras\n"
     ]
    },
    {
     "name": "stderr",
     "output_type": "stream",
     "text": [
      "Training:   2%|▎                     | 2600/156000 [04:25<3:09:44, 13.47batch/s, epoch=5, loss=0.0667, val_loss=0.0602, mae=0.1363, lr=9.89e-04]"
     ]
    },
    {
     "name": "stdout",
     "output_type": "stream",
     "text": [
      "\n",
      "Epoch 1: val_loss improved from 0.06023 to 0.05916, saving model to models/unet_time_best_model.keras\n"
     ]
    },
    {
     "name": "stderr",
     "output_type": "stream",
     "text": [
      "Training:   2%|▍                     | 3120/156000 [04:55<2:52:38, 14.76batch/s, epoch=6, loss=0.0659, val_loss=0.0592, mae=0.1341, lr=9.84e-04]"
     ]
    },
    {
     "name": "stdout",
     "output_type": "stream",
     "text": [
      "\n",
      "Epoch 1: val_loss did not improve from 0.05916\n"
     ]
    },
    {
     "name": "stderr",
     "output_type": "stream",
     "text": [
      "Training:   2%|▌                     | 3640/156000 [05:15<2:37:48, 16.09batch/s, epoch=7, loss=0.0657, val_loss=0.0595, mae=0.1341, lr=9.79e-04]"
     ]
    },
    {
     "name": "stdout",
     "output_type": "stream",
     "text": [
      "\n",
      "Epoch 1: val_loss improved from 0.05916 to 0.05833, saving model to models/unet_time_best_model.keras\n"
     ]
    },
    {
     "name": "stderr",
     "output_type": "stream",
     "text": [
      "Training:   3%|▌                     | 4160/156000 [05:45<2:31:38, 16.69batch/s, epoch=8, loss=0.0648, val_loss=0.0583, mae=0.1320, lr=9.72e-04]"
     ]
    },
    {
     "name": "stdout",
     "output_type": "stream",
     "text": [
      "\n",
      "Epoch 1: val_loss improved from 0.05833 to 0.05764, saving model to models/unet_time_best_model.keras\n"
     ]
    },
    {
     "name": "stderr",
     "output_type": "stream",
     "text": [
      "Training:   3%|▋                     | 4680/156000 [06:15<2:27:22, 17.11batch/s, epoch=9, loss=0.0641, val_loss=0.0576, mae=0.1291, lr=9.65e-04]"
     ]
    },
    {
     "name": "stdout",
     "output_type": "stream",
     "text": [
      "\n",
      "Epoch 1: val_loss improved from 0.05764 to 0.05745, saving model to models/unet_time_best_model.keras\n"
     ]
    },
    {
     "name": "stderr",
     "output_type": "stream",
     "text": [
      "Training:   3%|▋                    | 5200/156000 [06:45<2:24:26, 17.40batch/s, epoch=10, loss=0.0640, val_loss=0.0574, mae=0.1287, lr=9.57e-04]"
     ]
    },
    {
     "name": "stdout",
     "output_type": "stream",
     "text": [
      "\n",
      "Epoch 1: val_loss improved from 0.05745 to 0.05713, saving model to models/unet_time_best_model.keras\n"
     ]
    },
    {
     "name": "stderr",
     "output_type": "stream",
     "text": [
      "Training:   4%|▊                    | 5720/156000 [07:15<2:22:05, 17.63batch/s, epoch=11, loss=0.0631, val_loss=0.0571, mae=0.1264, lr=9.48e-04]"
     ]
    },
    {
     "name": "stdout",
     "output_type": "stream",
     "text": [
      "\n",
      "Epoch 1: val_loss did not improve from 0.05713\n"
     ]
    },
    {
     "name": "stderr",
     "output_type": "stream",
     "text": [
      "Training:   4%|▊                    | 6240/156000 [07:45<2:18:08, 18.07batch/s, epoch=12, loss=0.0629, val_loss=0.0583, mae=0.1260, lr=9.38e-04]"
     ]
    },
    {
     "name": "stdout",
     "output_type": "stream",
     "text": [
      "\n",
      "Epoch 1: val_loss did not improve from 0.05713\n"
     ]
    },
    {
     "name": "stderr",
     "output_type": "stream",
     "text": [
      "Training:   4%|▉                    | 6760/156000 [08:05<2:14:06, 18.55batch/s, epoch=13, loss=0.0628, val_loss=0.0578, mae=0.1254, lr=9.28e-04]"
     ]
    },
    {
     "name": "stdout",
     "output_type": "stream",
     "text": [
      "\n",
      "Epoch 1: val_loss did not improve from 0.05713\n"
     ]
    },
    {
     "name": "stderr",
     "output_type": "stream",
     "text": [
      "Training:   5%|▉                    | 7280/156000 [08:35<2:11:08, 18.90batch/s, epoch=14, loss=0.0627, val_loss=0.0585, mae=0.1244, lr=9.16e-04]"
     ]
    },
    {
     "name": "stdout",
     "output_type": "stream",
     "text": [
      "\n",
      "Epoch 1: val_loss did not improve from 0.05713\n"
     ]
    },
    {
     "name": "stderr",
     "output_type": "stream",
     "text": [
      "Training:   5%|█                    | 7800/156000 [09:05<2:08:53, 19.16batch/s, epoch=15, loss=0.0622, val_loss=0.0599, mae=0.1245, lr=9.05e-04]"
     ]
    },
    {
     "name": "stdout",
     "output_type": "stream",
     "text": [
      "\n",
      "Epoch 1: val_loss did not improve from 0.05713\n"
     ]
    },
    {
     "name": "stderr",
     "output_type": "stream",
     "text": [
      "Training:   5%|█                    | 8320/156000 [09:25<2:07:06, 19.36batch/s, epoch=16, loss=0.0620, val_loss=0.0580, mae=0.1233, lr=8.92e-04]"
     ]
    },
    {
     "name": "stdout",
     "output_type": "stream",
     "text": [
      "\n",
      "Epoch 1: val_loss did not improve from 0.05713\n"
     ]
    },
    {
     "name": "stderr",
     "output_type": "stream",
     "text": [
      "Training:   6%|█▏                   | 8840/156000 [09:55<2:05:41, 19.51batch/s, epoch=17, loss=0.0618, val_loss=0.0591, mae=0.1228, lr=8.78e-04]"
     ]
    },
    {
     "name": "stdout",
     "output_type": "stream",
     "text": [
      "\n",
      "Epoch 1: val_loss improved from 0.05713 to 0.05685, saving model to models/unet_time_best_model.keras\n"
     ]
    },
    {
     "name": "stderr",
     "output_type": "stream",
     "text": [
      "Training:   6%|█▎                   | 9360/156000 [10:25<2:08:09, 19.07batch/s, epoch=18, loss=0.0620, val_loss=0.0568, mae=0.1230, lr=8.64e-04]"
     ]
    },
    {
     "name": "stdout",
     "output_type": "stream",
     "text": [
      "\n",
      "Epoch 1: val_loss did not improve from 0.05685\n"
     ]
    },
    {
     "name": "stderr",
     "output_type": "stream",
     "text": [
      "Training:   6%|█▎                   | 9880/156000 [10:45<2:06:36, 19.24batch/s, epoch=19, loss=0.0615, val_loss=0.0575, mae=0.1215, lr=8.50e-04]"
     ]
    },
    {
     "name": "stdout",
     "output_type": "stream",
     "text": [
      "\n",
      "Epoch 1: val_loss did not improve from 0.05685\n"
     ]
    },
    {
     "name": "stderr",
     "output_type": "stream",
     "text": [
      "Training:   7%|█▎                  | 10400/156000 [11:15<2:07:19, 19.06batch/s, epoch=20, loss=0.0615, val_loss=0.0569, mae=0.1218, lr=8.35e-04]"
     ]
    },
    {
     "name": "stdout",
     "output_type": "stream",
     "text": [
      "\n",
      "Epoch 1: val_loss improved from 0.05685 to 0.05662, saving model to models/unet_time_best_model.keras\n"
     ]
    },
    {
     "name": "stderr",
     "output_type": "stream",
     "text": [
      "Training:   7%|█▍                  | 10920/156000 [11:45<2:08:44, 18.78batch/s, epoch=21, loss=0.0612, val_loss=0.0566, mae=0.1209, lr=8.19e-04]"
     ]
    },
    {
     "name": "stdout",
     "output_type": "stream",
     "text": [
      "\n",
      "Epoch 1: val_loss did not improve from 0.05662\n"
     ]
    },
    {
     "name": "stderr",
     "output_type": "stream",
     "text": [
      "Training:   7%|█▍                  | 11440/156000 [12:15<2:06:21, 19.07batch/s, epoch=22, loss=0.0611, val_loss=0.0575, mae=0.1207, lr=8.02e-04]"
     ]
    },
    {
     "name": "stdout",
     "output_type": "stream",
     "text": [
      "\n",
      "Epoch 1: val_loss did not improve from 0.05662\n"
     ]
    },
    {
     "name": "stderr",
     "output_type": "stream",
     "text": [
      "Training:   8%|█▌                  | 11960/156000 [12:35<2:04:27, 19.29batch/s, epoch=23, loss=0.0610, val_loss=0.0573, mae=0.1201, lr=7.85e-04]"
     ]
    },
    {
     "name": "stdout",
     "output_type": "stream",
     "text": [
      "\n",
      "Epoch 1: val_loss did not improve from 0.05662\n"
     ]
    },
    {
     "name": "stderr",
     "output_type": "stream",
     "text": [
      "Training:   8%|█▌                  | 12480/156000 [13:05<2:03:06, 19.43batch/s, epoch=24, loss=0.0610, val_loss=0.0567, mae=0.1204, lr=7.68e-04]"
     ]
    },
    {
     "name": "stdout",
     "output_type": "stream",
     "text": [
      "\n",
      "Epoch 1: val_loss did not improve from 0.05662\n"
     ]
    },
    {
     "name": "stderr",
     "output_type": "stream",
     "text": [
      "Training:   8%|█▋                  | 13000/156000 [13:25<2:02:23, 19.47batch/s, epoch=25, loss=0.0608, val_loss=0.0571, mae=0.1197, lr=7.50e-04]"
     ]
    },
    {
     "name": "stdout",
     "output_type": "stream",
     "text": [
      "\n",
      "Epoch 1: val_loss did not improve from 0.05662\n"
     ]
    },
    {
     "name": "stderr",
     "output_type": "stream",
     "text": [
      "Training:   9%|█▋                  | 13520/156000 [13:55<2:01:17, 19.58batch/s, epoch=26, loss=0.0606, val_loss=0.0567, mae=0.1195, lr=7.32e-04]"
     ]
    },
    {
     "name": "stdout",
     "output_type": "stream",
     "text": [
      "\n",
      "Epoch 1: val_loss did not improve from 0.05662\n"
     ]
    },
    {
     "name": "stderr",
     "output_type": "stream",
     "text": [
      "Training:   9%|█▊                  | 14040/156000 [14:25<2:00:42, 19.60batch/s, epoch=27, loss=0.0606, val_loss=0.0573, mae=0.1195, lr=7.13e-04]"
     ]
    },
    {
     "name": "stdout",
     "output_type": "stream",
     "text": [
      "\n",
      "Epoch 1: val_loss improved from 0.05662 to 0.05641, saving model to models/unet_time_best_model.keras\n"
     ]
    },
    {
     "name": "stderr",
     "output_type": "stream",
     "text": [
      "Training:   9%|█▊                  | 14560/156000 [14:55<2:04:08, 18.99batch/s, epoch=28, loss=0.0605, val_loss=0.0564, mae=0.1193, lr=6.94e-04]"
     ]
    },
    {
     "name": "stdout",
     "output_type": "stream",
     "text": [
      "\n",
      "Epoch 1: val_loss improved from 0.05641 to 0.05619, saving model to models/unet_time_best_model.keras\n"
     ]
    },
    {
     "name": "stderr",
     "output_type": "stream",
     "text": [
      "Training:  10%|█▉                  | 15080/156000 [15:25<2:05:25, 18.73batch/s, epoch=29, loss=0.0605, val_loss=0.0562, mae=0.1195, lr=6.74e-04]"
     ]
    },
    {
     "name": "stdout",
     "output_type": "stream",
     "text": [
      "\n",
      "Epoch 1: val_loss did not improve from 0.05619\n"
     ]
    },
    {
     "name": "stderr",
     "output_type": "stream",
     "text": [
      "Training:  10%|██                  | 15600/156000 [15:45<2:03:15, 18.98batch/s, epoch=30, loss=0.0605, val_loss=0.0573, mae=0.1192, lr=6.55e-04]"
     ]
    },
    {
     "name": "stdout",
     "output_type": "stream",
     "text": [
      "\n",
      "Epoch 1: val_loss did not improve from 0.05619\n"
     ]
    },
    {
     "name": "stderr",
     "output_type": "stream",
     "text": [
      "Training:  10%|██                  | 16120/156000 [16:15<2:01:28, 19.19batch/s, epoch=31, loss=0.0603, val_loss=0.0565, mae=0.1184, lr=6.34e-04]"
     ]
    },
    {
     "name": "stdout",
     "output_type": "stream",
     "text": [
      "\n",
      "Epoch 1: val_loss did not improve from 0.05619\n"
     ]
    },
    {
     "name": "stderr",
     "output_type": "stream",
     "text": [
      "Training:  11%|██▏                 | 16640/156000 [16:35<2:00:02, 19.35batch/s, epoch=32, loss=0.0603, val_loss=0.0568, mae=0.1186, lr=6.14e-04]"
     ]
    },
    {
     "name": "stdout",
     "output_type": "stream",
     "text": [
      "\n",
      "Epoch 1: val_loss did not improve from 0.05619\n"
     ]
    },
    {
     "name": "stderr",
     "output_type": "stream",
     "text": [
      "Training:  11%|██▏                 | 17160/156000 [17:05<1:58:36, 19.51batch/s, epoch=33, loss=0.0602, val_loss=0.0566, mae=0.1180, lr=5.94e-04]"
     ]
    },
    {
     "name": "stdout",
     "output_type": "stream",
     "text": [
      "\n",
      "Epoch 1: val_loss improved from 0.05619 to 0.05616, saving model to models/unet_time_best_model.keras\n"
     ]
    },
    {
     "name": "stderr",
     "output_type": "stream",
     "text": [
      "Training:  11%|██▎                 | 17680/156000 [17:35<2:00:28, 19.13batch/s, epoch=34, loss=0.0601, val_loss=0.0562, mae=0.1177, lr=5.73e-04]"
     ]
    },
    {
     "name": "stdout",
     "output_type": "stream",
     "text": [
      "\n",
      "Epoch 1: val_loss did not improve from 0.05616\n"
     ]
    },
    {
     "name": "stderr",
     "output_type": "stream",
     "text": [
      "Training:  12%|██▎                 | 18200/156000 [18:05<1:59:52, 19.16batch/s, epoch=35, loss=0.0599, val_loss=0.0565, mae=0.1173, lr=5.52e-04]"
     ]
    },
    {
     "name": "stdout",
     "output_type": "stream",
     "text": [
      "\n",
      "Epoch 1: val_loss improved from 0.05616 to 0.05605, saving model to models/unet_time_best_model.keras\n"
     ]
    },
    {
     "name": "stderr",
     "output_type": "stream",
     "text": [
      "Training:  12%|██▍                 | 18720/156000 [18:25<2:01:01, 18.91batch/s, epoch=36, loss=0.0598, val_loss=0.0561, mae=0.1171, lr=5.31e-04]"
     ]
    },
    {
     "name": "stdout",
     "output_type": "stream",
     "text": [
      "\n",
      "Epoch 1: val_loss did not improve from 0.05605\n"
     ]
    },
    {
     "name": "stderr",
     "output_type": "stream",
     "text": [
      "Training:  12%|██▍                 | 19240/156000 [18:55<1:59:33, 19.06batch/s, epoch=37, loss=0.0597, val_loss=0.0566, mae=0.1169, lr=5.10e-04]"
     ]
    },
    {
     "name": "stdout",
     "output_type": "stream",
     "text": [
      "\n",
      "Epoch 1: val_loss did not improve from 0.05605\n"
     ]
    },
    {
     "name": "stderr",
     "output_type": "stream",
     "text": [
      "Training:  13%|██▌                 | 19760/156000 [19:25<1:57:46, 19.28batch/s, epoch=38, loss=0.0597, val_loss=0.0568, mae=0.1168, lr=4.90e-04]"
     ]
    },
    {
     "name": "stdout",
     "output_type": "stream",
     "text": [
      "\n",
      "Epoch 1: val_loss did not improve from 0.05605\n"
     ]
    },
    {
     "name": "stderr",
     "output_type": "stream",
     "text": [
      "Training:  13%|██▌                 | 20280/156000 [19:45<1:56:24, 19.43batch/s, epoch=39, loss=0.0597, val_loss=0.0561, mae=0.1168, lr=4.69e-04]"
     ]
    },
    {
     "name": "stdout",
     "output_type": "stream",
     "text": [
      "\n",
      "Epoch 1: val_loss did not improve from 0.05605\n"
     ]
    },
    {
     "name": "stderr",
     "output_type": "stream",
     "text": [
      "Training:  13%|██▋                 | 20800/156000 [20:15<1:55:07, 19.57batch/s, epoch=40, loss=0.0597, val_loss=0.0567, mae=0.1172, lr=4.48e-04]"
     ]
    },
    {
     "name": "stdout",
     "output_type": "stream",
     "text": [
      "\n",
      "Epoch 1: val_loss did not improve from 0.05605\n"
     ]
    },
    {
     "name": "stderr",
     "output_type": "stream",
     "text": [
      "Training:  14%|██▋                 | 21320/156000 [20:45<1:54:07, 19.67batch/s, epoch=41, loss=0.0596, val_loss=0.0566, mae=0.1166, lr=4.27e-04]"
     ]
    },
    {
     "name": "stdout",
     "output_type": "stream",
     "text": [
      "\n",
      "Epoch 1: val_loss did not improve from 0.05605\n"
     ]
    },
    {
     "name": "stderr",
     "output_type": "stream",
     "text": [
      "Training:  14%|██▊                 | 21840/156000 [21:19<2:10:57, 17.07batch/s, epoch=42, loss=0.0594, val_loss=0.0564, mae=0.1161, lr=4.06e-04]\n"
     ]
    },
    {
     "ename": "KeyboardInterrupt",
     "evalue": "",
     "output_type": "error",
     "traceback": [
      "\u001b[0;31m---------------------------------------------------------------------------\u001b[0m",
      "\u001b[0;31mKeyboardInterrupt\u001b[0m                         Traceback (most recent call last)",
      "Cell \u001b[0;32mIn[24], line 109\u001b[0m\n\u001b[1;32m    106\u001b[0m \u001b[38;5;28;01mwith\u001b[39;00m tqdm(total\u001b[38;5;241m=\u001b[39mtotal_batches, desc\u001b[38;5;241m=\u001b[39m\u001b[38;5;124m'\u001b[39m\u001b[38;5;124mTraining\u001b[39m\u001b[38;5;124m'\u001b[39m, unit\u001b[38;5;241m=\u001b[39m\u001b[38;5;124m'\u001b[39m\u001b[38;5;124mbatch\u001b[39m\u001b[38;5;124m'\u001b[39m) \u001b[38;5;28;01mas\u001b[39;00m pbar:\n\u001b[1;32m    107\u001b[0m     \u001b[38;5;28;01mfor\u001b[39;00m epoch \u001b[38;5;129;01min\u001b[39;00m \u001b[38;5;28mrange\u001b[39m(epochs):\n\u001b[1;32m    108\u001b[0m         \u001b[38;5;66;03m# Training epoch\u001b[39;00m\n\u001b[0;32m--> 109\u001b[0m         history_epoch \u001b[38;5;241m=\u001b[39m \u001b[43mmodel\u001b[49m\u001b[38;5;241;43m.\u001b[39;49m\u001b[43mfit\u001b[49m\u001b[43m(\u001b[49m\n\u001b[1;32m    110\u001b[0m \u001b[43m            \u001b[49m\u001b[43mX_train\u001b[49m\u001b[43m,\u001b[49m\u001b[43m \u001b[49m\u001b[43my_train\u001b[49m\u001b[43m,\u001b[49m\n\u001b[1;32m    111\u001b[0m \u001b[43m            \u001b[49m\u001b[43mvalidation_data\u001b[49m\u001b[38;5;241;43m=\u001b[39;49m\u001b[43m(\u001b[49m\u001b[43mX_val\u001b[49m\u001b[43m,\u001b[49m\u001b[43m \u001b[49m\u001b[43my_val\u001b[49m\u001b[43m)\u001b[49m\u001b[43m,\u001b[49m\n\u001b[1;32m    112\u001b[0m \u001b[43m            \u001b[49m\u001b[43mepochs\u001b[49m\u001b[38;5;241;43m=\u001b[39;49m\u001b[38;5;241;43m1\u001b[39;49m\u001b[43m,\u001b[49m\n\u001b[1;32m    113\u001b[0m \u001b[43m            \u001b[49m\u001b[43mbatch_size\u001b[49m\u001b[38;5;241;43m=\u001b[39;49m\u001b[43mbatch_size\u001b[49m\u001b[43m,\u001b[49m\n\u001b[1;32m    114\u001b[0m \u001b[43m            \u001b[49m\u001b[43mcallbacks\u001b[49m\u001b[38;5;241;43m=\u001b[39;49m\u001b[43mcallbacks\u001b[49m\u001b[43m,\u001b[49m\n\u001b[1;32m    115\u001b[0m \u001b[43m            \u001b[49m\u001b[43mverbose\u001b[49m\u001b[38;5;241;43m=\u001b[39;49m\u001b[38;5;241;43m0\u001b[39;49m\u001b[43m,\u001b[49m\n\u001b[1;32m    116\u001b[0m \u001b[43m            \u001b[49m\u001b[43mshuffle\u001b[49m\u001b[43m \u001b[49m\u001b[38;5;241;43m=\u001b[39;49m\u001b[43m \u001b[49m\u001b[38;5;28;43;01mTrue\u001b[39;49;00m\n\u001b[1;32m    117\u001b[0m \u001b[43m        \u001b[49m\u001b[43m)\u001b[49m\n\u001b[1;32m    119\u001b[0m         \u001b[38;5;66;03m# Update history\u001b[39;00m\n\u001b[1;32m    120\u001b[0m         \u001b[38;5;28;01mfor\u001b[39;00m key \u001b[38;5;129;01min\u001b[39;00m history_epoch\u001b[38;5;241m.\u001b[39mhistory:\n",
      "File \u001b[0;32m~/miniconda3/envs/ml/lib/python3.10/site-packages/keras/src/utils/traceback_utils.py:117\u001b[0m, in \u001b[0;36mfilter_traceback.<locals>.error_handler\u001b[0;34m(*args, **kwargs)\u001b[0m\n\u001b[1;32m    115\u001b[0m filtered_tb \u001b[38;5;241m=\u001b[39m \u001b[38;5;28;01mNone\u001b[39;00m\n\u001b[1;32m    116\u001b[0m \u001b[38;5;28;01mtry\u001b[39;00m:\n\u001b[0;32m--> 117\u001b[0m     \u001b[38;5;28;01mreturn\u001b[39;00m \u001b[43mfn\u001b[49m\u001b[43m(\u001b[49m\u001b[38;5;241;43m*\u001b[39;49m\u001b[43margs\u001b[49m\u001b[43m,\u001b[49m\u001b[43m \u001b[49m\u001b[38;5;241;43m*\u001b[39;49m\u001b[38;5;241;43m*\u001b[39;49m\u001b[43mkwargs\u001b[49m\u001b[43m)\u001b[49m\n\u001b[1;32m    118\u001b[0m \u001b[38;5;28;01mexcept\u001b[39;00m \u001b[38;5;167;01mException\u001b[39;00m \u001b[38;5;28;01mas\u001b[39;00m e:\n\u001b[1;32m    119\u001b[0m     filtered_tb \u001b[38;5;241m=\u001b[39m _process_traceback_frames(e\u001b[38;5;241m.\u001b[39m__traceback__)\n",
      "File \u001b[0;32m~/miniconda3/envs/ml/lib/python3.10/site-packages/keras/src/backend/jax/trainer.py:474\u001b[0m, in \u001b[0;36mJAXTrainer.fit\u001b[0;34m(self, x, y, batch_size, epochs, verbose, callbacks, validation_split, validation_data, shuffle, class_weight, sample_weight, initial_epoch, steps_per_epoch, validation_steps, validation_batch_size, validation_freq)\u001b[0m\n\u001b[1;32m    464\u001b[0m \u001b[38;5;28;01mif\u001b[39;00m \u001b[38;5;28mgetattr\u001b[39m(\u001b[38;5;28mself\u001b[39m, \u001b[38;5;124m\"\u001b[39m\u001b[38;5;124m_eval_epoch_iterator\u001b[39m\u001b[38;5;124m\"\u001b[39m, \u001b[38;5;28;01mNone\u001b[39;00m) \u001b[38;5;129;01mis\u001b[39;00m \u001b[38;5;28;01mNone\u001b[39;00m:\n\u001b[1;32m    465\u001b[0m     \u001b[38;5;28mself\u001b[39m\u001b[38;5;241m.\u001b[39m_eval_epoch_iterator \u001b[38;5;241m=\u001b[39m JAXEpochIterator(\n\u001b[1;32m    466\u001b[0m         x\u001b[38;5;241m=\u001b[39mval_x,\n\u001b[1;32m    467\u001b[0m         y\u001b[38;5;241m=\u001b[39mval_y,\n\u001b[0;32m   (...)\u001b[0m\n\u001b[1;32m    472\u001b[0m         shuffle\u001b[38;5;241m=\u001b[39m\u001b[38;5;28;01mFalse\u001b[39;00m,\n\u001b[1;32m    473\u001b[0m     )\n\u001b[0;32m--> 474\u001b[0m val_logs \u001b[38;5;241m=\u001b[39m \u001b[38;5;28;43mself\u001b[39;49m\u001b[38;5;241;43m.\u001b[39;49m\u001b[43mevaluate\u001b[49m\u001b[43m(\u001b[49m\n\u001b[1;32m    475\u001b[0m \u001b[43m    \u001b[49m\u001b[43mx\u001b[49m\u001b[38;5;241;43m=\u001b[39;49m\u001b[43mval_x\u001b[49m\u001b[43m,\u001b[49m\n\u001b[1;32m    476\u001b[0m \u001b[43m    \u001b[49m\u001b[43my\u001b[49m\u001b[38;5;241;43m=\u001b[39;49m\u001b[43mval_y\u001b[49m\u001b[43m,\u001b[49m\n\u001b[1;32m    477\u001b[0m \u001b[43m    \u001b[49m\u001b[43msample_weight\u001b[49m\u001b[38;5;241;43m=\u001b[39;49m\u001b[43mval_sample_weight\u001b[49m\u001b[43m,\u001b[49m\n\u001b[1;32m    478\u001b[0m \u001b[43m    \u001b[49m\u001b[43mbatch_size\u001b[49m\u001b[38;5;241;43m=\u001b[39;49m\u001b[43mvalidation_batch_size\u001b[49m\u001b[43m \u001b[49m\u001b[38;5;129;43;01mor\u001b[39;49;00m\u001b[43m \u001b[49m\u001b[43mbatch_size\u001b[49m\u001b[43m,\u001b[49m\n\u001b[1;32m    479\u001b[0m \u001b[43m    \u001b[49m\u001b[43msteps\u001b[49m\u001b[38;5;241;43m=\u001b[39;49m\u001b[43mvalidation_steps\u001b[49m\u001b[43m,\u001b[49m\n\u001b[1;32m    480\u001b[0m \u001b[43m    \u001b[49m\u001b[43mcallbacks\u001b[49m\u001b[38;5;241;43m=\u001b[39;49m\u001b[43mcallbacks\u001b[49m\u001b[43m,\u001b[49m\n\u001b[1;32m    481\u001b[0m \u001b[43m    \u001b[49m\u001b[43mreturn_dict\u001b[49m\u001b[38;5;241;43m=\u001b[39;49m\u001b[38;5;28;43;01mTrue\u001b[39;49;00m\u001b[43m,\u001b[49m\n\u001b[1;32m    482\u001b[0m \u001b[43m    \u001b[49m\u001b[43m_use_cached_eval_dataset\u001b[49m\u001b[38;5;241;43m=\u001b[39;49m\u001b[38;5;28;43;01mTrue\u001b[39;49;00m\u001b[43m,\u001b[49m\n\u001b[1;32m    483\u001b[0m \u001b[43m\u001b[49m\u001b[43m)\u001b[49m\n\u001b[1;32m    484\u001b[0m val_logs \u001b[38;5;241m=\u001b[39m {\n\u001b[1;32m    485\u001b[0m     \u001b[38;5;124m\"\u001b[39m\u001b[38;5;124mval_\u001b[39m\u001b[38;5;124m\"\u001b[39m \u001b[38;5;241m+\u001b[39m name: val \u001b[38;5;28;01mfor\u001b[39;00m name, val \u001b[38;5;129;01min\u001b[39;00m val_logs\u001b[38;5;241m.\u001b[39mitems()\n\u001b[1;32m    486\u001b[0m }\n\u001b[1;32m    487\u001b[0m epoch_logs\u001b[38;5;241m.\u001b[39mupdate(val_logs)\n",
      "File \u001b[0;32m~/miniconda3/envs/ml/lib/python3.10/site-packages/keras/src/utils/traceback_utils.py:117\u001b[0m, in \u001b[0;36mfilter_traceback.<locals>.error_handler\u001b[0;34m(*args, **kwargs)\u001b[0m\n\u001b[1;32m    115\u001b[0m filtered_tb \u001b[38;5;241m=\u001b[39m \u001b[38;5;28;01mNone\u001b[39;00m\n\u001b[1;32m    116\u001b[0m \u001b[38;5;28;01mtry\u001b[39;00m:\n\u001b[0;32m--> 117\u001b[0m     \u001b[38;5;28;01mreturn\u001b[39;00m \u001b[43mfn\u001b[49m\u001b[43m(\u001b[49m\u001b[38;5;241;43m*\u001b[39;49m\u001b[43margs\u001b[49m\u001b[43m,\u001b[49m\u001b[43m \u001b[49m\u001b[38;5;241;43m*\u001b[39;49m\u001b[38;5;241;43m*\u001b[39;49m\u001b[43mkwargs\u001b[49m\u001b[43m)\u001b[49m\n\u001b[1;32m    118\u001b[0m \u001b[38;5;28;01mexcept\u001b[39;00m \u001b[38;5;167;01mException\u001b[39;00m \u001b[38;5;28;01mas\u001b[39;00m e:\n\u001b[1;32m    119\u001b[0m     filtered_tb \u001b[38;5;241m=\u001b[39m _process_traceback_frames(e\u001b[38;5;241m.\u001b[39m__traceback__)\n",
      "File \u001b[0;32m~/miniconda3/envs/ml/lib/python3.10/site-packages/keras/src/backend/jax/trainer.py:575\u001b[0m, in \u001b[0;36mJAXTrainer.evaluate\u001b[0;34m(self, x, y, batch_size, verbose, sample_weight, steps, callbacks, return_dict, **kwargs)\u001b[0m\n\u001b[1;32m    567\u001b[0m     state \u001b[38;5;241m=\u001b[39m \u001b[38;5;28mself\u001b[39m\u001b[38;5;241m.\u001b[39m_get_jax_state(\n\u001b[1;32m    568\u001b[0m         trainable_variables\u001b[38;5;241m=\u001b[39m\u001b[38;5;28;01mTrue\u001b[39;00m,\n\u001b[1;32m    569\u001b[0m         non_trainable_variables\u001b[38;5;241m=\u001b[39m\u001b[38;5;28;01mTrue\u001b[39;00m,\n\u001b[1;32m    570\u001b[0m         metrics_variables\u001b[38;5;241m=\u001b[39m\u001b[38;5;28;01mTrue\u001b[39;00m,\n\u001b[1;32m    571\u001b[0m         purge_model_variables\u001b[38;5;241m=\u001b[39m\u001b[38;5;28;01mTrue\u001b[39;00m,\n\u001b[1;32m    572\u001b[0m     )\n\u001b[1;32m    573\u001b[0m     \u001b[38;5;28mself\u001b[39m\u001b[38;5;241m.\u001b[39m_jax_state_synced \u001b[38;5;241m=\u001b[39m \u001b[38;5;28;01mFalse\u001b[39;00m\n\u001b[0;32m--> 575\u001b[0m logs, state \u001b[38;5;241m=\u001b[39m \u001b[38;5;28;43mself\u001b[39;49m\u001b[38;5;241;43m.\u001b[39;49m\u001b[43mtest_function\u001b[49m\u001b[43m(\u001b[49m\u001b[43mstate\u001b[49m\u001b[43m,\u001b[49m\u001b[43m \u001b[49m\u001b[43mdata\u001b[49m\u001b[43m)\u001b[49m\n\u001b[1;32m    576\u001b[0m (\n\u001b[1;32m    577\u001b[0m     trainable_variables,\n\u001b[1;32m    578\u001b[0m     non_trainable_variables,\n\u001b[1;32m    579\u001b[0m     metrics_variables,\n\u001b[1;32m    580\u001b[0m ) \u001b[38;5;241m=\u001b[39m state\n\u001b[1;32m    582\u001b[0m \u001b[38;5;66;03m# Setting _jax_state enables callbacks to force a state sync\u001b[39;00m\n\u001b[1;32m    583\u001b[0m \u001b[38;5;66;03m# if they need to.\u001b[39;00m\n",
      "\u001b[0;31mKeyboardInterrupt\u001b[0m: "
     ]
    }
   ],
   "source": [
    "# Assuming climate_unet and ClimateDownscalingLossJAX are defined elsewhere\n",
    "input_shape = (cmip6_train_reshaped.shape[1], cmip6_train_reshaped.shape[2], 3)\n",
    "model = climate_unet(input_shape)\n",
    "\n",
    "# Mixed Precision (if supported by your hardware)\n",
    "# policy = tf.keras.mixed_precision.Policy('mixed_float16')\n",
    "# tf.keras.mixed_precision.set_global_policy(policy)\n",
    "\n",
    "epochs = 300\n",
    "batch_size = 32\n",
    "\n",
    "# Learning rate schedule with warmup and cosine decay\n",
    "initial_learning_rate = 1e-3\n",
    "total_steps = int(np.ceil(len(X_train) / batch_size)) * epochs\n",
    "\n",
    "lr_schedule = keras.optimizers.schedules.CosineDecayRestarts(\n",
    "    initial_learning_rate,\n",
    "    first_decay_steps=total_steps // 4,\n",
    "    t_mul=2.0,\n",
    "    m_mul=0.9,\n",
    "    alpha=1e-5\n",
    ")\n",
    "\n",
    "# Optimizer configuration\n",
    "optimizer = keras.optimizers.AdamW(\n",
    "    learning_rate=lr_schedule,\n",
    "    weight_decay=1e-4,\n",
    "    beta_1=0.9,\n",
    "    beta_2=0.999,\n",
    "    epsilon=1e-7,\n",
    "    clipnorm=1.0\n",
    ")\n",
    "\n",
    "# Initialize the custom loss function\n",
    "\n",
    "climate_loss = ClimateDownscalingLossJAX()\n",
    "#climate_loss = tf.keras.losses.MeanSquaredError() # Note: tf.keras.losses, not tf.keras.metrics\n",
    "\n",
    "\n",
    "# ... later in model.compile ...\n",
    "model.compile(\n",
    "    optimizer=optimizer,\n",
    "    loss=climate_loss, # Or directly use 'mse' as a string\n",
    "    # ... other arguments\n",
    ")\n",
    "\n",
    "\n",
    "# ... and in model.compile ...\n",
    "model.compile(\n",
    "    optimizer=optimizer,\n",
    "    loss=climate_loss, # Or directly use 'mae' as a string\n",
    "    # ...\n",
    ")\n",
    "\n",
    "# Compile model\n",
    "model.compile(\n",
    "    optimizer=optimizer,\n",
    "    loss=climate_loss,\n",
    "    metrics=[\n",
    "        tf.keras.metrics.MeanAbsoluteError(),\n",
    "        tf.keras.metrics.RootMeanSquaredError()\n",
    "    ]\n",
    ")\n",
    "\n",
    "# Simplified callbacks\n",
    "callbacks = [\n",
    "    keras.callbacks.EarlyStopping(\n",
    "        monitor='val_loss',\n",
    "        patience=20,\n",
    "        restore_best_weights=True,\n",
    "        min_delta=1e-4\n",
    "    ),\n",
    "    keras.callbacks.ReduceLROnPlateau(\n",
    "        monitor='val_loss',\n",
    "        factor=0.5,\n",
    "        patience=15,\n",
    "        min_lr=1e-6,\n",
    "        verbose=1\n",
    "    ),\n",
    "    keras.callbacks.ModelCheckpoint(\n",
    "        'models/unet_time_best_model.keras',\n",
    "        monitor='val_loss',\n",
    "        save_best_only=True,\n",
    "        save_weights_only=False,  # Ensure the whole model is saved\n",
    "        mode='min',  # Use 'min' to minimize the validation loss\n",
    "        verbose=1  # Add verbosity to see when checkpoints are saved\n",
    "    ),\n",
    "    keras.callbacks.TerminateOnNaN()\n",
    "]\n",
    "\n",
    "# Calculate total batches\n",
    "total_batches = int(np.ceil(len(X_train) / batch_size) * epochs)\n",
    "\n",
    "# Initialize history\n",
    "history = {\n",
    "    'loss': [],\n",
    "    'val_loss': [],\n",
    "    'mean_absolute_error': [],\n",
    "    'val_mean_absolute_error': [],\n",
    "    'root_mean_squared_error': [],\n",
    "    'val_root_mean_squared_error': [],\n",
    "    'learning_rate': []\n",
    "}\n",
    "\n",
    "# Training loop\n",
    "with tqdm(total=total_batches, desc='Training', unit='batch') as pbar:\n",
    "    for epoch in range(epochs):\n",
    "        # Training epoch\n",
    "        history_epoch = model.fit(\n",
    "            X_train, y_train,\n",
    "            validation_data=(X_val, y_val),\n",
    "            epochs=1,\n",
    "            batch_size=batch_size,\n",
    "            callbacks=callbacks,\n",
    "            verbose=0,\n",
    "            shuffle = True\n",
    "        )\n",
    "        \n",
    "        # Update history\n",
    "        for key in history_epoch.history:\n",
    "            history[key].append(history_epoch.history[key][0])\n",
    "        \n",
    "        # Get current learning rate (general method)\n",
    "        current_lr = tf.keras.backend.get_value(model.optimizer.learning_rate)\n",
    "        \n",
    "        # Append learning rate to history\n",
    "        history['learning_rate'].append(current_lr)\n",
    "\n",
    "        # Update progress bar\n",
    "        pbar.set_postfix({\n",
    "            'epoch': epoch + 1,\n",
    "            'loss': f\"{history['loss'][-1]:.4f}\",\n",
    "            'val_loss': f\"{history['val_loss'][-1]:.4f}\",\n",
    "            'train_mae': f\"{history['val_mean_absolute_error'][-1]:.4f}\",\n",
    "            'val_mae': f\"{history['mean_absolute_error'][-1]:.4f}\",\n",
    "            'lr': f\"{current_lr:.2e}\"\n",
    "        })\n",
    "        \n",
    "        # Update progress\n",
    "        pbar.update(int(np.ceil(len(X_train) / batch_size)))\n",
    "        \n",
    "        # Early stopping check\n",
    "        if len(history['val_loss']) > 20:\n",
    "            best_loss = min(history['val_loss'][:-20])\n",
    "            recent_best = min(history['val_loss'][-20:])\n",
    "            if recent_best >= best_loss and current_lr <= 1e-5:\n",
    "                print(\"\\nEarly stopping triggered: No improvement in validation loss\")\n",
    "                break\n",
    "\n",
    "print(\"\\nTraining completed. Final metrics:\")\n",
    "\n",
    "# Loop through history and print the last recorded value for each metric, except learning_rate\n",
    "for key in history:\n",
    "    if key != 'learning_rate' and len(history[key]) > 0:\n",
    "        print(f\"{key}: {history[key][-1]:.4f}\")\n",
    "\n",
    "# Print the best validation loss and optionally the epoch where it occurred\n",
    "if 'val_loss' in history and len(history['val_loss']) > 0:\n",
    "    best_val_loss = min(history['val_loss'])\n",
    "    best_epoch = history['val_loss'].index(best_val_loss) + 1\n",
    "    print(f\"Best validation loss: {best_val_loss:.4f} (Epoch {best_epoch})\")\n",
    "else:\n",
    "    print(\"Validation loss history is empty.\")"
   ]
  },
  {
   "cell_type": "code",
   "execution_count": 26,
   "id": "ef960da0-9655-40b6-91e8-5c117a92477d",
   "metadata": {},
   "outputs": [
    {
     "data": {
      "image/png": "[encoded data removed]",
      "text/plain": [
       "<Figure size 800x400 with 1 Axes>"
      ]
     },
     "metadata": {},
     "output_type": "display_data"
    }
   ],
   "source": [
    "plt.figure(figsize=(8, 4))\n",
    "plt.plot(history['loss'], label='Training Loss')\n",
    "plt.plot(history['val_loss'], label='Validation Loss')\n",
    "plt.title('Training and Validation Loss Over Epochs')\n",
    "plt.xlabel('Epochs')\n",
    "plt.ylabel('Loss')\n",
    "#plt.ylim(0,0.6)\n",
    "plt.legend()\n",
    "plt.grid()\n",
    "plt.show()"
   ]
  },
  {
   "cell_type": "markdown",
   "id": "6522f507-3d1f-4099-a4da-665029a8330c",
   "metadata": {},
   "source": [
    "#### Evaluate the model on validation data"
   ]
  },
  {
   "cell_type": "code",
   "execution_count": 34,
   "id": "0752b4d1-f3ba-4224-a9df-dd41c9368e31",
   "metadata": {},
   "outputs": [
    {
     "ename": "IndexError",
     "evalue": "index 3 is out of bounds for axis 3 with size 3",
     "output_type": "error",
     "traceback": [
      "\u001b[0;31m---------------------------------------------------------------------------\u001b[0m",
      "\u001b[0;31mIndexError\u001b[0m                                Traceback (most recent call last)",
      "Cell \u001b[0;32mIn[34], line 1\u001b[0m\n\u001b[0;32m----> 1\u001b[0m \u001b[38;5;28mprint\u001b[39m(\u001b[43my_pred\u001b[49m\u001b[43m[\u001b[49m\u001b[43m:\u001b[49m\u001b[43m,\u001b[49m\u001b[43m:\u001b[49m\u001b[43m,\u001b[49m\u001b[43m:\u001b[49m\u001b[43m,\u001b[49m\u001b[38;5;241;43m3\u001b[39;49m\u001b[43m]\u001b[49m\u001b[38;5;241m.\u001b[39mshape)\n",
      "\u001b[0;31mIndexError\u001b[0m: index 3 is out of bounds for axis 3 with size 3"
     ]
    }
   ],
   "source": [
    "\n",
    "print(y_pred[:,:,:,0].shape)"
   ]
  },
  {
   "cell_type": "code",
   "execution_count": 35,
   "id": "67d550b4-5eb0-4455-96e7-349752f2981a",
   "metadata": {},
   "outputs": [
    {
     "name": "stdout",
     "output_type": "stream",
     "text": [
      "\u001b[1m112/112\u001b[0m \u001b[32m━━━━━━━━━━━━━━━━━━━━\u001b[0m\u001b[37m\u001b[0m \u001b[1m6s\u001b[0m 36ms/step\n"
     ]
    },
    {
     "data": {
      "image/png": "[encoded data removed]",
      "text/plain": [
       "<Figure size 800x800 with 1 Axes>"
      ]
     },
     "metadata": {},
     "output_type": "display_data"
    }
   ],
   "source": [
    "from sklearn.metrics import mean_squared_error, mean_absolute_error\n",
    "# Load the model\n",
    "from keras.models import load_model\n",
    "model_best = load_model(\n",
    "    'models/unet_time_best_model.keras',\n",
    "    custom_objects={'ClimateDownscalingLossJAX': ClimateDownscalingLossJAX}\n",
    ")\n",
    "\n",
    "# Get the mean and std from the training set for denormalization\n",
    "cmip6_high_res_mean = cmip6_high_res['tas'].mean().values\n",
    "cmip6_high_res_std = cmip6_high_res['tas'].std().values\n",
    "\n",
    "# Get the mean and std from the training set for denormalization\n",
    "gmfd_mean = gmfd_data['tas'].mean().values\n",
    "gmfd_std = gmfd_data['tas'].std().values\n",
    "\n",
    "# Generate predictions on validation data\n",
    "y_pred = model_best.predict(X_test)\n",
    "\n",
    "# Back-transform the predictions for evaluation only for climate variable\n",
    "y_val_denorm =  (y_test[:,:,:,0] * gmfd_std) + gmfd_mean\n",
    "y_pred_denorm = (y_pred[:,:,:,0] * cmip6_high_res_std) + cmip6_high_res_mean\n",
    "\n",
    "# Calculate RMSE, MAE, and correlation\n",
    "rmse = np.sqrt(mean_squared_error(y_val_denorm.flatten(), y_pred_denorm.flatten()))\n",
    "mae = mean_absolute_error(y_val_denorm.flatten(), y_pred_denorm.flatten())\n",
    "correlation = np.corrcoef(y_val_denorm.flatten(), y_pred_denorm.flatten())[0,1]\n",
    "\n",
    "# Create the plot\n",
    "plt.figure(figsize=(8, 8))\n",
    "plt.grid(True, linestyle='--', alpha=0.7)  # Add grid\n",
    "plt.scatter(y_val_denorm.flatten(), y_pred_denorm.flatten(), alpha=0.5)\n",
    "plt.xlabel('Actual Values (GMFD)')\n",
    "plt.ylabel('Predicted Values')\n",
    "plt.title('Predicted vs Actual GMFD Values (Back-transformed)')\n",
    "plt.plot([y_val_denorm.min(), y_val_denorm.max()], \n",
    "         [y_val_denorm.min(), y_val_denorm.max()], 'r--')\n",
    "\n",
    "# Add RMSE, MAE, and correlation text to the upper left\n",
    "plt.text(0.05, 0.95, f'RMSE: {rmse:.3f}\\nMAE: {mae:.3f}\\nCorr: {correlation:.3f}',  \n",
    "         transform=plt.gca().transAxes, \n",
    "         verticalalignment='top', \n",
    "         bbox=dict(boxstyle='round', facecolor='white', alpha=0.8))\n",
    "\n",
    "plt.show()"
   ]
  },
  {
   "cell_type": "markdown",
   "id": "fbc5ae68-67a0-465e-8898-807f29cb218b",
   "metadata": {},
   "source": [
    "#### Train the Best Model on All Data\n",
    "Train the model on all the data (no splitting)"
   ]
  },
  {
   "cell_type": "code",
   "execution_count": 12,
   "id": "ab1cb3e3-06d2-4b75-8b30-035e996cdef3",
   "metadata": {
    "scrolled": true
   },
   "outputs": [
    {
     "name": "stdout",
     "output_type": "stream",
     "text": [
      "Loaded pretrained weights from the best model.\n",
      "Epoch 1/300\n",
      "\u001b[1m742/742\u001b[0m \u001b[32m━━━━━━━━━━━━━━━━━━━━\u001b[0m\u001b[37m\u001b[0m \u001b[1m0s\u001b[0m 89ms/step - loss: 0.2530 - mean_absolute_error: 0.3502 - root_mean_squared_error: 0.4540\n",
      "Epoch 1: val_loss improved from inf to 0.18315, saving model to models/unet_fine_tuned_model.keras\n",
      "\u001b[1m742/742\u001b[0m \u001b[32m━━━━━━━━━━━━━━━━━━━━\u001b[0m\u001b[37m\u001b[0m \u001b[1m118s\u001b[0m 116ms/step - loss: 0.2530 - mean_absolute_error: 0.3502 - root_mean_squared_error: 0.4540 - val_loss: 0.1831 - val_mean_absolute_error: 0.3574 - val_root_mean_squared_error: 0.4583 - learning_rate: 0.0010\n",
      "Epoch 2/300\n",
      "\u001b[1m742/742\u001b[0m \u001b[32m━━━━━━━━━━━━━━━━━━━━\u001b[0m\u001b[37m\u001b[0m \u001b[1m0s\u001b[0m 29ms/step - loss: 0.2472 - mean_absolute_error: 0.3458 - root_mean_squared_error: 0.4476\n",
      "Epoch 2: val_loss improved from 0.18315 to 0.18151, saving model to models/unet_fine_tuned_model.keras\n",
      "\u001b[1m742/742\u001b[0m \u001b[32m━━━━━━━━━━━━━━━━━━━━\u001b[0m\u001b[37m\u001b[0m \u001b[1m34s\u001b[0m 32ms/step - loss: 0.2472 - mean_absolute_error: 0.3458 - root_mean_squared_error: 0.4476 - val_loss: 0.1815 - val_mean_absolute_error: 0.3596 - val_root_mean_squared_error: 0.4588 - learning_rate: 0.0010\n",
      "Epoch 3/300\n",
      "\u001b[1m741/742\u001b[0m \u001b[32m━━━━━━━━━━━━━━━━━━━\u001b[0m\u001b[37m━\u001b[0m \u001b[1m0s\u001b[0m 29ms/step - loss: 0.2446 - mean_absolute_error: 0.3437 - root_mean_squared_error: 0.4440\n",
      "Epoch 3: val_loss did not improve from 0.18151\n",
      "\u001b[1m742/742\u001b[0m \u001b[32m━━━━━━━━━━━━━━━━━━━━\u001b[0m\u001b[37m\u001b[0m \u001b[1m22s\u001b[0m 30ms/step - loss: 0.2446 - mean_absolute_error: 0.3437 - root_mean_squared_error: 0.4440 - val_loss: 0.1864 - val_mean_absolute_error: 0.3592 - val_root_mean_squared_error: 0.4646 - learning_rate: 0.0010\n",
      "Epoch 4/300\n",
      "\u001b[1m741/742\u001b[0m \u001b[32m━━━━━━━━━━━━━━━━━━━\u001b[0m\u001b[37m━\u001b[0m \u001b[1m0s\u001b[0m 29ms/step - loss: 0.2422 - mean_absolute_error: 0.3418 - root_mean_squared_error: 0.4415\n",
      "Epoch 4: val_loss improved from 0.18151 to 0.17546, saving model to models/unet_fine_tuned_model.keras\n",
      "\u001b[1m742/742\u001b[0m \u001b[32m━━━━━━━━━━━━━━━━━━━━\u001b[0m\u001b[37m\u001b[0m \u001b[1m24s\u001b[0m 32ms/step - loss: 0.2422 - mean_absolute_error: 0.3418 - root_mean_squared_error: 0.4415 - val_loss: 0.1755 - val_mean_absolute_error: 0.3435 - val_root_mean_squared_error: 0.4421 - learning_rate: 0.0010\n",
      "Epoch 5/300\n",
      "\u001b[1m741/742\u001b[0m \u001b[32m━━━━━━━━━━━━━━━━━━━\u001b[0m\u001b[37m━\u001b[0m \u001b[1m0s\u001b[0m 29ms/step - loss: 0.2397 - mean_absolute_error: 0.3379 - root_mean_squared_error: 0.4373\n",
      "Epoch 5: val_loss did not improve from 0.17546\n",
      "\u001b[1m742/742\u001b[0m \u001b[32m━━━━━━━━━━━━━━━━━━━━\u001b[0m\u001b[37m\u001b[0m \u001b[1m22s\u001b[0m 30ms/step - loss: 0.2398 - mean_absolute_error: 0.3379 - root_mean_squared_error: 0.4373 - val_loss: 0.1800 - val_mean_absolute_error: 0.3586 - val_root_mean_squared_error: 0.4577 - learning_rate: 0.0010\n",
      "Epoch 6/300\n",
      "\u001b[1m741/742\u001b[0m \u001b[32m━━━━━━━━━━━━━━━━━━━\u001b[0m\u001b[37m━\u001b[0m \u001b[1m0s\u001b[0m 29ms/step - loss: 0.2356 - mean_absolute_error: 0.3359 - root_mean_squared_error: 0.4340\n",
      "Epoch 6: val_loss did not improve from 0.17546\n",
      "\u001b[1m742/742\u001b[0m \u001b[32m━━━━━━━━━━━━━━━━━━━━\u001b[0m\u001b[37m\u001b[0m \u001b[1m22s\u001b[0m 30ms/step - loss: 0.2356 - mean_absolute_error: 0.3359 - root_mean_squared_error: 0.4340 - val_loss: 0.1765 - val_mean_absolute_error: 0.3433 - val_root_mean_squared_error: 0.4436 - learning_rate: 0.0010\n",
      "Epoch 7/300\n",
      "\u001b[1m741/742\u001b[0m \u001b[32m━━━━━━━━━━━━━━━━━━━\u001b[0m\u001b[37m━\u001b[0m \u001b[1m0s\u001b[0m 29ms/step - loss: 0.2372 - mean_absolute_error: 0.3364 - root_mean_squared_error: 0.4351\n",
      "Epoch 7: val_loss did not improve from 0.17546\n",
      "\u001b[1m742/742\u001b[0m \u001b[32m━━━━━━━━━━━━━━━━━━━━\u001b[0m\u001b[37m\u001b[0m \u001b[1m22s\u001b[0m 30ms/step - loss: 0.2372 - mean_absolute_error: 0.3364 - root_mean_squared_error: 0.4351 - val_loss: 0.1761 - val_mean_absolute_error: 0.3514 - val_root_mean_squared_error: 0.4474 - learning_rate: 0.0010\n",
      "Epoch 8/300\n",
      "\u001b[1m742/742\u001b[0m \u001b[32m━━━━━━━━━━━━━━━━━━━━\u001b[0m\u001b[37m\u001b[0m \u001b[1m0s\u001b[0m 29ms/step - loss: 0.2339 - mean_absolute_error: 0.3333 - root_mean_squared_error: 0.4310\n",
      "Epoch 8: val_loss improved from 0.17546 to 0.16644, saving model to models/unet_fine_tuned_model.keras\n",
      "\u001b[1m742/742\u001b[0m \u001b[32m━━━━━━━━━━━━━━━━━━━━\u001b[0m\u001b[37m\u001b[0m \u001b[1m24s\u001b[0m 32ms/step - loss: 0.2339 - mean_absolute_error: 0.3333 - root_mean_squared_error: 0.4310 - val_loss: 0.1664 - val_mean_absolute_error: 0.3311 - val_root_mean_squared_error: 0.4254 - learning_rate: 0.0010\n",
      "Epoch 9/300\n",
      "\u001b[1m741/742\u001b[0m \u001b[32m━━━━━━━━━━━━━━━━━━━\u001b[0m\u001b[37m━\u001b[0m \u001b[1m0s\u001b[0m 29ms/step - loss: 0.2313 - mean_absolute_error: 0.3309 - root_mean_squared_error: 0.4276\n",
      "Epoch 9: val_loss did not improve from 0.16644\n",
      "\u001b[1m742/742\u001b[0m \u001b[32m━━━━━━━━━━━━━━━━━━━━\u001b[0m\u001b[37m\u001b[0m \u001b[1m22s\u001b[0m 30ms/step - loss: 0.2313 - mean_absolute_error: 0.3309 - root_mean_squared_error: 0.4276 - val_loss: 0.1792 - val_mean_absolute_error: 0.3569 - val_root_mean_squared_error: 0.4557 - learning_rate: 0.0010\n",
      "Epoch 10/300\n",
      "\u001b[1m741/742\u001b[0m \u001b[32m━━━━━━━━━━━━━━━━━━━\u001b[0m\u001b[37m━\u001b[0m \u001b[1m0s\u001b[0m 29ms/step - loss: 0.2274 - mean_absolute_error: 0.3273 - root_mean_squared_error: 0.4227\n",
      "Epoch 10: val_loss did not improve from 0.16644\n",
      "\u001b[1m742/742\u001b[0m \u001b[32m━━━━━━━━━━━━━━━━━━━━\u001b[0m\u001b[37m\u001b[0m \u001b[1m22s\u001b[0m 29ms/step - loss: 0.2274 - mean_absolute_error: 0.3274 - root_mean_squared_error: 0.4227 - val_loss: 0.1672 - val_mean_absolute_error: 0.3362 - val_root_mean_squared_error: 0.4298 - learning_rate: 0.0010\n",
      "Epoch 11/300\n",
      "\u001b[1m741/742\u001b[0m \u001b[32m━━━━━━━━━━━━━━━━━━━\u001b[0m\u001b[37m━\u001b[0m \u001b[1m0s\u001b[0m 29ms/step - loss: 0.2242 - mean_absolute_error: 0.3241 - root_mean_squared_error: 0.4187\n",
      "Epoch 11: val_loss improved from 0.16644 to 0.16180, saving model to models/unet_fine_tuned_model.keras\n",
      "\u001b[1m742/742\u001b[0m \u001b[32m━━━━━━━━━━━━━━━━━━━━\u001b[0m\u001b[37m\u001b[0m \u001b[1m23s\u001b[0m 31ms/step - loss: 0.2242 - mean_absolute_error: 0.3241 - root_mean_squared_error: 0.4187 - val_loss: 0.1618 - val_mean_absolute_error: 0.3291 - val_root_mean_squared_error: 0.4180 - learning_rate: 0.0010\n",
      "Epoch 12/300\n",
      "\u001b[1m741/742\u001b[0m \u001b[32m━━━━━━━━━━━━━━━━━━━\u001b[0m\u001b[37m━\u001b[0m \u001b[1m0s\u001b[0m 29ms/step - loss: 0.2229 - mean_absolute_error: 0.3225 - root_mean_squared_error: 0.4172\n",
      "Epoch 12: val_loss did not improve from 0.16180\n",
      "\u001b[1m742/742\u001b[0m \u001b[32m━━━━━━━━━━━━━━━━━━━━\u001b[0m\u001b[37m\u001b[0m \u001b[1m22s\u001b[0m 30ms/step - loss: 0.2229 - mean_absolute_error: 0.3225 - root_mean_squared_error: 0.4172 - val_loss: 0.1656 - val_mean_absolute_error: 0.3286 - val_root_mean_squared_error: 0.4201 - learning_rate: 0.0010\n",
      "Epoch 13/300\n",
      "\u001b[1m741/742\u001b[0m \u001b[32m━━━━━━━━━━━━━━━━━━━\u001b[0m\u001b[37m━\u001b[0m \u001b[1m0s\u001b[0m 29ms/step - loss: 0.2192 - mean_absolute_error: 0.3192 - root_mean_squared_error: 0.4121\n",
      "Epoch 13: val_loss did not improve from 0.16180\n",
      "\u001b[1m742/742\u001b[0m \u001b[32m━━━━━━━━━━━━━━━━━━━━\u001b[0m\u001b[37m\u001b[0m \u001b[1m22s\u001b[0m 30ms/step - loss: 0.2192 - mean_absolute_error: 0.3192 - root_mean_squared_error: 0.4121 - val_loss: 0.1639 - val_mean_absolute_error: 0.3229 - val_root_mean_squared_error: 0.4146 - learning_rate: 0.0010\n",
      "Epoch 14/300\n",
      "\u001b[1m741/742\u001b[0m \u001b[32m━━━━━━━━━━━━━━━━━━━\u001b[0m\u001b[37m━\u001b[0m \u001b[1m0s\u001b[0m 29ms/step - loss: 0.2163 - mean_absolute_error: 0.3166 - root_mean_squared_error: 0.4081\n",
      "Epoch 14: val_loss improved from 0.16180 to 0.16176, saving model to models/unet_fine_tuned_model.keras\n",
      "\u001b[1m742/742\u001b[0m \u001b[32m━━━━━━━━━━━━━━━━━━━━\u001b[0m\u001b[37m\u001b[0m \u001b[1m23s\u001b[0m 31ms/step - loss: 0.2163 - mean_absolute_error: 0.3166 - root_mean_squared_error: 0.4082 - val_loss: 0.1618 - val_mean_absolute_error: 0.3203 - val_root_mean_squared_error: 0.4107 - learning_rate: 0.0010\n",
      "Epoch 15/300\n",
      "\u001b[1m741/742\u001b[0m \u001b[32m━━━━━━━━━━━━━━━━━━━\u001b[0m\u001b[37m━\u001b[0m \u001b[1m0s\u001b[0m 29ms/step - loss: 0.2106 - mean_absolute_error: 0.3118 - root_mean_squared_error: 0.4016\n",
      "Epoch 15: val_loss improved from 0.16176 to 0.15147, saving model to models/unet_fine_tuned_model.keras\n",
      "\u001b[1m742/742\u001b[0m \u001b[32m━━━━━━━━━━━━━━━━━━━━\u001b[0m\u001b[37m\u001b[0m \u001b[1m24s\u001b[0m 32ms/step - loss: 0.2107 - mean_absolute_error: 0.3118 - root_mean_squared_error: 0.4016 - val_loss: 0.1515 - val_mean_absolute_error: 0.3093 - val_root_mean_squared_error: 0.3948 - learning_rate: 0.0010\n",
      "Epoch 16/300\n",
      "\u001b[1m742/742\u001b[0m \u001b[32m━━━━━━━━━━━━━━━━━━━━\u001b[0m\u001b[37m\u001b[0m \u001b[1m0s\u001b[0m 29ms/step - loss: 0.2100 - mean_absolute_error: 0.3117 - root_mean_squared_error: 0.4013\n",
      "Epoch 16: val_loss did not improve from 0.15147\n",
      "\u001b[1m742/742\u001b[0m \u001b[32m━━━━━━━━━━━━━━━━━━━━\u001b[0m\u001b[37m\u001b[0m \u001b[1m22s\u001b[0m 30ms/step - loss: 0.2100 - mean_absolute_error: 0.3117 - root_mean_squared_error: 0.4013 - val_loss: 0.1577 - val_mean_absolute_error: 0.3109 - val_root_mean_squared_error: 0.4008 - learning_rate: 0.0010\n",
      "Epoch 17/300\n",
      "\u001b[1m742/742\u001b[0m \u001b[32m━━━━━━━━━━━━━━━━━━━━\u001b[0m\u001b[37m\u001b[0m \u001b[1m0s\u001b[0m 29ms/step - loss: 0.2050 - mean_absolute_error: 0.3062 - root_mean_squared_error: 0.3947\n",
      "Epoch 17: val_loss improved from 0.15147 to 0.14338, saving model to models/unet_fine_tuned_model.keras\n",
      "\u001b[1m742/742\u001b[0m \u001b[32m━━━━━━━━━━━━━━━━━━━━\u001b[0m\u001b[37m\u001b[0m \u001b[1m24s\u001b[0m 32ms/step - loss: 0.2050 - mean_absolute_error: 0.3062 - root_mean_squared_error: 0.3947 - val_loss: 0.1434 - val_mean_absolute_error: 0.2891 - val_root_mean_squared_error: 0.3714 - learning_rate: 0.0010\n",
      "Epoch 18/300\n",
      "\u001b[1m742/742\u001b[0m \u001b[32m━━━━━━━━━━━━━━━━━━━━\u001b[0m\u001b[37m\u001b[0m \u001b[1m0s\u001b[0m 29ms/step - loss: 0.2023 - mean_absolute_error: 0.3034 - root_mean_squared_error: 0.3903\n",
      "Epoch 18: val_loss did not improve from 0.14338\n",
      "\u001b[1m742/742\u001b[0m \u001b[32m━━━━━━━━━━━━━━━━━━━━\u001b[0m\u001b[37m\u001b[0m \u001b[1m22s\u001b[0m 30ms/step - loss: 0.2023 - mean_absolute_error: 0.3034 - root_mean_squared_error: 0.3903 - val_loss: 0.1457 - val_mean_absolute_error: 0.3003 - val_root_mean_squared_error: 0.3830 - learning_rate: 0.0010\n",
      "Epoch 19/300\n",
      "\u001b[1m741/742\u001b[0m \u001b[32m━━━━━━━━━━━━━━━━━━━\u001b[0m\u001b[37m━\u001b[0m \u001b[1m0s\u001b[0m 29ms/step - loss: 0.1981 - mean_absolute_error: 0.2990 - root_mean_squared_error: 0.3846\n",
      "Epoch 19: val_loss improved from 0.14338 to 0.14030, saving model to models/unet_fine_tuned_model.keras\n",
      "\u001b[1m742/742\u001b[0m \u001b[32m━━━━━━━━━━━━━━━━━━━━\u001b[0m\u001b[37m\u001b[0m \u001b[1m23s\u001b[0m 31ms/step - loss: 0.1981 - mean_absolute_error: 0.2990 - root_mean_squared_error: 0.3846 - val_loss: 0.1403 - val_mean_absolute_error: 0.2910 - val_root_mean_squared_error: 0.3711 - learning_rate: 0.0010\n",
      "Epoch 20/300\n",
      "\u001b[1m741/742\u001b[0m \u001b[32m━━━━━━━━━━━━━━━━━━━\u001b[0m\u001b[37m━\u001b[0m \u001b[1m0s\u001b[0m 29ms/step - loss: 0.1935 - mean_absolute_error: 0.2947 - root_mean_squared_error: 0.3786\n",
      "Epoch 20: val_loss improved from 0.14030 to 0.13891, saving model to models/unet_fine_tuned_model.keras\n",
      "\u001b[1m742/742\u001b[0m \u001b[32m━━━━━━━━━━━━━━━━━━━━\u001b[0m\u001b[37m\u001b[0m \u001b[1m24s\u001b[0m 32ms/step - loss: 0.1935 - mean_absolute_error: 0.2948 - root_mean_squared_error: 0.3786 - val_loss: 0.1389 - val_mean_absolute_error: 0.2842 - val_root_mean_squared_error: 0.3654 - learning_rate: 0.0010\n",
      "Epoch 21/300\n",
      "\u001b[1m741/742\u001b[0m \u001b[32m━━━━━━━━━━━━━━━━━━━\u001b[0m\u001b[37m━\u001b[0m \u001b[1m0s\u001b[0m 29ms/step - loss: 0.1900 - mean_absolute_error: 0.2916 - root_mean_squared_error: 0.3749\n",
      "Epoch 21: val_loss did not improve from 0.13891\n",
      "\u001b[1m742/742\u001b[0m \u001b[32m━━━━━━━━━━━━━━━━━━━━\u001b[0m\u001b[37m\u001b[0m \u001b[1m22s\u001b[0m 30ms/step - loss: 0.1900 - mean_absolute_error: 0.2916 - root_mean_squared_error: 0.3749 - val_loss: 0.1663 - val_mean_absolute_error: 0.3204 - val_root_mean_squared_error: 0.4131 - learning_rate: 0.0010\n",
      "Epoch 22/300\n",
      "\u001b[1m741/742\u001b[0m \u001b[32m━━━━━━━━━━━━━━━━━━━\u001b[0m\u001b[37m━\u001b[0m \u001b[1m0s\u001b[0m 29ms/step - loss: 0.1884 - mean_absolute_error: 0.2901 - root_mean_squared_error: 0.3728\n",
      "Epoch 22: val_loss improved from 0.13891 to 0.13378, saving model to models/unet_fine_tuned_model.keras\n",
      "\u001b[1m742/742\u001b[0m \u001b[32m━━━━━━━━━━━━━━━━━━━━\u001b[0m\u001b[37m\u001b[0m \u001b[1m24s\u001b[0m 32ms/step - loss: 0.1884 - mean_absolute_error: 0.2901 - root_mean_squared_error: 0.3728 - val_loss: 0.1338 - val_mean_absolute_error: 0.2795 - val_root_mean_squared_error: 0.3568 - learning_rate: 0.0010\n",
      "Epoch 23/300\n",
      "\u001b[1m741/742\u001b[0m \u001b[32m━━━━━━━━━━━━━━━━━━━\u001b[0m\u001b[37m━\u001b[0m \u001b[1m0s\u001b[0m 30ms/step - loss: 0.1846 - mean_absolute_error: 0.2859 - root_mean_squared_error: 0.3673\n",
      "Epoch 23: val_loss improved from 0.13378 to 0.13041, saving model to models/unet_fine_tuned_model.keras\n",
      "\u001b[1m742/742\u001b[0m \u001b[32m━━━━━━━━━━━━━━━━━━━━\u001b[0m\u001b[37m\u001b[0m \u001b[1m24s\u001b[0m 33ms/step - loss: 0.1846 - mean_absolute_error: 0.2860 - root_mean_squared_error: 0.3673 - val_loss: 0.1304 - val_mean_absolute_error: 0.2721 - val_root_mean_squared_error: 0.3479 - learning_rate: 0.0010\n",
      "Epoch 24/300\n",
      "\u001b[1m741/742\u001b[0m \u001b[32m━━━━━━━━━━━━━━━━━━━\u001b[0m\u001b[37m━\u001b[0m \u001b[1m0s\u001b[0m 29ms/step - loss: 0.1827 - mean_absolute_error: 0.2835 - root_mean_squared_error: 0.3644\n",
      "Epoch 24: val_loss improved from 0.13041 to 0.12780, saving model to models/unet_fine_tuned_model.keras\n",
      "\u001b[1m742/742\u001b[0m \u001b[32m━━━━━━━━━━━━━━━━━━━━\u001b[0m\u001b[37m\u001b[0m \u001b[1m24s\u001b[0m 32ms/step - loss: 0.1827 - mean_absolute_error: 0.2836 - root_mean_squared_error: 0.3644 - val_loss: 0.1278 - val_mean_absolute_error: 0.2665 - val_root_mean_squared_error: 0.3404 - learning_rate: 0.0010\n",
      "Epoch 25/300\n",
      "\u001b[1m741/742\u001b[0m \u001b[32m━━━━━━━━━━━━━━━━━━━\u001b[0m\u001b[37m━\u001b[0m \u001b[1m0s\u001b[0m 29ms/step - loss: 0.1805 - mean_absolute_error: 0.2815 - root_mean_squared_error: 0.3608\n",
      "Epoch 25: val_loss did not improve from 0.12780\n",
      "\u001b[1m742/742\u001b[0m \u001b[32m━━━━━━━━━━━━━━━━━━━━\u001b[0m\u001b[37m\u001b[0m \u001b[1m22s\u001b[0m 30ms/step - loss: 0.1805 - mean_absolute_error: 0.2815 - root_mean_squared_error: 0.3608 - val_loss: 0.1327 - val_mean_absolute_error: 0.2757 - val_root_mean_squared_error: 0.3542 - learning_rate: 0.0010\n",
      "Epoch 26/300\n",
      "\u001b[1m741/742\u001b[0m \u001b[32m━━━━━━━━━━━━━━━━━━━\u001b[0m\u001b[37m━\u001b[0m \u001b[1m0s\u001b[0m 29ms/step - loss: 0.1777 - mean_absolute_error: 0.2775 - root_mean_squared_error: 0.3561\n",
      "Epoch 26: val_loss did not improve from 0.12780\n",
      "\u001b[1m742/742\u001b[0m \u001b[32m━━━━━━━━━━━━━━━━━━━━\u001b[0m\u001b[37m\u001b[0m \u001b[1m23s\u001b[0m 30ms/step - loss: 0.1777 - mean_absolute_error: 0.2775 - root_mean_squared_error: 0.3561 - val_loss: 0.1622 - val_mean_absolute_error: 0.3056 - val_root_mean_squared_error: 0.3985 - learning_rate: 0.0010\n",
      "Epoch 27/300\n",
      "\u001b[1m741/742\u001b[0m \u001b[32m━━━━━━━━━━━━━━━━━━━\u001b[0m\u001b[37m━\u001b[0m \u001b[1m0s\u001b[0m 29ms/step - loss: 0.1752 - mean_absolute_error: 0.2756 - root_mean_squared_error: 0.3532\n",
      "Epoch 27: val_loss improved from 0.12780 to 0.12261, saving model to models/unet_fine_tuned_model.keras\n",
      "\u001b[1m742/742\u001b[0m \u001b[32m━━━━━━━━━━━━━━━━━━━━\u001b[0m\u001b[37m\u001b[0m \u001b[1m24s\u001b[0m 32ms/step - loss: 0.1752 - mean_absolute_error: 0.2756 - root_mean_squared_error: 0.3532 - val_loss: 0.1226 - val_mean_absolute_error: 0.2581 - val_root_mean_squared_error: 0.3296 - learning_rate: 0.0010\n",
      "Epoch 28/300\n",
      "\u001b[1m741/742\u001b[0m \u001b[32m━━━━━━━━━━━━━━━━━━━\u001b[0m\u001b[37m━\u001b[0m \u001b[1m0s\u001b[0m 29ms/step - loss: 0.1699 - mean_absolute_error: 0.2691 - root_mean_squared_error: 0.3453\n",
      "Epoch 28: val_loss improved from 0.12261 to 0.11851, saving model to models/unet_fine_tuned_model.keras\n",
      "\u001b[1m742/742\u001b[0m \u001b[32m━━━━━━━━━━━━━━━━━━━━\u001b[0m\u001b[37m\u001b[0m \u001b[1m24s\u001b[0m 32ms/step - loss: 0.1699 - mean_absolute_error: 0.2691 - root_mean_squared_error: 0.3453 - val_loss: 0.1185 - val_mean_absolute_error: 0.2496 - val_root_mean_squared_error: 0.3179 - learning_rate: 0.0010\n",
      "Epoch 29/300\n",
      "\u001b[1m742/742\u001b[0m \u001b[32m━━━━━━━━━━━━━━━━━━━━\u001b[0m\u001b[37m\u001b[0m \u001b[1m0s\u001b[0m 29ms/step - loss: 0.1665 - mean_absolute_error: 0.2657 - root_mean_squared_error: 0.3405\n",
      "Epoch 29: val_loss did not improve from 0.11851\n",
      "\u001b[1m742/742\u001b[0m \u001b[32m━━━━━━━━━━━━━━━━━━━━\u001b[0m\u001b[37m\u001b[0m \u001b[1m22s\u001b[0m 30ms/step - loss: 0.1665 - mean_absolute_error: 0.2657 - root_mean_squared_error: 0.3405 - val_loss: 0.1186 - val_mean_absolute_error: 0.2521 - val_root_mean_squared_error: 0.3213 - learning_rate: 0.0010\n",
      "Epoch 30/300\n",
      "\u001b[1m741/742\u001b[0m \u001b[32m━━━━━━━━━━━━━━━━━━━\u001b[0m\u001b[37m━\u001b[0m \u001b[1m0s\u001b[0m 29ms/step - loss: 0.1634 - mean_absolute_error: 0.2627 - root_mean_squared_error: 0.3365\n",
      "Epoch 30: val_loss did not improve from 0.11851\n",
      "\u001b[1m742/742\u001b[0m \u001b[32m━━━━━━━━━━━━━━━━━━━━\u001b[0m\u001b[37m\u001b[0m \u001b[1m23s\u001b[0m 30ms/step - loss: 0.1634 - mean_absolute_error: 0.2627 - root_mean_squared_error: 0.3365 - val_loss: 0.1214 - val_mean_absolute_error: 0.2504 - val_root_mean_squared_error: 0.3206 - learning_rate: 0.0010\n",
      "Epoch 31/300\n",
      "\u001b[1m741/742\u001b[0m \u001b[32m━━━━━━━━━━━━━━━━━━━\u001b[0m\u001b[37m━\u001b[0m \u001b[1m0s\u001b[0m 29ms/step - loss: 0.1626 - mean_absolute_error: 0.2616 - root_mean_squared_error: 0.3352\n",
      "Epoch 31: val_loss improved from 0.11851 to 0.11403, saving model to models/unet_fine_tuned_model.keras\n",
      "\u001b[1m742/742\u001b[0m \u001b[32m━━━━━━━━━━━━━━━━━━━━\u001b[0m\u001b[37m\u001b[0m \u001b[1m24s\u001b[0m 33ms/step - loss: 0.1626 - mean_absolute_error: 0.2616 - root_mean_squared_error: 0.3352 - val_loss: 0.1140 - val_mean_absolute_error: 0.2370 - val_root_mean_squared_error: 0.3042 - learning_rate: 0.0010\n",
      "Epoch 32/300\n",
      "\u001b[1m741/742\u001b[0m \u001b[32m━━━━━━━━━━━━━━━━━━━\u001b[0m\u001b[37m━\u001b[0m \u001b[1m0s\u001b[0m 29ms/step - loss: 0.1587 - mean_absolute_error: 0.2572 - root_mean_squared_error: 0.3290\n",
      "Epoch 32: val_loss improved from 0.11403 to 0.10887, saving model to models/unet_fine_tuned_model.keras\n",
      "\u001b[1m742/742\u001b[0m \u001b[32m━━━━━━━━━━━━━━━━━━━━\u001b[0m\u001b[37m\u001b[0m \u001b[1m24s\u001b[0m 32ms/step - loss: 0.1587 - mean_absolute_error: 0.2572 - root_mean_squared_error: 0.3290 - val_loss: 0.1089 - val_mean_absolute_error: 0.2350 - val_root_mean_squared_error: 0.2998 - learning_rate: 0.0010\n",
      "Epoch 33/300\n",
      "\u001b[1m742/742\u001b[0m \u001b[32m━━━━━━━━━━━━━━━━━━━━\u001b[0m\u001b[37m\u001b[0m \u001b[1m0s\u001b[0m 29ms/step - loss: 0.1574 - mean_absolute_error: 0.2553 - root_mean_squared_error: 0.3269\n",
      "Epoch 33: val_loss did not improve from 0.10887\n",
      "\u001b[1m742/742\u001b[0m \u001b[32m━━━━━━━━━━━━━━━━━━━━\u001b[0m\u001b[37m\u001b[0m \u001b[1m22s\u001b[0m 30ms/step - loss: 0.1574 - mean_absolute_error: 0.2553 - root_mean_squared_error: 0.3269 - val_loss: 0.1127 - val_mean_absolute_error: 0.2400 - val_root_mean_squared_error: 0.3063 - learning_rate: 0.0010\n",
      "Epoch 34/300\n",
      "\u001b[1m741/742\u001b[0m \u001b[32m━━━━━━━━━━━━━━━━━━━\u001b[0m\u001b[37m━\u001b[0m \u001b[1m0s\u001b[0m 29ms/step - loss: 0.1541 - mean_absolute_error: 0.2506 - root_mean_squared_error: 0.3213\n",
      "Epoch 34: val_loss did not improve from 0.10887\n",
      "\u001b[1m742/742\u001b[0m \u001b[32m━━━━━━━━━━━━━━━━━━━━\u001b[0m\u001b[37m\u001b[0m \u001b[1m22s\u001b[0m 30ms/step - loss: 0.1541 - mean_absolute_error: 0.2506 - root_mean_squared_error: 0.3213 - val_loss: 0.1147 - val_mean_absolute_error: 0.2456 - val_root_mean_squared_error: 0.3149 - learning_rate: 0.0010\n",
      "Epoch 35/300\n",
      "\u001b[1m741/742\u001b[0m \u001b[32m━━━━━━━━━━━━━━━━━━━\u001b[0m\u001b[37m━\u001b[0m \u001b[1m0s\u001b[0m 29ms/step - loss: 0.1520 - mean_absolute_error: 0.2489 - root_mean_squared_error: 0.3188\n",
      "Epoch 35: val_loss improved from 0.10887 to 0.10528, saving model to models/unet_fine_tuned_model.keras\n",
      "\u001b[1m742/742\u001b[0m \u001b[32m━━━━━━━━━━━━━━━━━━━━\u001b[0m\u001b[37m\u001b[0m \u001b[1m23s\u001b[0m 31ms/step - loss: 0.1520 - mean_absolute_error: 0.2489 - root_mean_squared_error: 0.3188 - val_loss: 0.1053 - val_mean_absolute_error: 0.2236 - val_root_mean_squared_error: 0.2867 - learning_rate: 0.0010\n",
      "Epoch 36/300\n",
      "\u001b[1m741/742\u001b[0m \u001b[32m━━━━━━━━━━━━━━━━━━━\u001b[0m\u001b[37m━\u001b[0m \u001b[1m0s\u001b[0m 29ms/step - loss: 0.1481 - mean_absolute_error: 0.2450 - root_mean_squared_error: 0.3136\n",
      "Epoch 36: val_loss improved from 0.10528 to 0.10329, saving model to models/unet_fine_tuned_model.keras\n",
      "\u001b[1m742/742\u001b[0m \u001b[32m━━━━━━━━━━━━━━━━━━━━\u001b[0m\u001b[37m\u001b[0m \u001b[1m23s\u001b[0m 31ms/step - loss: 0.1481 - mean_absolute_error: 0.2450 - root_mean_squared_error: 0.3136 - val_loss: 0.1033 - val_mean_absolute_error: 0.2226 - val_root_mean_squared_error: 0.2844 - learning_rate: 0.0010\n",
      "Epoch 37/300\n",
      "\u001b[1m741/742\u001b[0m \u001b[32m━━━━━━━━━━━━━━━━━━━\u001b[0m\u001b[37m━\u001b[0m \u001b[1m0s\u001b[0m 29ms/step - loss: 0.1470 - mean_absolute_error: 0.2438 - root_mean_squared_error: 0.3119\n",
      "Epoch 37: val_loss improved from 0.10329 to 0.09850, saving model to models/unet_fine_tuned_model.keras\n",
      "\u001b[1m742/742\u001b[0m \u001b[32m━━━━━━━━━━━━━━━━━━━━\u001b[0m\u001b[37m\u001b[0m \u001b[1m24s\u001b[0m 32ms/step - loss: 0.1471 - mean_absolute_error: 0.2439 - root_mean_squared_error: 0.3119 - val_loss: 0.0985 - val_mean_absolute_error: 0.2105 - val_root_mean_squared_error: 0.2696 - learning_rate: 0.0010\n",
      "Epoch 38/300\n",
      "\u001b[1m741/742\u001b[0m \u001b[32m━━━━━━━━━━━━━━━━━━━\u001b[0m\u001b[37m━\u001b[0m \u001b[1m0s\u001b[0m 29ms/step - loss: 0.1428 - mean_absolute_error: 0.2377 - root_mean_squared_error: 0.3044\n",
      "Epoch 38: val_loss did not improve from 0.09850\n",
      "\u001b[1m742/742\u001b[0m \u001b[32m━━━━━━━━━━━━━━━━━━━━\u001b[0m\u001b[37m\u001b[0m \u001b[1m22s\u001b[0m 30ms/step - loss: 0.1428 - mean_absolute_error: 0.2377 - root_mean_squared_error: 0.3044 - val_loss: 0.1007 - val_mean_absolute_error: 0.2175 - val_root_mean_squared_error: 0.2781 - learning_rate: 0.0010\n",
      "Epoch 39/300\n",
      "\u001b[1m741/742\u001b[0m \u001b[32m━━━━━━━━━━━━━━━━━━━\u001b[0m\u001b[37m━\u001b[0m \u001b[1m0s\u001b[0m 29ms/step - loss: 0.1429 - mean_absolute_error: 0.2385 - root_mean_squared_error: 0.3054\n",
      "Epoch 39: val_loss improved from 0.09850 to 0.09820, saving model to models/unet_fine_tuned_model.keras\n",
      "\u001b[1m742/742\u001b[0m \u001b[32m━━━━━━━━━━━━━━━━━━━━\u001b[0m\u001b[37m\u001b[0m \u001b[1m24s\u001b[0m 32ms/step - loss: 0.1429 - mean_absolute_error: 0.2385 - root_mean_squared_error: 0.3054 - val_loss: 0.0982 - val_mean_absolute_error: 0.2092 - val_root_mean_squared_error: 0.2680 - learning_rate: 0.0010\n",
      "Epoch 40/300\n",
      "\u001b[1m741/742\u001b[0m \u001b[32m━━━━━━━━━━━━━━━━━━━\u001b[0m\u001b[37m━\u001b[0m \u001b[1m0s\u001b[0m 29ms/step - loss: 0.1389 - mean_absolute_error: 0.2334 - root_mean_squared_error: 0.2988\n",
      "Epoch 40: val_loss improved from 0.09820 to 0.09553, saving model to models/unet_fine_tuned_model.keras\n",
      "\u001b[1m742/742\u001b[0m \u001b[32m━━━━━━━━━━━━━━━━━━━━\u001b[0m\u001b[37m\u001b[0m \u001b[1m23s\u001b[0m 31ms/step - loss: 0.1389 - mean_absolute_error: 0.2334 - root_mean_squared_error: 0.2988 - val_loss: 0.0955 - val_mean_absolute_error: 0.2040 - val_root_mean_squared_error: 0.2624 - learning_rate: 0.0010\n",
      "Epoch 41/300\n",
      "\u001b[1m741/742\u001b[0m \u001b[32m━━━━━━━━━━━━━━━━━━━\u001b[0m\u001b[37m━\u001b[0m \u001b[1m0s\u001b[0m 29ms/step - loss: 0.1385 - mean_absolute_error: 0.2329 - root_mean_squared_error: 0.2983\n",
      "Epoch 41: val_loss improved from 0.09553 to 0.09351, saving model to models/unet_fine_tuned_model.keras\n",
      "\u001b[1m742/742\u001b[0m \u001b[32m━━━━━━━━━━━━━━━━━━━━\u001b[0m\u001b[37m\u001b[0m \u001b[1m23s\u001b[0m 31ms/step - loss: 0.1385 - mean_absolute_error: 0.2329 - root_mean_squared_error: 0.2983 - val_loss: 0.0935 - val_mean_absolute_error: 0.2028 - val_root_mean_squared_error: 0.2596 - learning_rate: 0.0010\n",
      "Epoch 42/300\n",
      "\u001b[1m741/742\u001b[0m \u001b[32m━━━━━━━━━━━━━━━━━━━\u001b[0m\u001b[37m━\u001b[0m \u001b[1m0s\u001b[0m 29ms/step - loss: 0.1346 - mean_absolute_error: 0.2281 - root_mean_squared_error: 0.2917\n",
      "Epoch 42: val_loss did not improve from 0.09351\n",
      "\u001b[1m742/742\u001b[0m \u001b[32m━━━━━━━━━━━━━━━━━━━━\u001b[0m\u001b[37m\u001b[0m \u001b[1m22s\u001b[0m 29ms/step - loss: 0.1346 - mean_absolute_error: 0.2281 - root_mean_squared_error: 0.2917 - val_loss: 0.0963 - val_mean_absolute_error: 0.2066 - val_root_mean_squared_error: 0.2654 - learning_rate: 0.0010\n",
      "Epoch 43/300\n",
      "\u001b[1m741/742\u001b[0m \u001b[32m━━━━━━━━━━━━━━━━━━━\u001b[0m\u001b[37m━\u001b[0m \u001b[1m0s\u001b[0m 29ms/step - loss: 0.1329 - mean_absolute_error: 0.2263 - root_mean_squared_error: 0.2890\n",
      "Epoch 43: val_loss did not improve from 0.09351\n",
      "\u001b[1m742/742\u001b[0m \u001b[32m━━━━━━━━━━━━━━━━━━━━\u001b[0m\u001b[37m\u001b[0m \u001b[1m22s\u001b[0m 30ms/step - loss: 0.1329 - mean_absolute_error: 0.2263 - root_mean_squared_error: 0.2890 - val_loss: 0.0974 - val_mean_absolute_error: 0.2111 - val_root_mean_squared_error: 0.2704 - learning_rate: 0.0010\n",
      "Epoch 44/300\n",
      "\u001b[1m741/742\u001b[0m \u001b[32m━━━━━━━━━━━━━━━━━━━\u001b[0m\u001b[37m━\u001b[0m \u001b[1m0s\u001b[0m 29ms/step - loss: 0.1304 - mean_absolute_error: 0.2233 - root_mean_squared_error: 0.2855\n",
      "Epoch 44: val_loss improved from 0.09351 to 0.09186, saving model to models/unet_fine_tuned_model.keras\n",
      "\u001b[1m742/742\u001b[0m \u001b[32m━━━━━━━━━━━━━━━━━━━━\u001b[0m\u001b[37m\u001b[0m \u001b[1m24s\u001b[0m 32ms/step - loss: 0.1304 - mean_absolute_error: 0.2233 - root_mean_squared_error: 0.2855 - val_loss: 0.0919 - val_mean_absolute_error: 0.1992 - val_root_mean_squared_error: 0.2552 - learning_rate: 0.0010\n",
      "Epoch 45/300\n",
      "\u001b[1m741/742\u001b[0m \u001b[32m━━━━━━━━━━━━━━━━━━━\u001b[0m\u001b[37m━\u001b[0m \u001b[1m0s\u001b[0m 29ms/step - loss: 0.1298 - mean_absolute_error: 0.2222 - root_mean_squared_error: 0.2845\n",
      "Epoch 45: val_loss improved from 0.09186 to 0.08995, saving model to models/unet_fine_tuned_model.keras\n",
      "\u001b[1m742/742\u001b[0m \u001b[32m━━━━━━━━━━━━━━━━━━━━\u001b[0m\u001b[37m\u001b[0m \u001b[1m24s\u001b[0m 32ms/step - loss: 0.1298 - mean_absolute_error: 0.2222 - root_mean_squared_error: 0.2845 - val_loss: 0.0899 - val_mean_absolute_error: 0.1940 - val_root_mean_squared_error: 0.2493 - learning_rate: 0.0010\n",
      "Epoch 46/300\n",
      "\u001b[1m742/742\u001b[0m \u001b[32m━━━━━━━━━━━━━━━━━━━━\u001b[0m\u001b[37m\u001b[0m \u001b[1m0s\u001b[0m 29ms/step - loss: 0.1282 - mean_absolute_error: 0.2201 - root_mean_squared_error: 0.2815\n",
      "Epoch 46: val_loss did not improve from 0.08995\n",
      "\u001b[1m742/742\u001b[0m \u001b[32m━━━━━━━━━━━━━━━━━━━━\u001b[0m\u001b[37m\u001b[0m \u001b[1m22s\u001b[0m 30ms/step - loss: 0.1282 - mean_absolute_error: 0.2201 - root_mean_squared_error: 0.2815 - val_loss: 0.1028 - val_mean_absolute_error: 0.2164 - val_root_mean_squared_error: 0.2788 - learning_rate: 0.0010\n",
      "Epoch 47/300\n",
      "\u001b[1m742/742\u001b[0m \u001b[32m━━━━━━━━━━━━━━━━━━━━\u001b[0m\u001b[37m\u001b[0m \u001b[1m0s\u001b[0m 29ms/step - loss: 0.1263 - mean_absolute_error: 0.2172 - root_mean_squared_error: 0.2781\n",
      "Epoch 47: val_loss improved from 0.08995 to 0.08792, saving model to models/unet_fine_tuned_model.keras\n",
      "\u001b[1m742/742\u001b[0m \u001b[32m━━━━━━━━━━━━━━━━━━━━\u001b[0m\u001b[37m\u001b[0m \u001b[1m24s\u001b[0m 32ms/step - loss: 0.1263 - mean_absolute_error: 0.2172 - root_mean_squared_error: 0.2781 - val_loss: 0.0879 - val_mean_absolute_error: 0.1927 - val_root_mean_squared_error: 0.2462 - learning_rate: 0.0010\n",
      "Epoch 48/300\n",
      "\u001b[1m742/742\u001b[0m \u001b[32m━━━━━━━━━━━━━━━━━━━━\u001b[0m\u001b[37m\u001b[0m \u001b[1m0s\u001b[0m 29ms/step - loss: 0.1230 - mean_absolute_error: 0.2135 - root_mean_squared_error: 0.2733\n",
      "Epoch 48: val_loss improved from 0.08792 to 0.08270, saving model to models/unet_fine_tuned_model.keras\n",
      "\u001b[1m742/742\u001b[0m \u001b[32m━━━━━━━━━━━━━━━━━━━━\u001b[0m\u001b[37m\u001b[0m \u001b[1m24s\u001b[0m 32ms/step - loss: 0.1230 - mean_absolute_error: 0.2135 - root_mean_squared_error: 0.2733 - val_loss: 0.0827 - val_mean_absolute_error: 0.1788 - val_root_mean_squared_error: 0.2309 - learning_rate: 0.0010\n",
      "Epoch 49/300\n",
      "\u001b[1m741/742\u001b[0m \u001b[32m━━━━━━━━━━━━━━━━━━━\u001b[0m\u001b[37m━\u001b[0m \u001b[1m0s\u001b[0m 29ms/step - loss: 0.1225 - mean_absolute_error: 0.2126 - root_mean_squared_error: 0.2722\n",
      "Epoch 49: val_loss did not improve from 0.08270\n",
      "\u001b[1m742/742\u001b[0m \u001b[32m━━━━━━━━━━━━━━━━━━━━\u001b[0m\u001b[37m\u001b[0m \u001b[1m22s\u001b[0m 30ms/step - loss: 0.1225 - mean_absolute_error: 0.2126 - root_mean_squared_error: 0.2722 - val_loss: 0.0847 - val_mean_absolute_error: 0.1828 - val_root_mean_squared_error: 0.2361 - learning_rate: 0.0010\n",
      "Epoch 50/300\n",
      "\u001b[1m741/742\u001b[0m \u001b[32m━━━━━━━━━━━━━━━━━━━\u001b[0m\u001b[37m━\u001b[0m \u001b[1m0s\u001b[0m 29ms/step - loss: 0.1202 - mean_absolute_error: 0.2097 - root_mean_squared_error: 0.2686\n",
      "Epoch 50: val_loss did not improve from 0.08270\n",
      "\u001b[1m742/742\u001b[0m \u001b[32m━━━━━━━━━━━━━━━━━━━━\u001b[0m\u001b[37m\u001b[0m \u001b[1m22s\u001b[0m 30ms/step - loss: 0.1202 - mean_absolute_error: 0.2097 - root_mean_squared_error: 0.2686 - val_loss: 0.0891 - val_mean_absolute_error: 0.1912 - val_root_mean_squared_error: 0.2457 - learning_rate: 0.0010\n",
      "Epoch 51/300\n",
      "\u001b[1m742/742\u001b[0m \u001b[32m━━━━━━━━━━━━━━━━━━━━\u001b[0m\u001b[37m\u001b[0m \u001b[1m0s\u001b[0m 29ms/step - loss: 0.1174 - mean_absolute_error: 0.2062 - root_mean_squared_error: 0.2640\n",
      "Epoch 51: val_loss did not improve from 0.08270\n",
      "\u001b[1m742/742\u001b[0m \u001b[32m━━━━━━━━━━━━━━━━━━━━\u001b[0m\u001b[37m\u001b[0m \u001b[1m22s\u001b[0m 30ms/step - loss: 0.1174 - mean_absolute_error: 0.2062 - root_mean_squared_error: 0.2640 - val_loss: 0.0877 - val_mean_absolute_error: 0.1904 - val_root_mean_squared_error: 0.2428 - learning_rate: 0.0010\n",
      "Epoch 52/300\n",
      "\u001b[1m741/742\u001b[0m \u001b[32m━━━━━━━━━━━━━━━━━━━\u001b[0m\u001b[37m━\u001b[0m \u001b[1m0s\u001b[0m 29ms/step - loss: 0.1168 - mean_absolute_error: 0.2051 - root_mean_squared_error: 0.2628\n",
      "Epoch 52: val_loss improved from 0.08270 to 0.08049, saving model to models/unet_fine_tuned_model.keras\n",
      "\u001b[1m742/742\u001b[0m \u001b[32m━━━━━━━━━━━━━━━━━━━━\u001b[0m\u001b[37m\u001b[0m \u001b[1m24s\u001b[0m 32ms/step - loss: 0.1168 - mean_absolute_error: 0.2051 - root_mean_squared_error: 0.2628 - val_loss: 0.0805 - val_mean_absolute_error: 0.1752 - val_root_mean_squared_error: 0.2253 - learning_rate: 0.0010\n",
      "Epoch 53/300\n",
      "\u001b[1m741/742\u001b[0m \u001b[32m━━━━━━━━━━━━━━━━━━━\u001b[0m\u001b[37m━\u001b[0m \u001b[1m0s\u001b[0m 29ms/step - loss: 0.1138 - mean_absolute_error: 0.2010 - root_mean_squared_error: 0.2571\n",
      "Epoch 53: val_loss improved from 0.08049 to 0.07963, saving model to models/unet_fine_tuned_model.keras\n",
      "\u001b[1m742/742\u001b[0m \u001b[32m━━━━━━━━━━━━━━━━━━━━\u001b[0m\u001b[37m\u001b[0m \u001b[1m23s\u001b[0m 31ms/step - loss: 0.1138 - mean_absolute_error: 0.2011 - root_mean_squared_error: 0.2572 - val_loss: 0.0796 - val_mean_absolute_error: 0.1732 - val_root_mean_squared_error: 0.2231 - learning_rate: 0.0010\n",
      "Epoch 54/300\n",
      "\u001b[1m742/742\u001b[0m \u001b[32m━━━━━━━━━━━━━━━━━━━━\u001b[0m\u001b[37m\u001b[0m \u001b[1m0s\u001b[0m 29ms/step - loss: 0.1137 - mean_absolute_error: 0.2013 - root_mean_squared_error: 0.2577\n",
      "Epoch 54: val_loss improved from 0.07963 to 0.07535, saving model to models/unet_fine_tuned_model.keras\n",
      "\u001b[1m742/742\u001b[0m \u001b[32m━━━━━━━━━━━━━━━━━━━━\u001b[0m\u001b[37m\u001b[0m \u001b[1m24s\u001b[0m 32ms/step - loss: 0.1137 - mean_absolute_error: 0.2013 - root_mean_squared_error: 0.2577 - val_loss: 0.0754 - val_mean_absolute_error: 0.1652 - val_root_mean_squared_error: 0.2120 - learning_rate: 0.0010\n",
      "Epoch 55/300\n",
      "\u001b[1m741/742\u001b[0m \u001b[32m━━━━━━━━━━━━━━━━━━━\u001b[0m\u001b[37m━\u001b[0m \u001b[1m0s\u001b[0m 29ms/step - loss: 0.1137 - mean_absolute_error: 0.2013 - root_mean_squared_error: 0.2574\n",
      "Epoch 55: val_loss did not improve from 0.07535\n",
      "\u001b[1m742/742\u001b[0m \u001b[32m━━━━━━━━━━━━━━━━━━━━\u001b[0m\u001b[37m\u001b[0m \u001b[1m22s\u001b[0m 30ms/step - loss: 0.1137 - mean_absolute_error: 0.2013 - root_mean_squared_error: 0.2574 - val_loss: 0.0803 - val_mean_absolute_error: 0.1778 - val_root_mean_squared_error: 0.2295 - learning_rate: 0.0010\n",
      "Epoch 56/300\n",
      "\u001b[1m741/742\u001b[0m \u001b[32m━━━━━━━━━━━━━━━━━━━\u001b[0m\u001b[37m━\u001b[0m \u001b[1m0s\u001b[0m 29ms/step - loss: 0.1094 - mean_absolute_error: 0.1954 - root_mean_squared_error: 0.2500\n",
      "Epoch 56: val_loss improved from 0.07535 to 0.07388, saving model to models/unet_fine_tuned_model.keras\n",
      "\u001b[1m742/742\u001b[0m \u001b[32m━━━━━━━━━━━━━━━━━━━━\u001b[0m\u001b[37m\u001b[0m \u001b[1m23s\u001b[0m 32ms/step - loss: 0.1094 - mean_absolute_error: 0.1954 - root_mean_squared_error: 0.2500 - val_loss: 0.0739 - val_mean_absolute_error: 0.1645 - val_root_mean_squared_error: 0.2113 - learning_rate: 0.0010\n",
      "Epoch 57/300\n",
      "\u001b[1m741/742\u001b[0m \u001b[32m━━━━━━━━━━━━━━━━━━━\u001b[0m\u001b[37m━\u001b[0m \u001b[1m0s\u001b[0m 29ms/step - loss: 0.1082 - mean_absolute_error: 0.1936 - root_mean_squared_error: 0.2478\n",
      "Epoch 57: val_loss did not improve from 0.07388\n",
      "\u001b[1m742/742\u001b[0m \u001b[32m━━━━━━━━━━━━━━━━━━━━\u001b[0m\u001b[37m\u001b[0m \u001b[1m22s\u001b[0m 30ms/step - loss: 0.1082 - mean_absolute_error: 0.1936 - root_mean_squared_error: 0.2478 - val_loss: 0.0746 - val_mean_absolute_error: 0.1649 - val_root_mean_squared_error: 0.2116 - learning_rate: 0.0010\n",
      "Epoch 58/300\n",
      "\u001b[1m741/742\u001b[0m \u001b[32m━━━━━━━━━━━━━━━━━━━\u001b[0m\u001b[37m━\u001b[0m \u001b[1m0s\u001b[0m 29ms/step - loss: 0.1076 - mean_absolute_error: 0.1930 - root_mean_squared_error: 0.2471\n",
      "Epoch 58: val_loss improved from 0.07388 to 0.07302, saving model to models/unet_fine_tuned_model.keras\n",
      "\u001b[1m742/742\u001b[0m \u001b[32m━━━━━━━━━━━━━━━━━━━━\u001b[0m\u001b[37m\u001b[0m \u001b[1m23s\u001b[0m 32ms/step - loss: 0.1076 - mean_absolute_error: 0.1930 - root_mean_squared_error: 0.2471 - val_loss: 0.0730 - val_mean_absolute_error: 0.1610 - val_root_mean_squared_error: 0.2072 - learning_rate: 0.0010\n",
      "Epoch 59/300\n",
      "\u001b[1m741/742\u001b[0m \u001b[32m━━━━━━━━━━━━━━━━━━━\u001b[0m\u001b[37m━\u001b[0m \u001b[1m0s\u001b[0m 29ms/step - loss: 0.1061 - mean_absolute_error: 0.1915 - root_mean_squared_error: 0.2453\n",
      "Epoch 59: val_loss did not improve from 0.07302\n",
      "\u001b[1m742/742\u001b[0m \u001b[32m━━━━━━━━━━━━━━━━━━━━\u001b[0m\u001b[37m\u001b[0m \u001b[1m22s\u001b[0m 30ms/step - loss: 0.1061 - mean_absolute_error: 0.1915 - root_mean_squared_error: 0.2453 - val_loss: 0.0737 - val_mean_absolute_error: 0.1647 - val_root_mean_squared_error: 0.2106 - learning_rate: 0.0010\n",
      "Epoch 60/300\n",
      "\u001b[1m742/742\u001b[0m \u001b[32m━━━━━━━━━━━━━━━━━━━━\u001b[0m\u001b[37m\u001b[0m \u001b[1m0s\u001b[0m 29ms/step - loss: 0.1054 - mean_absolute_error: 0.1893 - root_mean_squared_error: 0.2422\n",
      "Epoch 60: val_loss did not improve from 0.07302\n",
      "\u001b[1m742/742\u001b[0m \u001b[32m━━━━━━━━━━━━━━━━━━━━\u001b[0m\u001b[37m\u001b[0m \u001b[1m23s\u001b[0m 30ms/step - loss: 0.1054 - mean_absolute_error: 0.1893 - root_mean_squared_error: 0.2422 - val_loss: 0.0736 - val_mean_absolute_error: 0.1645 - val_root_mean_squared_error: 0.2113 - learning_rate: 0.0010\n",
      "Epoch 61/300\n",
      "\u001b[1m742/742\u001b[0m \u001b[32m━━━━━━━━━━━━━━━━━━━━\u001b[0m\u001b[37m\u001b[0m \u001b[1m0s\u001b[0m 29ms/step - loss: 0.1043 - mean_absolute_error: 0.1887 - root_mean_squared_error: 0.2416\n",
      "Epoch 61: val_loss improved from 0.07302 to 0.06921, saving model to models/unet_fine_tuned_model.keras\n",
      "\u001b[1m742/742\u001b[0m \u001b[32m━━━━━━━━━━━━━━━━━━━━\u001b[0m\u001b[37m\u001b[0m \u001b[1m24s\u001b[0m 32ms/step - loss: 0.1043 - mean_absolute_error: 0.1887 - root_mean_squared_error: 0.2416 - val_loss: 0.0692 - val_mean_absolute_error: 0.1554 - val_root_mean_squared_error: 0.1998 - learning_rate: 0.0010\n",
      "Epoch 62/300\n",
      "\u001b[1m741/742\u001b[0m \u001b[32m━━━━━━━━━━━━━━━━━━━\u001b[0m\u001b[37m━\u001b[0m \u001b[1m0s\u001b[0m 29ms/step - loss: 0.1018 - mean_absolute_error: 0.1852 - root_mean_squared_error: 0.2370\n",
      "Epoch 62: val_loss did not improve from 0.06921\n",
      "\u001b[1m742/742\u001b[0m \u001b[32m━━━━━━━━━━━━━━━━━━━━\u001b[0m\u001b[37m\u001b[0m \u001b[1m22s\u001b[0m 30ms/step - loss: 0.1018 - mean_absolute_error: 0.1852 - root_mean_squared_error: 0.2370 - val_loss: 0.0724 - val_mean_absolute_error: 0.1613 - val_root_mean_squared_error: 0.2072 - learning_rate: 0.0010\n",
      "Epoch 63/300\n",
      "\u001b[1m741/742\u001b[0m \u001b[32m━━━━━━━━━━━━━━━━━━━\u001b[0m\u001b[37m━\u001b[0m \u001b[1m0s\u001b[0m 29ms/step - loss: 0.1000 - mean_absolute_error: 0.1814 - root_mean_squared_error: 0.2321\n",
      "Epoch 63: val_loss improved from 0.06921 to 0.06630, saving model to models/unet_fine_tuned_model.keras\n",
      "\u001b[1m742/742\u001b[0m \u001b[32m━━━━━━━━━━━━━━━━━━━━\u001b[0m\u001b[37m\u001b[0m \u001b[1m23s\u001b[0m 31ms/step - loss: 0.1000 - mean_absolute_error: 0.1814 - root_mean_squared_error: 0.2321 - val_loss: 0.0663 - val_mean_absolute_error: 0.1503 - val_root_mean_squared_error: 0.1932 - learning_rate: 0.0010\n",
      "Epoch 64/300\n",
      "\u001b[1m741/742\u001b[0m \u001b[32m━━━━━━━━━━━━━━━━━━━\u001b[0m\u001b[37m━\u001b[0m \u001b[1m0s\u001b[0m 29ms/step - loss: 0.0995 - mean_absolute_error: 0.1813 - root_mean_squared_error: 0.2322\n",
      "Epoch 64: val_loss did not improve from 0.06630\n",
      "\u001b[1m742/742\u001b[0m \u001b[32m━━━━━━━━━━━━━━━━━━━━\u001b[0m\u001b[37m\u001b[0m \u001b[1m22s\u001b[0m 29ms/step - loss: 0.0995 - mean_absolute_error: 0.1813 - root_mean_squared_error: 0.2322 - val_loss: 0.0675 - val_mean_absolute_error: 0.1499 - val_root_mean_squared_error: 0.1928 - learning_rate: 0.0010\n",
      "Epoch 65/300\n",
      "\u001b[1m742/742\u001b[0m \u001b[32m━━━━━━━━━━━━━━━━━━━━\u001b[0m\u001b[37m\u001b[0m \u001b[1m0s\u001b[0m 29ms/step - loss: 0.0977 - mean_absolute_error: 0.1787 - root_mean_squared_error: 0.2290\n",
      "Epoch 65: val_loss did not improve from 0.06630\n",
      "\u001b[1m742/742\u001b[0m \u001b[32m━━━━━━━━━━━━━━━━━━━━\u001b[0m\u001b[37m\u001b[0m \u001b[1m22s\u001b[0m 30ms/step - loss: 0.0977 - mean_absolute_error: 0.1787 - root_mean_squared_error: 0.2290 - val_loss: 0.0686 - val_mean_absolute_error: 0.1528 - val_root_mean_squared_error: 0.1954 - learning_rate: 0.0010\n",
      "Epoch 66/300\n",
      "\u001b[1m741/742\u001b[0m \u001b[32m━━━━━━━━━━━━━━━━━━━\u001b[0m\u001b[37m━\u001b[0m \u001b[1m0s\u001b[0m 28ms/step - loss: 0.0979 - mean_absolute_error: 0.1800 - root_mean_squared_error: 0.2305\n",
      "Epoch 66: val_loss did not improve from 0.06630\n",
      "\u001b[1m742/742\u001b[0m \u001b[32m━━━━━━━━━━━━━━━━━━━━\u001b[0m\u001b[37m\u001b[0m \u001b[1m22s\u001b[0m 29ms/step - loss: 0.0979 - mean_absolute_error: 0.1800 - root_mean_squared_error: 0.2305 - val_loss: 0.0695 - val_mean_absolute_error: 0.1526 - val_root_mean_squared_error: 0.1966 - learning_rate: 0.0010\n",
      "Epoch 67/300\n",
      "\u001b[1m741/742\u001b[0m \u001b[32m━━━━━━━━━━━━━━━━━━━\u001b[0m\u001b[37m━\u001b[0m \u001b[1m0s\u001b[0m 28ms/step - loss: 0.0974 - mean_absolute_error: 0.1802 - root_mean_squared_error: 0.2307\n",
      "Epoch 67: val_loss improved from 0.06630 to 0.06471, saving model to models/unet_fine_tuned_model.keras\n",
      "\u001b[1m742/742\u001b[0m \u001b[32m━━━━━━━━━━━━━━━━━━━━\u001b[0m\u001b[37m\u001b[0m \u001b[1m23s\u001b[0m 31ms/step - loss: 0.0974 - mean_absolute_error: 0.1802 - root_mean_squared_error: 0.2307 - val_loss: 0.0647 - val_mean_absolute_error: 0.1445 - val_root_mean_squared_error: 0.1859 - learning_rate: 0.0010\n",
      "Epoch 68/300\n",
      "\u001b[1m741/742\u001b[0m \u001b[32m━━━━━━━━━━━━━━━━━━━\u001b[0m\u001b[37m━\u001b[0m \u001b[1m0s\u001b[0m 28ms/step - loss: 0.0950 - mean_absolute_error: 0.1763 - root_mean_squared_error: 0.2259\n",
      "Epoch 68: val_loss improved from 0.06471 to 0.06454, saving model to models/unet_fine_tuned_model.keras\n",
      "\u001b[1m742/742\u001b[0m \u001b[32m━━━━━━━━━━━━━━━━━━━━\u001b[0m\u001b[37m\u001b[0m \u001b[1m23s\u001b[0m 31ms/step - loss: 0.0950 - mean_absolute_error: 0.1763 - root_mean_squared_error: 0.2259 - val_loss: 0.0645 - val_mean_absolute_error: 0.1434 - val_root_mean_squared_error: 0.1846 - learning_rate: 0.0010\n",
      "Epoch 69/300\n",
      "\u001b[1m741/742\u001b[0m \u001b[32m━━━━━━━━━━━━━━━━━━━\u001b[0m\u001b[37m━\u001b[0m \u001b[1m0s\u001b[0m 28ms/step - loss: 0.0946 - mean_absolute_error: 0.1757 - root_mean_squared_error: 0.2246\n",
      "Epoch 69: val_loss improved from 0.06454 to 0.06447, saving model to models/unet_fine_tuned_model.keras\n",
      "\u001b[1m742/742\u001b[0m \u001b[32m━━━━━━━━━━━━━━━━━━━━\u001b[0m\u001b[37m\u001b[0m \u001b[1m23s\u001b[0m 31ms/step - loss: 0.0946 - mean_absolute_error: 0.1757 - root_mean_squared_error: 0.2246 - val_loss: 0.0645 - val_mean_absolute_error: 0.1442 - val_root_mean_squared_error: 0.1855 - learning_rate: 0.0010\n",
      "Epoch 70/300\n",
      "\u001b[1m741/742\u001b[0m \u001b[32m━━━━━━━━━━━━━━━━━━━\u001b[0m\u001b[37m━\u001b[0m \u001b[1m0s\u001b[0m 28ms/step - loss: 0.0936 - mean_absolute_error: 0.1746 - root_mean_squared_error: 0.2232\n",
      "Epoch 70: val_loss improved from 0.06447 to 0.06083, saving model to models/unet_fine_tuned_model.keras\n",
      "\u001b[1m742/742\u001b[0m \u001b[32m━━━━━━━━━━━━━━━━━━━━\u001b[0m\u001b[37m\u001b[0m \u001b[1m23s\u001b[0m 31ms/step - loss: 0.0936 - mean_absolute_error: 0.1746 - root_mean_squared_error: 0.2232 - val_loss: 0.0608 - val_mean_absolute_error: 0.1372 - val_root_mean_squared_error: 0.1758 - learning_rate: 0.0010\n",
      "Epoch 71/300\n",
      "\u001b[1m741/742\u001b[0m \u001b[32m━━━━━━━━━━━━━━━━━━━\u001b[0m\u001b[37m━\u001b[0m \u001b[1m0s\u001b[0m 28ms/step - loss: 0.0924 - mean_absolute_error: 0.1720 - root_mean_squared_error: 0.2201\n",
      "Epoch 71: val_loss did not improve from 0.06083\n",
      "\u001b[1m742/742\u001b[0m \u001b[32m━━━━━━━━━━━━━━━━━━━━\u001b[0m\u001b[37m\u001b[0m \u001b[1m22s\u001b[0m 29ms/step - loss: 0.0924 - mean_absolute_error: 0.1720 - root_mean_squared_error: 0.2201 - val_loss: 0.0703 - val_mean_absolute_error: 0.1543 - val_root_mean_squared_error: 0.2000 - learning_rate: 0.0010\n",
      "Epoch 72/300\n",
      "\u001b[1m741/742\u001b[0m \u001b[32m━━━━━━━━━━━━━━━━━━━\u001b[0m\u001b[37m━\u001b[0m \u001b[1m0s\u001b[0m 28ms/step - loss: 0.0914 - mean_absolute_error: 0.1703 - root_mean_squared_error: 0.2180\n",
      "Epoch 72: val_loss did not improve from 0.06083\n",
      "\u001b[1m742/742\u001b[0m \u001b[32m━━━━━━━━━━━━━━━━━━━━\u001b[0m\u001b[37m\u001b[0m \u001b[1m22s\u001b[0m 29ms/step - loss: 0.0914 - mean_absolute_error: 0.1704 - root_mean_squared_error: 0.2180 - val_loss: 0.0619 - val_mean_absolute_error: 0.1439 - val_root_mean_squared_error: 0.1834 - learning_rate: 0.0010\n",
      "Epoch 73/300\n",
      "\u001b[1m741/742\u001b[0m \u001b[32m━━━━━━━━━━━━━━━━━━━\u001b[0m\u001b[37m━\u001b[0m \u001b[1m0s\u001b[0m 28ms/step - loss: 0.0905 - mean_absolute_error: 0.1684 - root_mean_squared_error: 0.2158\n",
      "Epoch 73: val_loss did not improve from 0.06083\n",
      "\u001b[1m742/742\u001b[0m \u001b[32m━━━━━━━━━━━━━━━━━━━━\u001b[0m\u001b[37m\u001b[0m \u001b[1m22s\u001b[0m 29ms/step - loss: 0.0905 - mean_absolute_error: 0.1684 - root_mean_squared_error: 0.2158 - val_loss: 0.0622 - val_mean_absolute_error: 0.1397 - val_root_mean_squared_error: 0.1786 - learning_rate: 0.0010\n",
      "Epoch 74/300\n",
      "\u001b[1m741/742\u001b[0m \u001b[32m━━━━━━━━━━━━━━━━━━━\u001b[0m\u001b[37m━\u001b[0m \u001b[1m0s\u001b[0m 28ms/step - loss: 0.0891 - mean_absolute_error: 0.1672 - root_mean_squared_error: 0.2141\n",
      "Epoch 74: val_loss did not improve from 0.06083\n",
      "\u001b[1m742/742\u001b[0m \u001b[32m━━━━━━━━━━━━━━━━━━━━\u001b[0m\u001b[37m\u001b[0m \u001b[1m22s\u001b[0m 29ms/step - loss: 0.0891 - mean_absolute_error: 0.1672 - root_mean_squared_error: 0.2141 - val_loss: 0.0631 - val_mean_absolute_error: 0.1425 - val_root_mean_squared_error: 0.1837 - learning_rate: 0.0010\n",
      "Epoch 75/300\n",
      "\u001b[1m741/742\u001b[0m \u001b[32m━━━━━━━━━━━━━━━━━━━\u001b[0m\u001b[37m━\u001b[0m \u001b[1m0s\u001b[0m 28ms/step - loss: 0.0883 - mean_absolute_error: 0.1663 - root_mean_squared_error: 0.2129\n",
      "Epoch 75: val_loss improved from 0.06083 to 0.05851, saving model to models/unet_fine_tuned_model.keras\n",
      "\u001b[1m742/742\u001b[0m \u001b[32m━━━━━━━━━━━━━━━━━━━━\u001b[0m\u001b[37m\u001b[0m \u001b[1m23s\u001b[0m 31ms/step - loss: 0.0883 - mean_absolute_error: 0.1663 - root_mean_squared_error: 0.2129 - val_loss: 0.0585 - val_mean_absolute_error: 0.1328 - val_root_mean_squared_error: 0.1703 - learning_rate: 0.0010\n",
      "Epoch 76/300\n",
      "\u001b[1m741/742\u001b[0m \u001b[32m━━━━━━━━━━━━━━━━━━━\u001b[0m\u001b[37m━\u001b[0m \u001b[1m0s\u001b[0m 29ms/step - loss: 0.0870 - mean_absolute_error: 0.1633 - root_mean_squared_error: 0.2090\n",
      "Epoch 76: val_loss did not improve from 0.05851\n",
      "\u001b[1m742/742\u001b[0m \u001b[32m━━━━━━━━━━━━━━━━━━━━\u001b[0m\u001b[37m\u001b[0m \u001b[1m22s\u001b[0m 29ms/step - loss: 0.0870 - mean_absolute_error: 0.1633 - root_mean_squared_error: 0.2090 - val_loss: 0.0605 - val_mean_absolute_error: 0.1363 - val_root_mean_squared_error: 0.1756 - learning_rate: 0.0010\n",
      "Epoch 77/300\n",
      "\u001b[1m741/742\u001b[0m \u001b[32m━━━━━━━━━━━━━━━━━━━\u001b[0m\u001b[37m━\u001b[0m \u001b[1m0s\u001b[0m 28ms/step - loss: 0.0873 - mean_absolute_error: 0.1647 - root_mean_squared_error: 0.2105\n",
      "Epoch 77: val_loss did not improve from 0.05851\n",
      "\u001b[1m742/742\u001b[0m \u001b[32m━━━━━━━━━━━━━━━━━━━━\u001b[0m\u001b[37m\u001b[0m \u001b[1m22s\u001b[0m 29ms/step - loss: 0.0873 - mean_absolute_error: 0.1647 - root_mean_squared_error: 0.2105 - val_loss: 0.0608 - val_mean_absolute_error: 0.1379 - val_root_mean_squared_error: 0.1764 - learning_rate: 0.0010\n",
      "Epoch 78/300\n",
      "\u001b[1m741/742\u001b[0m \u001b[32m━━━━━━━━━━━━━━━━━━━\u001b[0m\u001b[37m━\u001b[0m \u001b[1m0s\u001b[0m 28ms/step - loss: 0.0860 - mean_absolute_error: 0.1624 - root_mean_squared_error: 0.2081\n",
      "Epoch 78: val_loss improved from 0.05851 to 0.05764, saving model to models/unet_fine_tuned_model.keras\n",
      "\u001b[1m742/742\u001b[0m \u001b[32m━━━━━━━━━━━━━━━━━━━━\u001b[0m\u001b[37m\u001b[0m \u001b[1m23s\u001b[0m 31ms/step - loss: 0.0860 - mean_absolute_error: 0.1624 - root_mean_squared_error: 0.2081 - val_loss: 0.0576 - val_mean_absolute_error: 0.1324 - val_root_mean_squared_error: 0.1694 - learning_rate: 0.0010\n",
      "Epoch 79/300\n",
      "\u001b[1m741/742\u001b[0m \u001b[32m━━━━━━━━━━━━━━━━━━━\u001b[0m\u001b[37m━\u001b[0m \u001b[1m0s\u001b[0m 28ms/step - loss: 0.0859 - mean_absolute_error: 0.1632 - root_mean_squared_error: 0.2088\n",
      "Epoch 79: val_loss did not improve from 0.05764\n",
      "\u001b[1m742/742\u001b[0m \u001b[32m━━━━━━━━━━━━━━━━━━━━\u001b[0m\u001b[37m\u001b[0m \u001b[1m22s\u001b[0m 29ms/step - loss: 0.0859 - mean_absolute_error: 0.1632 - root_mean_squared_error: 0.2088 - val_loss: 0.0598 - val_mean_absolute_error: 0.1368 - val_root_mean_squared_error: 0.1761 - learning_rate: 0.0010\n",
      "Epoch 80/300\n",
      "\u001b[1m741/742\u001b[0m \u001b[32m━━━━━━━━━━━━━━━━━━━\u001b[0m\u001b[37m━\u001b[0m \u001b[1m0s\u001b[0m 28ms/step - loss: 0.0837 - mean_absolute_error: 0.1599 - root_mean_squared_error: 0.2045\n",
      "Epoch 80: val_loss improved from 0.05764 to 0.05692, saving model to models/unet_fine_tuned_model.keras\n",
      "\u001b[1m742/742\u001b[0m \u001b[32m━━━━━━━━━━━━━━━━━━━━\u001b[0m\u001b[37m\u001b[0m \u001b[1m23s\u001b[0m 31ms/step - loss: 0.0837 - mean_absolute_error: 0.1599 - root_mean_squared_error: 0.2045 - val_loss: 0.0569 - val_mean_absolute_error: 0.1318 - val_root_mean_squared_error: 0.1685 - learning_rate: 0.0010\n",
      "Epoch 81/300\n",
      "\u001b[1m741/742\u001b[0m \u001b[32m━━━━━━━━━━━━━━━━━━━\u001b[0m\u001b[37m━\u001b[0m \u001b[1m0s\u001b[0m 28ms/step - loss: 0.0845 - mean_absolute_error: 0.1613 - root_mean_squared_error: 0.2062\n",
      "Epoch 81: val_loss did not improve from 0.05692\n",
      "\u001b[1m742/742\u001b[0m \u001b[32m━━━━━━━━━━━━━━━━━━━━\u001b[0m\u001b[37m\u001b[0m \u001b[1m22s\u001b[0m 29ms/step - loss: 0.0845 - mean_absolute_error: 0.1613 - root_mean_squared_error: 0.2062 - val_loss: 0.0583 - val_mean_absolute_error: 0.1320 - val_root_mean_squared_error: 0.1706 - learning_rate: 0.0010\n",
      "Epoch 82/300\n",
      "\u001b[1m741/742\u001b[0m \u001b[32m━━━━━━━━━━━━━━━━━━━\u001b[0m\u001b[37m━\u001b[0m \u001b[1m0s\u001b[0m 28ms/step - loss: 0.0825 - mean_absolute_error: 0.1575 - root_mean_squared_error: 0.2013\n",
      "Epoch 82: val_loss improved from 0.05692 to 0.05624, saving model to models/unet_fine_tuned_model.keras\n",
      "\u001b[1m742/742\u001b[0m \u001b[32m━━━━━━━━━━━━━━━━━━━━\u001b[0m\u001b[37m\u001b[0m \u001b[1m23s\u001b[0m 31ms/step - loss: 0.0825 - mean_absolute_error: 0.1575 - root_mean_squared_error: 0.2013 - val_loss: 0.0562 - val_mean_absolute_error: 0.1290 - val_root_mean_squared_error: 0.1652 - learning_rate: 0.0010\n",
      "Epoch 83/300\n",
      "\u001b[1m741/742\u001b[0m \u001b[32m━━━━━━━━━━━━━━━━━━━\u001b[0m\u001b[37m━\u001b[0m \u001b[1m0s\u001b[0m 28ms/step - loss: 0.0823 - mean_absolute_error: 0.1583 - root_mean_squared_error: 0.2021\n",
      "Epoch 83: val_loss improved from 0.05624 to 0.05456, saving model to models/unet_fine_tuned_model.keras\n",
      "\u001b[1m742/742\u001b[0m \u001b[32m━━━━━━━━━━━━━━━━━━━━\u001b[0m\u001b[37m\u001b[0m \u001b[1m23s\u001b[0m 31ms/step - loss: 0.0823 - mean_absolute_error: 0.1583 - root_mean_squared_error: 0.2021 - val_loss: 0.0546 - val_mean_absolute_error: 0.1287 - val_root_mean_squared_error: 0.1638 - learning_rate: 0.0010\n",
      "Epoch 84/300\n",
      "\u001b[1m741/742\u001b[0m \u001b[32m━━━━━━━━━━━━━━━━━━━\u001b[0m\u001b[37m━\u001b[0m \u001b[1m0s\u001b[0m 28ms/step - loss: 0.0818 - mean_absolute_error: 0.1563 - root_mean_squared_error: 0.1999\n",
      "Epoch 84: val_loss improved from 0.05456 to 0.05349, saving model to models/unet_fine_tuned_model.keras\n",
      "\u001b[1m742/742\u001b[0m \u001b[32m━━━━━━━━━━━━━━━━━━━━\u001b[0m\u001b[37m\u001b[0m \u001b[1m23s\u001b[0m 31ms/step - loss: 0.0818 - mean_absolute_error: 0.1563 - root_mean_squared_error: 0.1999 - val_loss: 0.0535 - val_mean_absolute_error: 0.1245 - val_root_mean_squared_error: 0.1601 - learning_rate: 0.0010\n",
      "Epoch 85/300\n",
      "\u001b[1m741/742\u001b[0m \u001b[32m━━━━━━━━━━━━━━━━━━━\u001b[0m\u001b[37m━\u001b[0m \u001b[1m0s\u001b[0m 28ms/step - loss: 0.0816 - mean_absolute_error: 0.1565 - root_mean_squared_error: 0.2002\n",
      "Epoch 85: val_loss did not improve from 0.05349\n",
      "\u001b[1m742/742\u001b[0m \u001b[32m━━━━━━━━━━━━━━━━━━━━\u001b[0m\u001b[37m\u001b[0m \u001b[1m22s\u001b[0m 29ms/step - loss: 0.0816 - mean_absolute_error: 0.1565 - root_mean_squared_error: 0.2002 - val_loss: 0.0543 - val_mean_absolute_error: 0.1240 - val_root_mean_squared_error: 0.1600 - learning_rate: 0.0010\n",
      "Epoch 86/300\n",
      "\u001b[1m741/742\u001b[0m \u001b[32m━━━━━━━━━━━━━━━━━━━\u001b[0m\u001b[37m━\u001b[0m \u001b[1m0s\u001b[0m 28ms/step - loss: 0.0801 - mean_absolute_error: 0.1552 - root_mean_squared_error: 0.1984\n",
      "Epoch 86: val_loss improved from 0.05349 to 0.05306, saving model to models/unet_fine_tuned_model.keras\n",
      "\u001b[1m742/742\u001b[0m \u001b[32m━━━━━━━━━━━━━━━━━━━━\u001b[0m\u001b[37m\u001b[0m \u001b[1m23s\u001b[0m 31ms/step - loss: 0.0801 - mean_absolute_error: 0.1552 - root_mean_squared_error: 0.1984 - val_loss: 0.0531 - val_mean_absolute_error: 0.1237 - val_root_mean_squared_error: 0.1582 - learning_rate: 0.0010\n",
      "Epoch 87/300\n",
      "\u001b[1m741/742\u001b[0m \u001b[32m━━━━━━━━━━━━━━━━━━━\u001b[0m\u001b[37m━\u001b[0m \u001b[1m0s\u001b[0m 28ms/step - loss: 0.0796 - mean_absolute_error: 0.1535 - root_mean_squared_error: 0.1965\n",
      "Epoch 87: val_loss did not improve from 0.05306\n",
      "\u001b[1m742/742\u001b[0m \u001b[32m━━━━━━━━━━━━━━━━━━━━\u001b[0m\u001b[37m\u001b[0m \u001b[1m22s\u001b[0m 29ms/step - loss: 0.0796 - mean_absolute_error: 0.1535 - root_mean_squared_error: 0.1965 - val_loss: 0.0548 - val_mean_absolute_error: 0.1247 - val_root_mean_squared_error: 0.1622 - learning_rate: 0.0010\n",
      "Epoch 88/300\n",
      "\u001b[1m741/742\u001b[0m \u001b[32m━━━━━━━━━━━━━━━━━━━\u001b[0m\u001b[37m━\u001b[0m \u001b[1m0s\u001b[0m 28ms/step - loss: 0.0790 - mean_absolute_error: 0.1520 - root_mean_squared_error: 0.1944\n",
      "Epoch 88: val_loss improved from 0.05306 to 0.05247, saving model to models/unet_fine_tuned_model.keras\n",
      "\u001b[1m742/742\u001b[0m \u001b[32m━━━━━━━━━━━━━━━━━━━━\u001b[0m\u001b[37m\u001b[0m \u001b[1m23s\u001b[0m 31ms/step - loss: 0.0790 - mean_absolute_error: 0.1520 - root_mean_squared_error: 0.1944 - val_loss: 0.0525 - val_mean_absolute_error: 0.1198 - val_root_mean_squared_error: 0.1540 - learning_rate: 0.0010\n",
      "Epoch 89/300\n",
      "\u001b[1m741/742\u001b[0m \u001b[32m━━━━━━━━━━━━━━━━━━━\u001b[0m\u001b[37m━\u001b[0m \u001b[1m0s\u001b[0m 28ms/step - loss: 0.0779 - mean_absolute_error: 0.1504 - root_mean_squared_error: 0.1924\n",
      "Epoch 89: val_loss did not improve from 0.05247\n",
      "\u001b[1m742/742\u001b[0m \u001b[32m━━━━━━━━━━━━━━━━━━━━\u001b[0m\u001b[37m\u001b[0m \u001b[1m22s\u001b[0m 29ms/step - loss: 0.0780 - mean_absolute_error: 0.1504 - root_mean_squared_error: 0.1924 - val_loss: 0.0582 - val_mean_absolute_error: 0.1339 - val_root_mean_squared_error: 0.1725 - learning_rate: 0.0010\n",
      "Epoch 90/300\n",
      "\u001b[1m741/742\u001b[0m \u001b[32m━━━━━━━━━━━━━━━━━━━\u001b[0m\u001b[37m━\u001b[0m \u001b[1m0s\u001b[0m 29ms/step - loss: 0.0778 - mean_absolute_error: 0.1515 - root_mean_squared_error: 0.1936\n",
      "Epoch 90: val_loss did not improve from 0.05247\n",
      "\u001b[1m742/742\u001b[0m \u001b[32m━━━━━━━━━━━━━━━━━━━━\u001b[0m\u001b[37m\u001b[0m \u001b[1m22s\u001b[0m 30ms/step - loss: 0.0778 - mean_absolute_error: 0.1515 - root_mean_squared_error: 0.1936 - val_loss: 0.0526 - val_mean_absolute_error: 0.1216 - val_root_mean_squared_error: 0.1562 - learning_rate: 0.0010\n",
      "Epoch 91/300\n",
      "\u001b[1m741/742\u001b[0m \u001b[32m━━━━━━━━━━━━━━━━━━━\u001b[0m\u001b[37m━\u001b[0m \u001b[1m0s\u001b[0m 28ms/step - loss: 0.0767 - mean_absolute_error: 0.1502 - root_mean_squared_error: 0.1921\n",
      "Epoch 91: val_loss improved from 0.05247 to 0.05219, saving model to models/unet_fine_tuned_model.keras\n",
      "\u001b[1m742/742\u001b[0m \u001b[32m━━━━━━━━━━━━━━━━━━━━\u001b[0m\u001b[37m\u001b[0m \u001b[1m23s\u001b[0m 31ms/step - loss: 0.0767 - mean_absolute_error: 0.1502 - root_mean_squared_error: 0.1921 - val_loss: 0.0522 - val_mean_absolute_error: 0.1185 - val_root_mean_squared_error: 0.1528 - learning_rate: 0.0010\n",
      "Epoch 92/300\n",
      "\u001b[1m741/742\u001b[0m \u001b[32m━━━━━━━━━━━━━━━━━━━\u001b[0m\u001b[37m━\u001b[0m \u001b[1m0s\u001b[0m 28ms/step - loss: 0.0767 - mean_absolute_error: 0.1489 - root_mean_squared_error: 0.1904\n",
      "Epoch 92: val_loss improved from 0.05219 to 0.05104, saving model to models/unet_fine_tuned_model.keras\n",
      "\u001b[1m742/742\u001b[0m \u001b[32m━━━━━━━━━━━━━━━━━━━━\u001b[0m\u001b[37m\u001b[0m \u001b[1m23s\u001b[0m 31ms/step - loss: 0.0767 - mean_absolute_error: 0.1489 - root_mean_squared_error: 0.1904 - val_loss: 0.0510 - val_mean_absolute_error: 0.1217 - val_root_mean_squared_error: 0.1562 - learning_rate: 0.0010\n",
      "Epoch 93/300\n",
      "\u001b[1m741/742\u001b[0m \u001b[32m━━━━━━━━━━━━━━━━━━━\u001b[0m\u001b[37m━\u001b[0m \u001b[1m0s\u001b[0m 28ms/step - loss: 0.0766 - mean_absolute_error: 0.1497 - root_mean_squared_error: 0.1915\n",
      "Epoch 93: val_loss improved from 0.05104 to 0.05092, saving model to models/unet_fine_tuned_model.keras\n",
      "\u001b[1m742/742\u001b[0m \u001b[32m━━━━━━━━━━━━━━━━━━━━\u001b[0m\u001b[37m\u001b[0m \u001b[1m23s\u001b[0m 31ms/step - loss: 0.0766 - mean_absolute_error: 0.1497 - root_mean_squared_error: 0.1915 - val_loss: 0.0509 - val_mean_absolute_error: 0.1199 - val_root_mean_squared_error: 0.1541 - learning_rate: 0.0010\n",
      "Epoch 94/300\n",
      "\u001b[1m741/742\u001b[0m \u001b[32m━━━━━━━━━━━━━━━━━━━\u001b[0m\u001b[37m━\u001b[0m \u001b[1m0s\u001b[0m 28ms/step - loss: 0.0755 - mean_absolute_error: 0.1483 - root_mean_squared_error: 0.1898\n",
      "Epoch 94: val_loss improved from 0.05092 to 0.04873, saving model to models/unet_fine_tuned_model.keras\n",
      "\u001b[1m742/742\u001b[0m \u001b[32m━━━━━━━━━━━━━━━━━━━━\u001b[0m\u001b[37m\u001b[0m \u001b[1m23s\u001b[0m 31ms/step - loss: 0.0755 - mean_absolute_error: 0.1483 - root_mean_squared_error: 0.1898 - val_loss: 0.0487 - val_mean_absolute_error: 0.1098 - val_root_mean_squared_error: 0.1419 - learning_rate: 0.0010\n",
      "Epoch 95/300\n",
      "\u001b[1m741/742\u001b[0m \u001b[32m━━━━━━━━━━━━━━━━━━━\u001b[0m\u001b[37m━\u001b[0m \u001b[1m0s\u001b[0m 28ms/step - loss: 0.0743 - mean_absolute_error: 0.1459 - root_mean_squared_error: 0.1866\n",
      "Epoch 95: val_loss did not improve from 0.04873\n",
      "\u001b[1m742/742\u001b[0m \u001b[32m━━━━━━━━━━━━━━━━━━━━\u001b[0m\u001b[37m\u001b[0m \u001b[1m22s\u001b[0m 29ms/step - loss: 0.0743 - mean_absolute_error: 0.1459 - root_mean_squared_error: 0.1866 - val_loss: 0.0518 - val_mean_absolute_error: 0.1185 - val_root_mean_squared_error: 0.1532 - learning_rate: 0.0010\n",
      "Epoch 96/300\n",
      "\u001b[1m741/742\u001b[0m \u001b[32m━━━━━━━━━━━━━━━━━━━\u001b[0m\u001b[37m━\u001b[0m \u001b[1m0s\u001b[0m 28ms/step - loss: 0.0741 - mean_absolute_error: 0.1454 - root_mean_squared_error: 0.1859\n",
      "Epoch 96: val_loss did not improve from 0.04873\n",
      "\u001b[1m742/742\u001b[0m \u001b[32m━━━━━━━━━━━━━━━━━━━━\u001b[0m\u001b[37m\u001b[0m \u001b[1m22s\u001b[0m 29ms/step - loss: 0.0741 - mean_absolute_error: 0.1454 - root_mean_squared_error: 0.1859 - val_loss: 0.0490 - val_mean_absolute_error: 0.1125 - val_root_mean_squared_error: 0.1455 - learning_rate: 0.0010\n",
      "Epoch 97/300\n",
      "\u001b[1m741/742\u001b[0m \u001b[32m━━━━━━━━━━━━━━━━━━━\u001b[0m\u001b[37m━\u001b[0m \u001b[1m0s\u001b[0m 28ms/step - loss: 0.0740 - mean_absolute_error: 0.1459 - root_mean_squared_error: 0.1865\n",
      "Epoch 97: val_loss did not improve from 0.04873\n",
      "\u001b[1m742/742\u001b[0m \u001b[32m━━━━━━━━━━━━━━━━━━━━\u001b[0m\u001b[37m\u001b[0m \u001b[1m22s\u001b[0m 29ms/step - loss: 0.0740 - mean_absolute_error: 0.1459 - root_mean_squared_error: 0.1865 - val_loss: 0.0522 - val_mean_absolute_error: 0.1196 - val_root_mean_squared_error: 0.1543 - learning_rate: 0.0010\n",
      "Epoch 98/300\n",
      "\u001b[1m741/742\u001b[0m \u001b[32m━━━━━━━━━━━━━━━━━━━\u001b[0m\u001b[37m━\u001b[0m \u001b[1m0s\u001b[0m 28ms/step - loss: 0.0734 - mean_absolute_error: 0.1447 - root_mean_squared_error: 0.1849\n",
      "Epoch 98: val_loss did not improve from 0.04873\n",
      "\u001b[1m742/742\u001b[0m \u001b[32m━━━━━━━━━━━━━━━━━━━━\u001b[0m\u001b[37m\u001b[0m \u001b[1m22s\u001b[0m 29ms/step - loss: 0.0734 - mean_absolute_error: 0.1447 - root_mean_squared_error: 0.1849 - val_loss: 0.0510 - val_mean_absolute_error: 0.1195 - val_root_mean_squared_error: 0.1534 - learning_rate: 0.0010\n",
      "Epoch 99/300\n",
      "\u001b[1m741/742\u001b[0m \u001b[32m━━━━━━━━━━━━━━━━━━━\u001b[0m\u001b[37m━\u001b[0m \u001b[1m0s\u001b[0m 28ms/step - loss: 0.0731 - mean_absolute_error: 0.1447 - root_mean_squared_error: 0.1847\n",
      "Epoch 99: val_loss improved from 0.04873 to 0.04673, saving model to models/unet_fine_tuned_model.keras\n",
      "\u001b[1m742/742\u001b[0m \u001b[32m━━━━━━━━━━━━━━━━━━━━\u001b[0m\u001b[37m\u001b[0m \u001b[1m23s\u001b[0m 31ms/step - loss: 0.0731 - mean_absolute_error: 0.1447 - root_mean_squared_error: 0.1847 - val_loss: 0.0467 - val_mean_absolute_error: 0.1080 - val_root_mean_squared_error: 0.1393 - learning_rate: 0.0010\n",
      "Epoch 100/300\n",
      "\u001b[1m741/742\u001b[0m \u001b[32m━━━━━━━━━━━━━━━━━━━\u001b[0m\u001b[37m━\u001b[0m \u001b[1m0s\u001b[0m 28ms/step - loss: 0.0729 - mean_absolute_error: 0.1443 - root_mean_squared_error: 0.1846\n",
      "Epoch 100: val_loss did not improve from 0.04673\n",
      "\u001b[1m742/742\u001b[0m \u001b[32m━━━━━━━━━━━━━━━━━━━━\u001b[0m\u001b[37m\u001b[0m \u001b[1m22s\u001b[0m 29ms/step - loss: 0.0729 - mean_absolute_error: 0.1443 - root_mean_squared_error: 0.1846 - val_loss: 0.0511 - val_mean_absolute_error: 0.1204 - val_root_mean_squared_error: 0.1549 - learning_rate: 0.0010\n",
      "Epoch 101/300\n",
      "\u001b[1m741/742\u001b[0m \u001b[32m━━━━━━━━━━━━━━━━━━━\u001b[0m\u001b[37m━\u001b[0m \u001b[1m0s\u001b[0m 28ms/step - loss: 0.0726 - mean_absolute_error: 0.1439 - root_mean_squared_error: 0.1840\n",
      "Epoch 101: val_loss did not improve from 0.04673\n",
      "\u001b[1m742/742\u001b[0m \u001b[32m━━━━━━━━━━━━━━━━━━━━\u001b[0m\u001b[37m\u001b[0m \u001b[1m22s\u001b[0m 29ms/step - loss: 0.0726 - mean_absolute_error: 0.1439 - root_mean_squared_error: 0.1840 - val_loss: 0.0528 - val_mean_absolute_error: 0.1242 - val_root_mean_squared_error: 0.1595 - learning_rate: 0.0010\n",
      "Epoch 102/300\n",
      "\u001b[1m741/742\u001b[0m \u001b[32m━━━━━━━━━━━━━━━━━━━\u001b[0m\u001b[37m━\u001b[0m \u001b[1m0s\u001b[0m 28ms/step - loss: 0.0718 - mean_absolute_error: 0.1421 - root_mean_squared_error: 0.1820\n",
      "Epoch 102: val_loss did not improve from 0.04673\n",
      "\u001b[1m742/742\u001b[0m \u001b[32m━━━━━━━━━━━━━━━━━━━━\u001b[0m\u001b[37m\u001b[0m \u001b[1m22s\u001b[0m 29ms/step - loss: 0.0718 - mean_absolute_error: 0.1421 - root_mean_squared_error: 0.1820 - val_loss: 0.0473 - val_mean_absolute_error: 0.1087 - val_root_mean_squared_error: 0.1404 - learning_rate: 0.0010\n",
      "Epoch 103/300\n",
      "\u001b[1m741/742\u001b[0m \u001b[32m━━━━━━━━━━━━━━━━━━━\u001b[0m\u001b[37m━\u001b[0m \u001b[1m0s\u001b[0m 28ms/step - loss: 0.0715 - mean_absolute_error: 0.1419 - root_mean_squared_error: 0.1816\n",
      "Epoch 103: val_loss did not improve from 0.04673\n",
      "\u001b[1m742/742\u001b[0m \u001b[32m━━━━━━━━━━━━━━━━━━━━\u001b[0m\u001b[37m\u001b[0m \u001b[1m22s\u001b[0m 29ms/step - loss: 0.0715 - mean_absolute_error: 0.1419 - root_mean_squared_error: 0.1816 - val_loss: 0.0481 - val_mean_absolute_error: 0.1118 - val_root_mean_squared_error: 0.1432 - learning_rate: 0.0010\n",
      "Epoch 104/300\n",
      "\u001b[1m741/742\u001b[0m \u001b[32m━━━━━━━━━━━━━━━━━━━\u001b[0m\u001b[37m━\u001b[0m \u001b[1m0s\u001b[0m 29ms/step - loss: 0.0707 - mean_absolute_error: 0.1412 - root_mean_squared_error: 0.1804\n",
      "Epoch 104: val_loss did not improve from 0.04673\n",
      "\n",
      "Epoch 104: ReduceLROnPlateau reducing learning rate to 0.0005000000237487257.\n",
      "\u001b[1m742/742\u001b[0m \u001b[32m━━━━━━━━━━━━━━━━━━━━\u001b[0m\u001b[37m\u001b[0m \u001b[1m22s\u001b[0m 29ms/step - loss: 0.0707 - mean_absolute_error: 0.1412 - root_mean_squared_error: 0.1804 - val_loss: 0.0469 - val_mean_absolute_error: 0.1117 - val_root_mean_squared_error: 0.1431 - learning_rate: 0.0010\n",
      "Epoch 105/300\n",
      "\u001b[1m741/742\u001b[0m \u001b[32m━━━━━━━━━━━━━━━━━━━\u001b[0m\u001b[37m━\u001b[0m \u001b[1m0s\u001b[0m 29ms/step - loss: 0.0663 - mean_absolute_error: 0.1346 - root_mean_squared_error: 0.1719\n",
      "Epoch 105: val_loss improved from 0.04673 to 0.04014, saving model to models/unet_fine_tuned_model.keras\n",
      "\u001b[1m742/742\u001b[0m \u001b[32m━━━━━━━━━━━━━━━━━━━━\u001b[0m\u001b[37m\u001b[0m \u001b[1m34s\u001b[0m 32ms/step - loss: 0.0663 - mean_absolute_error: 0.1346 - root_mean_squared_error: 0.1719 - val_loss: 0.0401 - val_mean_absolute_error: 0.0935 - val_root_mean_squared_error: 0.1210 - learning_rate: 5.0000e-04\n",
      "Epoch 106/300\n",
      "\u001b[1m741/742\u001b[0m \u001b[32m━━━━━━━━━━━━━━━━━━━\u001b[0m\u001b[37m━\u001b[0m \u001b[1m0s\u001b[0m 28ms/step - loss: 0.0617 - mean_absolute_error: 0.1262 - root_mean_squared_error: 0.1611\n",
      "Epoch 106: val_loss did not improve from 0.04014\n",
      "\u001b[1m742/742\u001b[0m \u001b[32m━━━━━━━━━━━━━━━━━━━━\u001b[0m\u001b[37m\u001b[0m \u001b[1m22s\u001b[0m 29ms/step - loss: 0.0617 - mean_absolute_error: 0.1262 - root_mean_squared_error: 0.1611 - val_loss: 0.0402 - val_mean_absolute_error: 0.0950 - val_root_mean_squared_error: 0.1233 - learning_rate: 5.0000e-04\n",
      "Epoch 107/300\n",
      "\u001b[1m741/742\u001b[0m \u001b[32m━━━━━━━━━━━━━━━━━━━\u001b[0m\u001b[37m━\u001b[0m \u001b[1m0s\u001b[0m 28ms/step - loss: 0.0612 - mean_absolute_error: 0.1259 - root_mean_squared_error: 0.1604\n",
      "Epoch 107: val_loss improved from 0.04014 to 0.03793, saving model to models/unet_fine_tuned_model.keras\n",
      "\u001b[1m742/742\u001b[0m \u001b[32m━━━━━━━━━━━━━━━━━━━━\u001b[0m\u001b[37m\u001b[0m \u001b[1m23s\u001b[0m 31ms/step - loss: 0.0612 - mean_absolute_error: 0.1259 - root_mean_squared_error: 0.1604 - val_loss: 0.0379 - val_mean_absolute_error: 0.0885 - val_root_mean_squared_error: 0.1149 - learning_rate: 5.0000e-04\n",
      "Epoch 108/300\n",
      "\u001b[1m741/742\u001b[0m \u001b[32m━━━━━━━━━━━━━━━━━━━\u001b[0m\u001b[37m━\u001b[0m \u001b[1m0s\u001b[0m 28ms/step - loss: 0.0605 - mean_absolute_error: 0.1255 - root_mean_squared_error: 0.1601\n",
      "Epoch 108: val_loss did not improve from 0.03793\n",
      "\u001b[1m742/742\u001b[0m \u001b[32m━━━━━━━━━━━━━━━━━━━━\u001b[0m\u001b[37m\u001b[0m \u001b[1m22s\u001b[0m 29ms/step - loss: 0.0605 - mean_absolute_error: 0.1255 - root_mean_squared_error: 0.1601 - val_loss: 0.0388 - val_mean_absolute_error: 0.0926 - val_root_mean_squared_error: 0.1195 - learning_rate: 5.0000e-04\n",
      "Epoch 109/300\n",
      "\u001b[1m741/742\u001b[0m \u001b[32m━━━━━━━━━━━━━━━━━━━\u001b[0m\u001b[37m━\u001b[0m \u001b[1m0s\u001b[0m 29ms/step - loss: 0.0597 - mean_absolute_error: 0.1241 - root_mean_squared_error: 0.1585\n",
      "Epoch 109: val_loss improved from 0.03793 to 0.03748, saving model to models/unet_fine_tuned_model.keras\n",
      "\u001b[1m742/742\u001b[0m \u001b[32m━━━━━━━━━━━━━━━━━━━━\u001b[0m\u001b[37m\u001b[0m \u001b[1m23s\u001b[0m 31ms/step - loss: 0.0597 - mean_absolute_error: 0.1241 - root_mean_squared_error: 0.1585 - val_loss: 0.0375 - val_mean_absolute_error: 0.0893 - val_root_mean_squared_error: 0.1162 - learning_rate: 5.0000e-04\n",
      "Epoch 110/300\n",
      "\u001b[1m741/742\u001b[0m \u001b[32m━━━━━━━━━━━━━━━━━━━\u001b[0m\u001b[37m━\u001b[0m \u001b[1m0s\u001b[0m 28ms/step - loss: 0.0596 - mean_absolute_error: 0.1241 - root_mean_squared_error: 0.1584\n",
      "Epoch 110: val_loss improved from 0.03748 to 0.03666, saving model to models/unet_fine_tuned_model.keras\n",
      "\u001b[1m742/742\u001b[0m \u001b[32m━━━━━━━━━━━━━━━━━━━━\u001b[0m\u001b[37m\u001b[0m \u001b[1m23s\u001b[0m 31ms/step - loss: 0.0596 - mean_absolute_error: 0.1241 - root_mean_squared_error: 0.1584 - val_loss: 0.0367 - val_mean_absolute_error: 0.0860 - val_root_mean_squared_error: 0.1116 - learning_rate: 5.0000e-04\n",
      "Epoch 111/300\n",
      "\u001b[1m741/742\u001b[0m \u001b[32m━━━━━━━━━━━━━━━━━━━\u001b[0m\u001b[37m━\u001b[0m \u001b[1m0s\u001b[0m 28ms/step - loss: 0.0591 - mean_absolute_error: 0.1227 - root_mean_squared_error: 0.1567\n",
      "Epoch 111: val_loss did not improve from 0.03666\n",
      "\u001b[1m742/742\u001b[0m \u001b[32m━━━━━━━━━━━━━━━━━━━━\u001b[0m\u001b[37m\u001b[0m \u001b[1m22s\u001b[0m 29ms/step - loss: 0.0591 - mean_absolute_error: 0.1227 - root_mean_squared_error: 0.1567 - val_loss: 0.0375 - val_mean_absolute_error: 0.0888 - val_root_mean_squared_error: 0.1148 - learning_rate: 5.0000e-04\n",
      "Epoch 112/300\n",
      "\u001b[1m741/742\u001b[0m \u001b[32m━━━━━━━━━━━━━━━━━━━\u001b[0m\u001b[37m━\u001b[0m \u001b[1m0s\u001b[0m 29ms/step - loss: 0.0591 - mean_absolute_error: 0.1241 - root_mean_squared_error: 0.1585\n",
      "Epoch 112: val_loss improved from 0.03666 to 0.03549, saving model to models/unet_fine_tuned_model.keras\n",
      "\u001b[1m742/742\u001b[0m \u001b[32m━━━━━━━━━━━━━━━━━━━━\u001b[0m\u001b[37m\u001b[0m \u001b[1m23s\u001b[0m 31ms/step - loss: 0.0591 - mean_absolute_error: 0.1241 - root_mean_squared_error: 0.1585 - val_loss: 0.0355 - val_mean_absolute_error: 0.0835 - val_root_mean_squared_error: 0.1087 - learning_rate: 5.0000e-04\n",
      "Epoch 113/300\n",
      "\u001b[1m741/742\u001b[0m \u001b[32m━━━━━━━━━━━━━━━━━━━\u001b[0m\u001b[37m━\u001b[0m \u001b[1m0s\u001b[0m 29ms/step - loss: 0.0585 - mean_absolute_error: 0.1225 - root_mean_squared_error: 0.1562\n",
      "Epoch 113: val_loss did not improve from 0.03549\n",
      "\u001b[1m742/742\u001b[0m \u001b[32m━━━━━━━━━━━━━━━━━━━━\u001b[0m\u001b[37m\u001b[0m \u001b[1m22s\u001b[0m 29ms/step - loss: 0.0585 - mean_absolute_error: 0.1225 - root_mean_squared_error: 0.1562 - val_loss: 0.0363 - val_mean_absolute_error: 0.0862 - val_root_mean_squared_error: 0.1118 - learning_rate: 5.0000e-04\n",
      "Epoch 114/300\n",
      "\u001b[1m741/742\u001b[0m \u001b[32m━━━━━━━━━━━━━━━━━━━\u001b[0m\u001b[37m━\u001b[0m \u001b[1m0s\u001b[0m 28ms/step - loss: 0.0579 - mean_absolute_error: 0.1210 - root_mean_squared_error: 0.1544\n",
      "Epoch 114: val_loss improved from 0.03549 to 0.03486, saving model to models/unet_fine_tuned_model.keras\n",
      "\u001b[1m742/742\u001b[0m \u001b[32m━━━━━━━━━━━━━━━━━━━━\u001b[0m\u001b[37m\u001b[0m \u001b[1m23s\u001b[0m 31ms/step - loss: 0.0579 - mean_absolute_error: 0.1210 - root_mean_squared_error: 0.1544 - val_loss: 0.0349 - val_mean_absolute_error: 0.0830 - val_root_mean_squared_error: 0.1077 - learning_rate: 5.0000e-04\n",
      "Epoch 115/300\n",
      "\u001b[1m741/742\u001b[0m \u001b[32m━━━━━━━━━━━━━━━━━━━\u001b[0m\u001b[37m━\u001b[0m \u001b[1m0s\u001b[0m 28ms/step - loss: 0.0571 - mean_absolute_error: 0.1194 - root_mean_squared_error: 0.1523\n",
      "Epoch 115: val_loss did not improve from 0.03486\n",
      "\u001b[1m742/742\u001b[0m \u001b[32m━━━━━━━━━━━━━━━━━━━━\u001b[0m\u001b[37m\u001b[0m \u001b[1m22s\u001b[0m 29ms/step - loss: 0.0571 - mean_absolute_error: 0.1194 - root_mean_squared_error: 0.1523 - val_loss: 0.0359 - val_mean_absolute_error: 0.0857 - val_root_mean_squared_error: 0.1111 - learning_rate: 5.0000e-04\n",
      "Epoch 116/300\n",
      "\u001b[1m741/742\u001b[0m \u001b[32m━━━━━━━━━━━━━━━━━━━\u001b[0m\u001b[37m━\u001b[0m \u001b[1m0s\u001b[0m 28ms/step - loss: 0.0571 - mean_absolute_error: 0.1196 - root_mean_squared_error: 0.1527\n",
      "Epoch 116: val_loss did not improve from 0.03486\n",
      "\u001b[1m742/742\u001b[0m \u001b[32m━━━━━━━━━━━━━━━━━━━━\u001b[0m\u001b[37m\u001b[0m \u001b[1m22s\u001b[0m 29ms/step - loss: 0.0571 - mean_absolute_error: 0.1196 - root_mean_squared_error: 0.1527 - val_loss: 0.0374 - val_mean_absolute_error: 0.0929 - val_root_mean_squared_error: 0.1200 - learning_rate: 5.0000e-04\n",
      "Epoch 117/300\n",
      "\u001b[1m741/742\u001b[0m \u001b[32m━━━━━━━━━━━━━━━━━━━\u001b[0m\u001b[37m━\u001b[0m \u001b[1m0s\u001b[0m 28ms/step - loss: 0.0572 - mean_absolute_error: 0.1205 - root_mean_squared_error: 0.1536\n",
      "Epoch 117: val_loss did not improve from 0.03486\n",
      "\u001b[1m742/742\u001b[0m \u001b[32m━━━━━━━━━━━━━━━━━━━━\u001b[0m\u001b[37m\u001b[0m \u001b[1m22s\u001b[0m 29ms/step - loss: 0.0572 - mean_absolute_error: 0.1205 - root_mean_squared_error: 0.1536 - val_loss: 0.0364 - val_mean_absolute_error: 0.0874 - val_root_mean_squared_error: 0.1128 - learning_rate: 5.0000e-04\n",
      "Epoch 118/300\n",
      "\u001b[1m741/742\u001b[0m \u001b[32m━━━━━━━━━━━━━━━━━━━\u001b[0m\u001b[37m━\u001b[0m \u001b[1m0s\u001b[0m 28ms/step - loss: 0.0567 - mean_absolute_error: 0.1198 - root_mean_squared_error: 0.1527\n",
      "Epoch 118: val_loss did not improve from 0.03486\n",
      "\u001b[1m742/742\u001b[0m \u001b[32m━━━━━━━━━━━━━━━━━━━━\u001b[0m\u001b[37m\u001b[0m \u001b[1m22s\u001b[0m 29ms/step - loss: 0.0567 - mean_absolute_error: 0.1198 - root_mean_squared_error: 0.1527 - val_loss: 0.0359 - val_mean_absolute_error: 0.0862 - val_root_mean_squared_error: 0.1111 - learning_rate: 5.0000e-04\n",
      "Epoch 119/300\n",
      "\u001b[1m741/742\u001b[0m \u001b[32m━━━━━━━━━━━━━━━━━━━\u001b[0m\u001b[37m━\u001b[0m \u001b[1m0s\u001b[0m 28ms/step - loss: 0.0561 - mean_absolute_error: 0.1185 - root_mean_squared_error: 0.1508\n",
      "Epoch 119: val_loss improved from 0.03486 to 0.03464, saving model to models/unet_fine_tuned_model.keras\n",
      "\u001b[1m742/742\u001b[0m \u001b[32m━━━━━━━━━━━━━━━━━━━━\u001b[0m\u001b[37m\u001b[0m \u001b[1m23s\u001b[0m 31ms/step - loss: 0.0561 - mean_absolute_error: 0.1185 - root_mean_squared_error: 0.1508 - val_loss: 0.0346 - val_mean_absolute_error: 0.0827 - val_root_mean_squared_error: 0.1073 - learning_rate: 5.0000e-04\n",
      "Epoch 120/300\n",
      "\u001b[1m741/742\u001b[0m \u001b[32m━━━━━━━━━━━━━━━━━━━\u001b[0m\u001b[37m━\u001b[0m \u001b[1m0s\u001b[0m 28ms/step - loss: 0.0565 - mean_absolute_error: 0.1216 - root_mean_squared_error: 0.1548\n",
      "Epoch 120: val_loss improved from 0.03464 to 0.03442, saving model to models/unet_fine_tuned_model.keras\n",
      "\u001b[1m742/742\u001b[0m \u001b[32m━━━━━━━━━━━━━━━━━━━━\u001b[0m\u001b[37m\u001b[0m \u001b[1m23s\u001b[0m 31ms/step - loss: 0.0565 - mean_absolute_error: 0.1216 - root_mean_squared_error: 0.1548 - val_loss: 0.0344 - val_mean_absolute_error: 0.0814 - val_root_mean_squared_error: 0.1059 - learning_rate: 5.0000e-04\n",
      "Epoch 121/300\n",
      "\u001b[1m741/742\u001b[0m \u001b[32m━━━━━━━━━━━━━━━━━━━\u001b[0m\u001b[37m━\u001b[0m \u001b[1m0s\u001b[0m 28ms/step - loss: 0.0567 - mean_absolute_error: 0.1209 - root_mean_squared_error: 0.1538\n",
      "Epoch 121: val_loss did not improve from 0.03442\n",
      "\u001b[1m742/742\u001b[0m \u001b[32m━━━━━━━━━━━━━━━━━━━━\u001b[0m\u001b[37m\u001b[0m \u001b[1m22s\u001b[0m 29ms/step - loss: 0.0567 - mean_absolute_error: 0.1209 - root_mean_squared_error: 0.1538 - val_loss: 0.0361 - val_mean_absolute_error: 0.0877 - val_root_mean_squared_error: 0.1139 - learning_rate: 5.0000e-04\n",
      "Epoch 122/300\n",
      "\u001b[1m741/742\u001b[0m \u001b[32m━━━━━━━━━━━━━━━━━━━\u001b[0m\u001b[37m━\u001b[0m \u001b[1m0s\u001b[0m 28ms/step - loss: 0.0557 - mean_absolute_error: 0.1184 - root_mean_squared_error: 0.1509\n",
      "Epoch 122: val_loss did not improve from 0.03442\n",
      "\u001b[1m742/742\u001b[0m \u001b[32m━━━━━━━━━━━━━━━━━━━━\u001b[0m\u001b[37m\u001b[0m \u001b[1m22s\u001b[0m 29ms/step - loss: 0.0557 - mean_absolute_error: 0.1184 - root_mean_squared_error: 0.1509 - val_loss: 0.0355 - val_mean_absolute_error: 0.0865 - val_root_mean_squared_error: 0.1119 - learning_rate: 5.0000e-04\n",
      "Epoch 123/300\n",
      "\u001b[1m741/742\u001b[0m \u001b[32m━━━━━━━━━━━━━━━━━━━\u001b[0m\u001b[37m━\u001b[0m \u001b[1m0s\u001b[0m 28ms/step - loss: 0.0552 - mean_absolute_error: 0.1165 - root_mean_squared_error: 0.1486\n",
      "Epoch 123: val_loss improved from 0.03442 to 0.03430, saving model to models/unet_fine_tuned_model.keras\n",
      "\u001b[1m742/742\u001b[0m \u001b[32m━━━━━━━━━━━━━━━━━━━━\u001b[0m\u001b[37m\u001b[0m \u001b[1m23s\u001b[0m 31ms/step - loss: 0.0552 - mean_absolute_error: 0.1165 - root_mean_squared_error: 0.1486 - val_loss: 0.0343 - val_mean_absolute_error: 0.0819 - val_root_mean_squared_error: 0.1064 - learning_rate: 5.0000e-04\n",
      "Epoch 124/300\n",
      "\u001b[1m741/742\u001b[0m \u001b[32m━━━━━━━━━━━━━━━━━━━\u001b[0m\u001b[37m━\u001b[0m \u001b[1m0s\u001b[0m 28ms/step - loss: 0.0553 - mean_absolute_error: 0.1178 - root_mean_squared_error: 0.1501\n",
      "Epoch 124: val_loss improved from 0.03430 to 0.03368, saving model to models/unet_fine_tuned_model.keras\n",
      "\u001b[1m742/742\u001b[0m \u001b[32m━━━━━━━━━━━━━━━━━━━━\u001b[0m\u001b[37m\u001b[0m \u001b[1m23s\u001b[0m 31ms/step - loss: 0.0553 - mean_absolute_error: 0.1178 - root_mean_squared_error: 0.1501 - val_loss: 0.0337 - val_mean_absolute_error: 0.0799 - val_root_mean_squared_error: 0.1038 - learning_rate: 5.0000e-04\n",
      "Epoch 125/300\n",
      "\u001b[1m741/742\u001b[0m \u001b[32m━━━━━━━━━━━━━━━━━━━\u001b[0m\u001b[37m━\u001b[0m \u001b[1m0s\u001b[0m 28ms/step - loss: 0.0546 - mean_absolute_error: 0.1169 - root_mean_squared_error: 0.1487\n",
      "Epoch 125: val_loss did not improve from 0.03368\n",
      "\u001b[1m742/742\u001b[0m \u001b[32m━━━━━━━━━━━━━━━━━━━━\u001b[0m\u001b[37m\u001b[0m \u001b[1m22s\u001b[0m 29ms/step - loss: 0.0546 - mean_absolute_error: 0.1169 - root_mean_squared_error: 0.1487 - val_loss: 0.0342 - val_mean_absolute_error: 0.0808 - val_root_mean_squared_error: 0.1048 - learning_rate: 5.0000e-04\n",
      "Epoch 126/300\n",
      "\u001b[1m741/742\u001b[0m \u001b[32m━━━━━━━━━━━━━━━━━━━\u001b[0m\u001b[37m━\u001b[0m \u001b[1m0s\u001b[0m 28ms/step - loss: 0.0551 - mean_absolute_error: 0.1180 - root_mean_squared_error: 0.1505\n",
      "Epoch 126: val_loss did not improve from 0.03368\n",
      "\u001b[1m742/742\u001b[0m \u001b[32m━━━━━━━━━━━━━━━━━━━━\u001b[0m\u001b[37m\u001b[0m \u001b[1m22s\u001b[0m 29ms/step - loss: 0.0551 - mean_absolute_error: 0.1180 - root_mean_squared_error: 0.1505 - val_loss: 0.0339 - val_mean_absolute_error: 0.0809 - val_root_mean_squared_error: 0.1049 - learning_rate: 5.0000e-04\n",
      "Epoch 127/300\n",
      "\u001b[1m741/742\u001b[0m \u001b[32m━━━━━━━━━━━━━━━━━━━\u001b[0m\u001b[37m━\u001b[0m \u001b[1m0s\u001b[0m 28ms/step - loss: 0.0546 - mean_absolute_error: 0.1163 - root_mean_squared_error: 0.1483\n",
      "Epoch 127: val_loss improved from 0.03368 to 0.03351, saving model to models/unet_fine_tuned_model.keras\n",
      "\u001b[1m742/742\u001b[0m \u001b[32m━━━━━━━━━━━━━━━━━━━━\u001b[0m\u001b[37m\u001b[0m \u001b[1m23s\u001b[0m 31ms/step - loss: 0.0546 - mean_absolute_error: 0.1163 - root_mean_squared_error: 0.1483 - val_loss: 0.0335 - val_mean_absolute_error: 0.0801 - val_root_mean_squared_error: 0.1039 - learning_rate: 5.0000e-04\n",
      "Epoch 128/300\n",
      "\u001b[1m741/742\u001b[0m \u001b[32m━━━━━━━━━━━━━━━━━━━\u001b[0m\u001b[37m━\u001b[0m \u001b[1m0s\u001b[0m 28ms/step - loss: 0.0542 - mean_absolute_error: 0.1155 - root_mean_squared_error: 0.1469\n",
      "Epoch 128: val_loss did not improve from 0.03351\n",
      "\u001b[1m742/742\u001b[0m \u001b[32m━━━━━━━━━━━━━━━━━━━━\u001b[0m\u001b[37m\u001b[0m \u001b[1m22s\u001b[0m 29ms/step - loss: 0.0542 - mean_absolute_error: 0.1155 - root_mean_squared_error: 0.1469 - val_loss: 0.0344 - val_mean_absolute_error: 0.0832 - val_root_mean_squared_error: 0.1081 - learning_rate: 5.0000e-04\n",
      "Epoch 129/300\n",
      "\u001b[1m741/742\u001b[0m \u001b[32m━━━━━━━━━━━━━━━━━━━\u001b[0m\u001b[37m━\u001b[0m \u001b[1m0s\u001b[0m 28ms/step - loss: 0.0541 - mean_absolute_error: 0.1166 - root_mean_squared_error: 0.1485\n",
      "Epoch 129: val_loss improved from 0.03351 to 0.03270, saving model to models/unet_fine_tuned_model.keras\n",
      "\u001b[1m742/742\u001b[0m \u001b[32m━━━━━━━━━━━━━━━━━━━━\u001b[0m\u001b[37m\u001b[0m \u001b[1m23s\u001b[0m 31ms/step - loss: 0.0541 - mean_absolute_error: 0.1166 - root_mean_squared_error: 0.1485 - val_loss: 0.0327 - val_mean_absolute_error: 0.0770 - val_root_mean_squared_error: 0.1004 - learning_rate: 5.0000e-04\n",
      "Epoch 130/300\n",
      "\u001b[1m741/742\u001b[0m \u001b[32m━━━━━━━━━━━━━━━━━━━\u001b[0m\u001b[37m━\u001b[0m \u001b[1m0s\u001b[0m 28ms/step - loss: 0.0538 - mean_absolute_error: 0.1156 - root_mean_squared_error: 0.1473\n",
      "Epoch 130: val_loss did not improve from 0.03270\n",
      "\u001b[1m742/742\u001b[0m \u001b[32m━━━━━━━━━━━━━━━━━━━━\u001b[0m\u001b[37m\u001b[0m \u001b[1m22s\u001b[0m 29ms/step - loss: 0.0538 - mean_absolute_error: 0.1156 - root_mean_squared_error: 0.1473 - val_loss: 0.0328 - val_mean_absolute_error: 0.0778 - val_root_mean_squared_error: 0.1012 - learning_rate: 5.0000e-04\n",
      "Epoch 131/300\n",
      "\u001b[1m741/742\u001b[0m \u001b[32m━━━━━━━━━━━━━━━━━━━\u001b[0m\u001b[37m━\u001b[0m \u001b[1m0s\u001b[0m 28ms/step - loss: 0.0541 - mean_absolute_error: 0.1170 - root_mean_squared_error: 0.1489\n",
      "Epoch 131: val_loss improved from 0.03270 to 0.03212, saving model to models/unet_fine_tuned_model.keras\n",
      "\u001b[1m742/742\u001b[0m \u001b[32m━━━━━━━━━━━━━━━━━━━━\u001b[0m\u001b[37m\u001b[0m \u001b[1m23s\u001b[0m 31ms/step - loss: 0.0541 - mean_absolute_error: 0.1170 - root_mean_squared_error: 0.1489 - val_loss: 0.0321 - val_mean_absolute_error: 0.0759 - val_root_mean_squared_error: 0.0989 - learning_rate: 5.0000e-04\n",
      "Epoch 132/300\n",
      "\u001b[1m741/742\u001b[0m \u001b[32m━━━━━━━━━━━━━━━━━━━\u001b[0m\u001b[37m━\u001b[0m \u001b[1m0s\u001b[0m 28ms/step - loss: 0.0530 - mean_absolute_error: 0.1134 - root_mean_squared_error: 0.1447\n",
      "Epoch 132: val_loss did not improve from 0.03212\n",
      "\u001b[1m742/742\u001b[0m \u001b[32m━━━━━━━━━━━━━━━━━━━━\u001b[0m\u001b[37m\u001b[0m \u001b[1m22s\u001b[0m 29ms/step - loss: 0.0530 - mean_absolute_error: 0.1134 - root_mean_squared_error: 0.1447 - val_loss: 0.0329 - val_mean_absolute_error: 0.0786 - val_root_mean_squared_error: 0.1021 - learning_rate: 5.0000e-04\n",
      "Epoch 133/300\n",
      "\u001b[1m741/742\u001b[0m \u001b[32m━━━━━━━━━━━━━━━━━━━\u001b[0m\u001b[37m━\u001b[0m \u001b[1m0s\u001b[0m 28ms/step - loss: 0.0524 - mean_absolute_error: 0.1115 - root_mean_squared_error: 0.1421\n",
      "Epoch 133: val_loss did not improve from 0.03212\n",
      "\u001b[1m742/742\u001b[0m \u001b[32m━━━━━━━━━━━━━━━━━━━━\u001b[0m\u001b[37m\u001b[0m \u001b[1m22s\u001b[0m 29ms/step - loss: 0.0524 - mean_absolute_error: 0.1115 - root_mean_squared_error: 0.1421 - val_loss: 0.0326 - val_mean_absolute_error: 0.0774 - val_root_mean_squared_error: 0.1008 - learning_rate: 5.0000e-04\n",
      "Epoch 134/300\n",
      "\u001b[1m741/742\u001b[0m \u001b[32m━━━━━━━━━━━━━━━━━━━\u001b[0m\u001b[37m━\u001b[0m \u001b[1m0s\u001b[0m 29ms/step - loss: 0.0529 - mean_absolute_error: 0.1143 - root_mean_squared_error: 0.1454\n",
      "Epoch 134: val_loss did not improve from 0.03212\n",
      "\u001b[1m742/742\u001b[0m \u001b[32m━━━━━━━━━━━━━━━━━━━━\u001b[0m\u001b[37m\u001b[0m \u001b[1m22s\u001b[0m 29ms/step - loss: 0.0529 - mean_absolute_error: 0.1143 - root_mean_squared_error: 0.1454 - val_loss: 0.0324 - val_mean_absolute_error: 0.0766 - val_root_mean_squared_error: 0.0997 - learning_rate: 5.0000e-04\n",
      "Epoch 135/300\n",
      "\u001b[1m741/742\u001b[0m \u001b[32m━━━━━━━━━━━━━━━━━━━\u001b[0m\u001b[37m━\u001b[0m \u001b[1m0s\u001b[0m 29ms/step - loss: 0.0524 - mean_absolute_error: 0.1118 - root_mean_squared_error: 0.1426\n",
      "Epoch 135: val_loss did not improve from 0.03212\n",
      "\u001b[1m742/742\u001b[0m \u001b[32m━━━━━━━━━━━━━━━━━━━━\u001b[0m\u001b[37m\u001b[0m \u001b[1m22s\u001b[0m 30ms/step - loss: 0.0524 - mean_absolute_error: 0.1118 - root_mean_squared_error: 0.1426 - val_loss: 0.0322 - val_mean_absolute_error: 0.0763 - val_root_mean_squared_error: 0.0992 - learning_rate: 5.0000e-04\n",
      "Epoch 136/300\n",
      "\u001b[1m741/742\u001b[0m \u001b[32m━━━━━━━━━━━━━━━━━━━\u001b[0m\u001b[37m━\u001b[0m \u001b[1m0s\u001b[0m 29ms/step - loss: 0.0524 - mean_absolute_error: 0.1129 - root_mean_squared_error: 0.1437\n",
      "Epoch 136: val_loss did not improve from 0.03212\n",
      "\n",
      "Epoch 136: ReduceLROnPlateau reducing learning rate to 0.0002500000118743628.\n",
      "\u001b[1m742/742\u001b[0m \u001b[32m━━━━━━━━━━━━━━━━━━━━\u001b[0m\u001b[37m\u001b[0m \u001b[1m22s\u001b[0m 29ms/step - loss: 0.0524 - mean_absolute_error: 0.1129 - root_mean_squared_error: 0.1437 - val_loss: 0.0331 - val_mean_absolute_error: 0.0796 - val_root_mean_squared_error: 0.1030 - learning_rate: 5.0000e-04\n",
      "Epoch 137/300\n",
      "\u001b[1m741/742\u001b[0m \u001b[32m━━━━━━━━━━━━━━━━━━━\u001b[0m\u001b[37m━\u001b[0m \u001b[1m0s\u001b[0m 29ms/step - loss: 0.0509 - mean_absolute_error: 0.1112 - root_mean_squared_error: 0.1415\n",
      "Epoch 137: val_loss improved from 0.03212 to 0.02961, saving model to models/unet_fine_tuned_model.keras\n",
      "\u001b[1m742/742\u001b[0m \u001b[32m━━━━━━━━━━━━━━━━━━━━\u001b[0m\u001b[37m\u001b[0m \u001b[1m23s\u001b[0m 31ms/step - loss: 0.0509 - mean_absolute_error: 0.1112 - root_mean_squared_error: 0.1415 - val_loss: 0.0296 - val_mean_absolute_error: 0.0700 - val_root_mean_squared_error: 0.0916 - learning_rate: 2.5000e-04\n",
      "Epoch 138/300\n",
      "\u001b[1m741/742\u001b[0m \u001b[32m━━━━━━━━━━━━━━━━━━━\u001b[0m\u001b[37m━\u001b[0m \u001b[1m0s\u001b[0m 28ms/step - loss: 0.0493 - mean_absolute_error: 0.1085 - root_mean_squared_error: 0.1383\n",
      "Epoch 138: val_loss did not improve from 0.02961\n",
      "\u001b[1m742/742\u001b[0m \u001b[32m━━━━━━━━━━━━━━━━━━━━\u001b[0m\u001b[37m\u001b[0m \u001b[1m22s\u001b[0m 29ms/step - loss: 0.0493 - mean_absolute_error: 0.1085 - root_mean_squared_error: 0.1383 - val_loss: 0.0298 - val_mean_absolute_error: 0.0720 - val_root_mean_squared_error: 0.0941 - learning_rate: 2.5000e-04\n",
      "Epoch 139/300\n",
      "\u001b[1m741/742\u001b[0m \u001b[32m━━━━━━━━━━━━━━━━━━━\u001b[0m\u001b[37m━\u001b[0m \u001b[1m0s\u001b[0m 28ms/step - loss: 0.0489 - mean_absolute_error: 0.1077 - root_mean_squared_error: 0.1373\n",
      "Epoch 139: val_loss improved from 0.02961 to 0.02892, saving model to models/unet_fine_tuned_model.keras\n",
      "\u001b[1m742/742\u001b[0m \u001b[32m━━━━━━━━━━━━━━━━━━━━\u001b[0m\u001b[37m\u001b[0m \u001b[1m23s\u001b[0m 31ms/step - loss: 0.0489 - mean_absolute_error: 0.1077 - root_mean_squared_error: 0.1373 - val_loss: 0.0289 - val_mean_absolute_error: 0.0690 - val_root_mean_squared_error: 0.0901 - learning_rate: 2.5000e-04\n",
      "Epoch 140/300\n",
      "\u001b[1m741/742\u001b[0m \u001b[32m━━━━━━━━━━━━━━━━━━━\u001b[0m\u001b[37m━\u001b[0m \u001b[1m0s\u001b[0m 29ms/step - loss: 0.0486 - mean_absolute_error: 0.1078 - root_mean_squared_error: 0.1371\n",
      "Epoch 140: val_loss did not improve from 0.02892\n",
      "\u001b[1m742/742\u001b[0m \u001b[32m━━━━━━━━━━━━━━━━━━━━\u001b[0m\u001b[37m\u001b[0m \u001b[1m22s\u001b[0m 29ms/step - loss: 0.0486 - mean_absolute_error: 0.1078 - root_mean_squared_error: 0.1371 - val_loss: 0.0292 - val_mean_absolute_error: 0.0701 - val_root_mean_squared_error: 0.0914 - learning_rate: 2.5000e-04\n",
      "Epoch 141/300\n",
      "\u001b[1m741/742\u001b[0m \u001b[32m━━━━━━━━━━━━━━━━━━━\u001b[0m\u001b[37m━\u001b[0m \u001b[1m0s\u001b[0m 28ms/step - loss: 0.0482 - mean_absolute_error: 0.1066 - root_mean_squared_error: 0.1357\n",
      "Epoch 141: val_loss improved from 0.02892 to 0.02826, saving model to models/unet_fine_tuned_model.keras\n",
      "\u001b[1m742/742\u001b[0m \u001b[32m━━━━━━━━━━━━━━━━━━━━\u001b[0m\u001b[37m\u001b[0m \u001b[1m23s\u001b[0m 31ms/step - loss: 0.0482 - mean_absolute_error: 0.1066 - root_mean_squared_error: 0.1357 - val_loss: 0.0283 - val_mean_absolute_error: 0.0673 - val_root_mean_squared_error: 0.0881 - learning_rate: 2.5000e-04\n",
      "Epoch 142/300\n",
      "\u001b[1m741/742\u001b[0m \u001b[32m━━━━━━━━━━━━━━━━━━━\u001b[0m\u001b[37m━\u001b[0m \u001b[1m0s\u001b[0m 28ms/step - loss: 0.0486 - mean_absolute_error: 0.1090 - root_mean_squared_error: 0.1384\n",
      "Epoch 142: val_loss improved from 0.02826 to 0.02806, saving model to models/unet_fine_tuned_model.keras\n",
      "\u001b[1m742/742\u001b[0m \u001b[32m━━━━━━━━━━━━━━━━━━━━\u001b[0m\u001b[37m\u001b[0m \u001b[1m23s\u001b[0m 31ms/step - loss: 0.0486 - mean_absolute_error: 0.1090 - root_mean_squared_error: 0.1384 - val_loss: 0.0281 - val_mean_absolute_error: 0.0670 - val_root_mean_squared_error: 0.0876 - learning_rate: 2.5000e-04\n",
      "Epoch 143/300\n",
      "\u001b[1m741/742\u001b[0m \u001b[32m━━━━━━━━━━━━━━━━━━━\u001b[0m\u001b[37m━\u001b[0m \u001b[1m0s\u001b[0m 29ms/step - loss: 0.0482 - mean_absolute_error: 0.1071 - root_mean_squared_error: 0.1363\n",
      "Epoch 143: val_loss improved from 0.02806 to 0.02804, saving model to models/unet_fine_tuned_model.keras\n",
      "\u001b[1m742/742\u001b[0m \u001b[32m━━━━━━━━━━━━━━━━━━━━\u001b[0m\u001b[37m\u001b[0m \u001b[1m23s\u001b[0m 31ms/step - loss: 0.0482 - mean_absolute_error: 0.1071 - root_mean_squared_error: 0.1363 - val_loss: 0.0280 - val_mean_absolute_error: 0.0672 - val_root_mean_squared_error: 0.0877 - learning_rate: 2.5000e-04\n",
      "Epoch 144/300\n",
      "\u001b[1m741/742\u001b[0m \u001b[32m━━━━━━━━━━━━━━━━━━━\u001b[0m\u001b[37m━\u001b[0m \u001b[1m0s\u001b[0m 29ms/step - loss: 0.0477 - mean_absolute_error: 0.1061 - root_mean_squared_error: 0.1349\n",
      "Epoch 144: val_loss did not improve from 0.02804\n",
      "\u001b[1m742/742\u001b[0m \u001b[32m━━━━━━━━━━━━━━━━━━━━\u001b[0m\u001b[37m\u001b[0m \u001b[1m22s\u001b[0m 29ms/step - loss: 0.0477 - mean_absolute_error: 0.1061 - root_mean_squared_error: 0.1349 - val_loss: 0.0280 - val_mean_absolute_error: 0.0675 - val_root_mean_squared_error: 0.0883 - learning_rate: 2.5000e-04\n",
      "Epoch 145/300\n",
      "\u001b[1m741/742\u001b[0m \u001b[32m━━━━━━━━━━━━━━━━━━━\u001b[0m\u001b[37m━\u001b[0m \u001b[1m0s\u001b[0m 29ms/step - loss: 0.0477 - mean_absolute_error: 0.1065 - root_mean_squared_error: 0.1351\n",
      "Epoch 145: val_loss improved from 0.02804 to 0.02751, saving model to models/unet_fine_tuned_model.keras\n",
      "\u001b[1m742/742\u001b[0m \u001b[32m━━━━━━━━━━━━━━━━━━━━\u001b[0m\u001b[37m\u001b[0m \u001b[1m23s\u001b[0m 31ms/step - loss: 0.0477 - mean_absolute_error: 0.1065 - root_mean_squared_error: 0.1351 - val_loss: 0.0275 - val_mean_absolute_error: 0.0652 - val_root_mean_squared_error: 0.0855 - learning_rate: 2.5000e-04\n",
      "Epoch 146/300\n",
      "\u001b[1m741/742\u001b[0m \u001b[32m━━━━━━━━━━━━━━━━━━━\u001b[0m\u001b[37m━\u001b[0m \u001b[1m0s\u001b[0m 29ms/step - loss: 0.0473 - mean_absolute_error: 0.1053 - root_mean_squared_error: 0.1335\n",
      "Epoch 146: val_loss did not improve from 0.02751\n",
      "\u001b[1m742/742\u001b[0m \u001b[32m━━━━━━━━━━━━━━━━━━━━\u001b[0m\u001b[37m\u001b[0m \u001b[1m22s\u001b[0m 29ms/step - loss: 0.0473 - mean_absolute_error: 0.1053 - root_mean_squared_error: 0.1335 - val_loss: 0.0279 - val_mean_absolute_error: 0.0668 - val_root_mean_squared_error: 0.0877 - learning_rate: 2.5000e-04\n",
      "Epoch 147/300\n",
      "\u001b[1m741/742\u001b[0m \u001b[32m━━━━━━━━━━━━━━━━━━━\u001b[0m\u001b[37m━\u001b[0m \u001b[1m0s\u001b[0m 29ms/step - loss: 0.0475 - mean_absolute_error: 0.1060 - root_mean_squared_error: 0.1349\n",
      "Epoch 147: val_loss did not improve from 0.02751\n",
      "\u001b[1m742/742\u001b[0m \u001b[32m━━━━━━━━━━━━━━━━━━━━\u001b[0m\u001b[37m\u001b[0m \u001b[1m22s\u001b[0m 29ms/step - loss: 0.0475 - mean_absolute_error: 0.1060 - root_mean_squared_error: 0.1349 - val_loss: 0.0278 - val_mean_absolute_error: 0.0667 - val_root_mean_squared_error: 0.0873 - learning_rate: 2.5000e-04\n",
      "Epoch 148/300\n",
      "\u001b[1m741/742\u001b[0m \u001b[32m━━━━━━━━━━━━━━━━━━━\u001b[0m\u001b[37m━\u001b[0m \u001b[1m0s\u001b[0m 29ms/step - loss: 0.0472 - mean_absolute_error: 0.1055 - root_mean_squared_error: 0.1339\n",
      "Epoch 148: val_loss did not improve from 0.02751\n",
      "\u001b[1m742/742\u001b[0m \u001b[32m━━━━━━━━━━━━━━━━━━━━\u001b[0m\u001b[37m\u001b[0m \u001b[1m22s\u001b[0m 30ms/step - loss: 0.0472 - mean_absolute_error: 0.1055 - root_mean_squared_error: 0.1339 - val_loss: 0.0277 - val_mean_absolute_error: 0.0669 - val_root_mean_squared_error: 0.0879 - learning_rate: 2.5000e-04\n",
      "Epoch 149/300\n",
      "\u001b[1m741/742\u001b[0m \u001b[32m━━━━━━━━━━━━━━━━━━━\u001b[0m\u001b[37m━\u001b[0m \u001b[1m0s\u001b[0m 29ms/step - loss: 0.0471 - mean_absolute_error: 0.1047 - root_mean_squared_error: 0.1333\n",
      "Epoch 149: val_loss improved from 0.02751 to 0.02693, saving model to models/unet_fine_tuned_model.keras\n",
      "\u001b[1m742/742\u001b[0m \u001b[32m━━━━━━━━━━━━━━━━━━━━\u001b[0m\u001b[37m\u001b[0m \u001b[1m23s\u001b[0m 31ms/step - loss: 0.0471 - mean_absolute_error: 0.1047 - root_mean_squared_error: 0.1334 - val_loss: 0.0269 - val_mean_absolute_error: 0.0634 - val_root_mean_squared_error: 0.0835 - learning_rate: 2.5000e-04\n",
      "Epoch 150/300\n",
      "\u001b[1m741/742\u001b[0m \u001b[32m━━━━━━━━━━━━━━━━━━━\u001b[0m\u001b[37m━\u001b[0m \u001b[1m0s\u001b[0m 28ms/step - loss: 0.0470 - mean_absolute_error: 0.1054 - root_mean_squared_error: 0.1341\n",
      "Epoch 150: val_loss did not improve from 0.02693\n",
      "\u001b[1m742/742\u001b[0m \u001b[32m━━━━━━━━━━━━━━━━━━━━\u001b[0m\u001b[37m\u001b[0m \u001b[1m22s\u001b[0m 29ms/step - loss: 0.0470 - mean_absolute_error: 0.1054 - root_mean_squared_error: 0.1341 - val_loss: 0.0279 - val_mean_absolute_error: 0.0679 - val_root_mean_squared_error: 0.0889 - learning_rate: 2.5000e-04\n",
      "Epoch 151/300\n",
      "\u001b[1m741/742\u001b[0m \u001b[32m━━━━━━━━━━━━━━━━━━━\u001b[0m\u001b[37m━\u001b[0m \u001b[1m0s\u001b[0m 29ms/step - loss: 0.0471 - mean_absolute_error: 0.1062 - root_mean_squared_error: 0.1349\n",
      "Epoch 151: val_loss did not improve from 0.02693\n",
      "\u001b[1m742/742\u001b[0m \u001b[32m━━━━━━━━━━━━━━━━━━━━\u001b[0m\u001b[37m\u001b[0m \u001b[1m22s\u001b[0m 29ms/step - loss: 0.0471 - mean_absolute_error: 0.1062 - root_mean_squared_error: 0.1349 - val_loss: 0.0273 - val_mean_absolute_error: 0.0657 - val_root_mean_squared_error: 0.0861 - learning_rate: 2.5000e-04\n",
      "Epoch 152/300\n",
      "\u001b[1m741/742\u001b[0m \u001b[32m━━━━━━━━━━━━━━━━━━━\u001b[0m\u001b[37m━\u001b[0m \u001b[1m0s\u001b[0m 28ms/step - loss: 0.0465 - mean_absolute_error: 0.1043 - root_mean_squared_error: 0.1323\n",
      "Epoch 152: val_loss did not improve from 0.02693\n",
      "\u001b[1m742/742\u001b[0m \u001b[32m━━━━━━━━━━━━━━━━━━━━\u001b[0m\u001b[37m\u001b[0m \u001b[1m22s\u001b[0m 29ms/step - loss: 0.0465 - mean_absolute_error: 0.1043 - root_mean_squared_error: 0.1323 - val_loss: 0.0270 - val_mean_absolute_error: 0.0641 - val_root_mean_squared_error: 0.0843 - learning_rate: 2.5000e-04\n",
      "Epoch 153/300\n",
      "\u001b[1m741/742\u001b[0m \u001b[32m━━━━━━━━━━━━━━━━━━━\u001b[0m\u001b[37m━\u001b[0m \u001b[1m0s\u001b[0m 29ms/step - loss: 0.0463 - mean_absolute_error: 0.1026 - root_mean_squared_error: 0.1308\n",
      "Epoch 153: val_loss did not improve from 0.02693\n",
      "\u001b[1m742/742\u001b[0m \u001b[32m━━━━━━━━━━━━━━━━━━━━\u001b[0m\u001b[37m\u001b[0m \u001b[1m22s\u001b[0m 29ms/step - loss: 0.0463 - mean_absolute_error: 0.1026 - root_mean_squared_error: 0.1308 - val_loss: 0.0273 - val_mean_absolute_error: 0.0649 - val_root_mean_squared_error: 0.0852 - learning_rate: 2.5000e-04\n",
      "Epoch 154/300\n",
      "\u001b[1m741/742\u001b[0m \u001b[32m━━━━━━━━━━━━━━━━━━━\u001b[0m\u001b[37m━\u001b[0m \u001b[1m0s\u001b[0m 28ms/step - loss: 0.0467 - mean_absolute_error: 0.1055 - root_mean_squared_error: 0.1341\n",
      "Epoch 154: val_loss did not improve from 0.02693\n",
      "\n",
      "Epoch 154: ReduceLROnPlateau reducing learning rate to 0.0001250000059371814.\n",
      "\u001b[1m742/742\u001b[0m \u001b[32m━━━━━━━━━━━━━━━━━━━━\u001b[0m\u001b[37m\u001b[0m \u001b[1m22s\u001b[0m 29ms/step - loss: 0.0467 - mean_absolute_error: 0.1055 - root_mean_squared_error: 0.1341 - val_loss: 0.0273 - val_mean_absolute_error: 0.0660 - val_root_mean_squared_error: 0.0861 - learning_rate: 2.5000e-04\n",
      "Epoch 155/300\n",
      "\u001b[1m741/742\u001b[0m \u001b[32m━━━━━━━━━━━━━━━━━━━\u001b[0m\u001b[37m━\u001b[0m \u001b[1m0s\u001b[0m 28ms/step - loss: 0.0463 - mean_absolute_error: 0.1047 - root_mean_squared_error: 0.1332\n",
      "Epoch 155: val_loss improved from 0.02693 to 0.02586, saving model to models/unet_fine_tuned_model.keras\n",
      "\u001b[1m742/742\u001b[0m \u001b[32m━━━━━━━━━━━━━━━━━━━━\u001b[0m\u001b[37m\u001b[0m \u001b[1m23s\u001b[0m 31ms/step - loss: 0.0463 - mean_absolute_error: 0.1047 - root_mean_squared_error: 0.1332 - val_loss: 0.0259 - val_mean_absolute_error: 0.0609 - val_root_mean_squared_error: 0.0804 - learning_rate: 1.2500e-04\n",
      "Epoch 156/300\n",
      "\u001b[1m741/742\u001b[0m \u001b[32m━━━━━━━━━━━━━━━━━━━\u001b[0m\u001b[37m━\u001b[0m \u001b[1m0s\u001b[0m 28ms/step - loss: 0.0451 - mean_absolute_error: 0.1021 - root_mean_squared_error: 0.1298\n",
      "Epoch 156: val_loss improved from 0.02586 to 0.02547, saving model to models/unet_fine_tuned_model.keras\n",
      "\u001b[1m742/742\u001b[0m \u001b[32m━━━━━━━━━━━━━━━━━━━━\u001b[0m\u001b[37m\u001b[0m \u001b[1m23s\u001b[0m 31ms/step - loss: 0.0451 - mean_absolute_error: 0.1021 - root_mean_squared_error: 0.1298 - val_loss: 0.0255 - val_mean_absolute_error: 0.0603 - val_root_mean_squared_error: 0.0796 - learning_rate: 1.2500e-04\n",
      "Epoch 157/300\n",
      "\u001b[1m741/742\u001b[0m \u001b[32m━━━━━━━━━━━━━━━━━━━\u001b[0m\u001b[37m━\u001b[0m \u001b[1m0s\u001b[0m 28ms/step - loss: 0.0449 - mean_absolute_error: 0.1018 - root_mean_squared_error: 0.1295\n",
      "Epoch 157: val_loss did not improve from 0.02547\n",
      "\u001b[1m742/742\u001b[0m \u001b[32m━━━━━━━━━━━━━━━━━━━━\u001b[0m\u001b[37m\u001b[0m \u001b[1m22s\u001b[0m 29ms/step - loss: 0.0449 - mean_absolute_error: 0.1018 - root_mean_squared_error: 0.1295 - val_loss: 0.0257 - val_mean_absolute_error: 0.0623 - val_root_mean_squared_error: 0.0817 - learning_rate: 1.2500e-04\n",
      "Epoch 158/300\n",
      "\u001b[1m741/742\u001b[0m \u001b[32m━━━━━━━━━━━━━━━━━━━\u001b[0m\u001b[37m━\u001b[0m \u001b[1m0s\u001b[0m 29ms/step - loss: 0.0449 - mean_absolute_error: 0.1018 - root_mean_squared_error: 0.1299\n",
      "Epoch 158: val_loss improved from 0.02547 to 0.02523, saving model to models/unet_fine_tuned_model.keras\n",
      "\u001b[1m742/742\u001b[0m \u001b[32m━━━━━━━━━━━━━━━━━━━━\u001b[0m\u001b[37m\u001b[0m \u001b[1m23s\u001b[0m 31ms/step - loss: 0.0449 - mean_absolute_error: 0.1018 - root_mean_squared_error: 0.1299 - val_loss: 0.0252 - val_mean_absolute_error: 0.0602 - val_root_mean_squared_error: 0.0793 - learning_rate: 1.2500e-04\n",
      "Epoch 159/300\n",
      "\u001b[1m741/742\u001b[0m \u001b[32m━━━━━━━━━━━━━━━━━━━\u001b[0m\u001b[37m━\u001b[0m \u001b[1m0s\u001b[0m 28ms/step - loss: 0.0450 - mean_absolute_error: 0.1029 - root_mean_squared_error: 0.1311\n",
      "Epoch 159: val_loss improved from 0.02523 to 0.02516, saving model to models/unet_fine_tuned_model.keras\n",
      "\u001b[1m742/742\u001b[0m \u001b[32m━━━━━━━━━━━━━━━━━━━━\u001b[0m\u001b[37m\u001b[0m \u001b[1m23s\u001b[0m 31ms/step - loss: 0.0450 - mean_absolute_error: 0.1029 - root_mean_squared_error: 0.1311 - val_loss: 0.0252 - val_mean_absolute_error: 0.0596 - val_root_mean_squared_error: 0.0788 - learning_rate: 1.2500e-04\n",
      "Epoch 160/300\n",
      "\u001b[1m741/742\u001b[0m \u001b[32m━━━━━━━━━━━━━━━━━━━\u001b[0m\u001b[37m━\u001b[0m \u001b[1m0s\u001b[0m 28ms/step - loss: 0.0445 - mean_absolute_error: 0.1014 - root_mean_squared_error: 0.1290\n",
      "Epoch 160: val_loss improved from 0.02516 to 0.02515, saving model to models/unet_fine_tuned_model.keras\n",
      "\u001b[1m742/742\u001b[0m \u001b[32m━━━━━━━━━━━━━━━━━━━━\u001b[0m\u001b[37m\u001b[0m \u001b[1m23s\u001b[0m 31ms/step - loss: 0.0445 - mean_absolute_error: 0.1014 - root_mean_squared_error: 0.1290 - val_loss: 0.0251 - val_mean_absolute_error: 0.0609 - val_root_mean_squared_error: 0.0799 - learning_rate: 1.2500e-04\n",
      "Epoch 161/300\n",
      "\u001b[1m741/742\u001b[0m \u001b[32m━━━━━━━━━━━━━━━━━━━\u001b[0m\u001b[37m━\u001b[0m \u001b[1m0s\u001b[0m 28ms/step - loss: 0.0446 - mean_absolute_error: 0.1018 - root_mean_squared_error: 0.1294\n",
      "Epoch 161: val_loss improved from 0.02515 to 0.02511, saving model to models/unet_fine_tuned_model.keras\n",
      "\u001b[1m742/742\u001b[0m \u001b[32m━━━━━━━━━━━━━━━━━━━━\u001b[0m\u001b[37m\u001b[0m \u001b[1m23s\u001b[0m 31ms/step - loss: 0.0446 - mean_absolute_error: 0.1018 - root_mean_squared_error: 0.1294 - val_loss: 0.0251 - val_mean_absolute_error: 0.0605 - val_root_mean_squared_error: 0.0795 - learning_rate: 1.2500e-04\n",
      "Epoch 162/300\n",
      "\u001b[1m741/742\u001b[0m \u001b[32m━━━━━━━━━━━━━━━━━━━\u001b[0m\u001b[37m━\u001b[0m \u001b[1m0s\u001b[0m 28ms/step - loss: 0.0443 - mean_absolute_error: 0.1016 - root_mean_squared_error: 0.1292\n",
      "Epoch 162: val_loss did not improve from 0.02511\n",
      "\u001b[1m742/742\u001b[0m \u001b[32m━━━━━━━━━━━━━━━━━━━━\u001b[0m\u001b[37m\u001b[0m \u001b[1m22s\u001b[0m 29ms/step - loss: 0.0443 - mean_absolute_error: 0.1016 - root_mean_squared_error: 0.1292 - val_loss: 0.0252 - val_mean_absolute_error: 0.0606 - val_root_mean_squared_error: 0.0799 - learning_rate: 1.2500e-04\n",
      "Epoch 163/300\n",
      "\u001b[1m741/742\u001b[0m \u001b[32m━━━━━━━━━━━━━━━━━━━\u001b[0m\u001b[37m━\u001b[0m \u001b[1m0s\u001b[0m 28ms/step - loss: 0.0436 - mean_absolute_error: 0.0981 - root_mean_squared_error: 0.1246\n",
      "Epoch 163: val_loss improved from 0.02511 to 0.02492, saving model to models/unet_fine_tuned_model.keras\n",
      "\u001b[1m742/742\u001b[0m \u001b[32m━━━━━━━━━━━━━━━━━━━━\u001b[0m\u001b[37m\u001b[0m \u001b[1m23s\u001b[0m 31ms/step - loss: 0.0436 - mean_absolute_error: 0.0981 - root_mean_squared_error: 0.1246 - val_loss: 0.0249 - val_mean_absolute_error: 0.0595 - val_root_mean_squared_error: 0.0784 - learning_rate: 1.2500e-04\n",
      "Epoch 164/300\n",
      "\u001b[1m741/742\u001b[0m \u001b[32m━━━━━━━━━━━━━━━━━━━\u001b[0m\u001b[37m━\u001b[0m \u001b[1m0s\u001b[0m 28ms/step - loss: 0.0445 - mean_absolute_error: 0.1021 - root_mean_squared_error: 0.1296\n",
      "Epoch 164: val_loss improved from 0.02492 to 0.02478, saving model to models/unet_fine_tuned_model.keras\n",
      "\u001b[1m742/742\u001b[0m \u001b[32m━━━━━━━━━━━━━━━━━━━━\u001b[0m\u001b[37m\u001b[0m \u001b[1m23s\u001b[0m 31ms/step - loss: 0.0445 - mean_absolute_error: 0.1021 - root_mean_squared_error: 0.1296 - val_loss: 0.0248 - val_mean_absolute_error: 0.0589 - val_root_mean_squared_error: 0.0779 - learning_rate: 1.2500e-04\n",
      "Epoch 165/300\n",
      "\u001b[1m741/742\u001b[0m \u001b[32m━━━━━━━━━━━━━━━━━━━\u001b[0m\u001b[37m━\u001b[0m \u001b[1m0s\u001b[0m 28ms/step - loss: 0.0442 - mean_absolute_error: 0.1011 - root_mean_squared_error: 0.1291\n",
      "Epoch 165: val_loss did not improve from 0.02478\n",
      "\u001b[1m742/742\u001b[0m \u001b[32m━━━━━━━━━━━━━━━━━━━━\u001b[0m\u001b[37m\u001b[0m \u001b[1m22s\u001b[0m 29ms/step - loss: 0.0442 - mean_absolute_error: 0.1011 - root_mean_squared_error: 0.1291 - val_loss: 0.0251 - val_mean_absolute_error: 0.0610 - val_root_mean_squared_error: 0.0803 - learning_rate: 1.2500e-04\n",
      "Epoch 166/300\n",
      "\u001b[1m741/742\u001b[0m \u001b[32m━━━━━━━━━━━━━━━━━━━\u001b[0m\u001b[37m━\u001b[0m \u001b[1m0s\u001b[0m 28ms/step - loss: 0.0440 - mean_absolute_error: 0.1001 - root_mean_squared_error: 0.1276\n",
      "Epoch 166: val_loss did not improve from 0.02478\n",
      "\u001b[1m742/742\u001b[0m \u001b[32m━━━━━━━━━━━━━━━━━━━━\u001b[0m\u001b[37m\u001b[0m \u001b[1m22s\u001b[0m 29ms/step - loss: 0.0440 - mean_absolute_error: 0.1001 - root_mean_squared_error: 0.1276 - val_loss: 0.0248 - val_mean_absolute_error: 0.0594 - val_root_mean_squared_error: 0.0784 - learning_rate: 1.2500e-04\n",
      "Epoch 167/300\n",
      "\u001b[1m741/742\u001b[0m \u001b[32m━━━━━━━━━━━━━━━━━━━\u001b[0m\u001b[37m━\u001b[0m \u001b[1m0s\u001b[0m 29ms/step - loss: 0.0439 - mean_absolute_error: 0.1002 - root_mean_squared_error: 0.1273\n",
      "Epoch 167: val_loss improved from 0.02478 to 0.02441, saving model to models/unet_fine_tuned_model.keras\n",
      "\u001b[1m742/742\u001b[0m \u001b[32m━━━━━━━━━━━━━━━━━━━━\u001b[0m\u001b[37m\u001b[0m \u001b[1m23s\u001b[0m 31ms/step - loss: 0.0439 - mean_absolute_error: 0.1002 - root_mean_squared_error: 0.1273 - val_loss: 0.0244 - val_mean_absolute_error: 0.0579 - val_root_mean_squared_error: 0.0766 - learning_rate: 1.2500e-04\n",
      "Epoch 168/300\n",
      "\u001b[1m741/742\u001b[0m \u001b[32m━━━━━━━━━━━━━━━━━━━\u001b[0m\u001b[37m━\u001b[0m \u001b[1m0s\u001b[0m 29ms/step - loss: 0.0439 - mean_absolute_error: 0.0995 - root_mean_squared_error: 0.1265\n",
      "Epoch 168: val_loss improved from 0.02441 to 0.02422, saving model to models/unet_fine_tuned_model.keras\n",
      "\u001b[1m742/742\u001b[0m \u001b[32m━━━━━━━━━━━━━━━━━━━━\u001b[0m\u001b[37m\u001b[0m \u001b[1m23s\u001b[0m 31ms/step - loss: 0.0439 - mean_absolute_error: 0.0995 - root_mean_squared_error: 0.1265 - val_loss: 0.0242 - val_mean_absolute_error: 0.0574 - val_root_mean_squared_error: 0.0760 - learning_rate: 1.2500e-04\n",
      "Epoch 169/300\n",
      "\u001b[1m741/742\u001b[0m \u001b[32m━━━━━━━━━━━━━━━━━━━\u001b[0m\u001b[37m━\u001b[0m \u001b[1m0s\u001b[0m 29ms/step - loss: 0.0434 - mean_absolute_error: 0.0976 - root_mean_squared_error: 0.1243\n",
      "Epoch 169: val_loss did not improve from 0.02422\n",
      "\u001b[1m742/742\u001b[0m \u001b[32m━━━━━━━━━━━━━━━━━━━━\u001b[0m\u001b[37m\u001b[0m \u001b[1m22s\u001b[0m 30ms/step - loss: 0.0434 - mean_absolute_error: 0.0976 - root_mean_squared_error: 0.1243 - val_loss: 0.0246 - val_mean_absolute_error: 0.0589 - val_root_mean_squared_error: 0.0777 - learning_rate: 1.2500e-04\n",
      "Epoch 170/300\n",
      "\u001b[1m741/742\u001b[0m \u001b[32m━━━━━━━━━━━━━━━━━━━\u001b[0m\u001b[37m━\u001b[0m \u001b[1m0s\u001b[0m 29ms/step - loss: 0.0437 - mean_absolute_error: 0.1004 - root_mean_squared_error: 0.1280\n",
      "Epoch 170: val_loss did not improve from 0.02422\n",
      "\u001b[1m742/742\u001b[0m \u001b[32m━━━━━━━━━━━━━━━━━━━━\u001b[0m\u001b[37m\u001b[0m \u001b[1m22s\u001b[0m 29ms/step - loss: 0.0437 - mean_absolute_error: 0.1004 - root_mean_squared_error: 0.1280 - val_loss: 0.0244 - val_mean_absolute_error: 0.0583 - val_root_mean_squared_error: 0.0769 - learning_rate: 1.2500e-04\n",
      "Epoch 171/300\n",
      "\u001b[1m741/742\u001b[0m \u001b[32m━━━━━━━━━━━━━━━━━━━\u001b[0m\u001b[37m━\u001b[0m \u001b[1m0s\u001b[0m 29ms/step - loss: 0.0433 - mean_absolute_error: 0.0980 - root_mean_squared_error: 0.1247\n",
      "Epoch 171: val_loss improved from 0.02422 to 0.02415, saving model to models/unet_fine_tuned_model.keras\n",
      "\u001b[1m742/742\u001b[0m \u001b[32m━━━━━━━━━━━━━━━━━━━━\u001b[0m\u001b[37m\u001b[0m \u001b[1m23s\u001b[0m 31ms/step - loss: 0.0433 - mean_absolute_error: 0.0980 - root_mean_squared_error: 0.1247 - val_loss: 0.0241 - val_mean_absolute_error: 0.0573 - val_root_mean_squared_error: 0.0760 - learning_rate: 1.2500e-04\n",
      "Epoch 172/300\n",
      "\u001b[1m741/742\u001b[0m \u001b[32m━━━━━━━━━━━━━━━━━━━\u001b[0m\u001b[37m━\u001b[0m \u001b[1m0s\u001b[0m 28ms/step - loss: 0.0435 - mean_absolute_error: 0.0994 - root_mean_squared_error: 0.1264\n",
      "Epoch 172: val_loss did not improve from 0.02415\n",
      "\u001b[1m742/742\u001b[0m \u001b[32m━━━━━━━━━━━━━━━━━━━━\u001b[0m\u001b[37m\u001b[0m \u001b[1m22s\u001b[0m 29ms/step - loss: 0.0435 - mean_absolute_error: 0.0994 - root_mean_squared_error: 0.1264 - val_loss: 0.0246 - val_mean_absolute_error: 0.0592 - val_root_mean_squared_error: 0.0779 - learning_rate: 1.2500e-04\n",
      "Epoch 173/300\n",
      "\u001b[1m741/742\u001b[0m \u001b[32m━━━━━━━━━━━━━━━━━━━\u001b[0m\u001b[37m━\u001b[0m \u001b[1m0s\u001b[0m 28ms/step - loss: 0.0431 - mean_absolute_error: 0.0982 - root_mean_squared_error: 0.1245\n",
      "Epoch 173: val_loss did not improve from 0.02415\n",
      "\n",
      "Epoch 173: ReduceLROnPlateau reducing learning rate to 6.25000029685907e-05.\n",
      "\u001b[1m742/742\u001b[0m \u001b[32m━━━━━━━━━━━━━━━━━━━━\u001b[0m\u001b[37m\u001b[0m \u001b[1m22s\u001b[0m 29ms/step - loss: 0.0431 - mean_absolute_error: 0.0982 - root_mean_squared_error: 0.1245 - val_loss: 0.0243 - val_mean_absolute_error: 0.0584 - val_root_mean_squared_error: 0.0770 - learning_rate: 1.2500e-04\n",
      "Epoch 174/300\n",
      "\u001b[1m741/742\u001b[0m \u001b[32m━━━━━━━━━━━━━━━━━━━\u001b[0m\u001b[37m━\u001b[0m \u001b[1m0s\u001b[0m 29ms/step - loss: 0.0430 - mean_absolute_error: 0.0983 - root_mean_squared_error: 0.1248\n",
      "Epoch 174: val_loss improved from 0.02415 to 0.02410, saving model to models/unet_fine_tuned_model.keras\n",
      "\u001b[1m742/742\u001b[0m \u001b[32m━━━━━━━━━━━━━━━━━━━━\u001b[0m\u001b[37m\u001b[0m \u001b[1m23s\u001b[0m 31ms/step - loss: 0.0430 - mean_absolute_error: 0.0983 - root_mean_squared_error: 0.1248 - val_loss: 0.0241 - val_mean_absolute_error: 0.0585 - val_root_mean_squared_error: 0.0771 - learning_rate: 6.2500e-05\n",
      "Epoch 175/300\n",
      "\u001b[1m741/742\u001b[0m \u001b[32m━━━━━━━━━━━━━━━━━━━\u001b[0m\u001b[37m━\u001b[0m \u001b[1m0s\u001b[0m 29ms/step - loss: 0.0429 - mean_absolute_error: 0.0996 - root_mean_squared_error: 0.1264\n",
      "Epoch 175: val_loss improved from 0.02410 to 0.02357, saving model to models/unet_fine_tuned_model.keras\n",
      "\u001b[1m742/742\u001b[0m \u001b[32m━━━━━━━━━━━━━━━━━━━━\u001b[0m\u001b[37m\u001b[0m \u001b[1m23s\u001b[0m 31ms/step - loss: 0.0429 - mean_absolute_error: 0.0996 - root_mean_squared_error: 0.1264 - val_loss: 0.0236 - val_mean_absolute_error: 0.0558 - val_root_mean_squared_error: 0.0741 - learning_rate: 6.2500e-05\n",
      "Epoch 176/300\n",
      "\u001b[1m741/742\u001b[0m \u001b[32m━━━━━━━━━━━━━━━━━━━\u001b[0m\u001b[37m━\u001b[0m \u001b[1m0s\u001b[0m 29ms/step - loss: 0.0425 - mean_absolute_error: 0.0976 - root_mean_squared_error: 0.1243\n",
      "Epoch 176: val_loss improved from 0.02357 to 0.02356, saving model to models/unet_fine_tuned_model.keras\n",
      "\u001b[1m742/742\u001b[0m \u001b[32m━━━━━━━━━━━━━━━━━━━━\u001b[0m\u001b[37m\u001b[0m \u001b[1m23s\u001b[0m 31ms/step - loss: 0.0425 - mean_absolute_error: 0.0976 - root_mean_squared_error: 0.1243 - val_loss: 0.0236 - val_mean_absolute_error: 0.0559 - val_root_mean_squared_error: 0.0742 - learning_rate: 6.2500e-05\n",
      "Epoch 177/300\n",
      "\u001b[1m741/742\u001b[0m \u001b[32m━━━━━━━━━━━━━━━━━━━\u001b[0m\u001b[37m━\u001b[0m \u001b[1m0s\u001b[0m 29ms/step - loss: 0.0423 - mean_absolute_error: 0.0970 - root_mean_squared_error: 0.1231\n",
      "Epoch 177: val_loss did not improve from 0.02356\n",
      "\u001b[1m742/742\u001b[0m \u001b[32m━━━━━━━━━━━━━━━━━━━━\u001b[0m\u001b[37m\u001b[0m \u001b[1m22s\u001b[0m 29ms/step - loss: 0.0423 - mean_absolute_error: 0.0970 - root_mean_squared_error: 0.1231 - val_loss: 0.0238 - val_mean_absolute_error: 0.0574 - val_root_mean_squared_error: 0.0757 - learning_rate: 6.2500e-05\n",
      "Epoch 178/300\n",
      "\u001b[1m741/742\u001b[0m \u001b[32m━━━━━━━━━━━━━━━━━━━\u001b[0m\u001b[37m━\u001b[0m \u001b[1m0s\u001b[0m 29ms/step - loss: 0.0423 - mean_absolute_error: 0.0972 - root_mean_squared_error: 0.1233\n",
      "Epoch 178: val_loss did not improve from 0.02356\n",
      "\u001b[1m742/742\u001b[0m \u001b[32m━━━━━━━━━━━━━━━━━━━━\u001b[0m\u001b[37m\u001b[0m \u001b[1m22s\u001b[0m 29ms/step - loss: 0.0423 - mean_absolute_error: 0.0972 - root_mean_squared_error: 0.1233 - val_loss: 0.0236 - val_mean_absolute_error: 0.0567 - val_root_mean_squared_error: 0.0750 - learning_rate: 6.2500e-05\n",
      "Epoch 179/300\n",
      "\u001b[1m741/742\u001b[0m \u001b[32m━━━━━━━━━━━━━━━━━━━\u001b[0m\u001b[37m━\u001b[0m \u001b[1m0s\u001b[0m 29ms/step - loss: 0.0426 - mean_absolute_error: 0.0996 - root_mean_squared_error: 0.1263\n",
      "Epoch 179: val_loss did not improve from 0.02356\n",
      "\u001b[1m742/742\u001b[0m \u001b[32m━━━━━━━━━━━━━━━━━━━━\u001b[0m\u001b[37m\u001b[0m \u001b[1m22s\u001b[0m 29ms/step - loss: 0.0426 - mean_absolute_error: 0.0996 - root_mean_squared_error: 0.1263 - val_loss: 0.0236 - val_mean_absolute_error: 0.0565 - val_root_mean_squared_error: 0.0748 - learning_rate: 6.2500e-05\n",
      "Epoch 180/300\n",
      "\u001b[1m741/742\u001b[0m \u001b[32m━━━━━━━━━━━━━━━━━━━\u001b[0m\u001b[37m━\u001b[0m \u001b[1m0s\u001b[0m 28ms/step - loss: 0.0428 - mean_absolute_error: 0.0994 - root_mean_squared_error: 0.1262\n",
      "Epoch 180: val_loss improved from 0.02356 to 0.02348, saving model to models/unet_fine_tuned_model.keras\n",
      "\n",
      "Epoch 180: ReduceLROnPlateau reducing learning rate to 3.125000148429535e-05.\n",
      "\u001b[1m742/742\u001b[0m \u001b[32m━━━━━━━━━━━━━━━━━━━━\u001b[0m\u001b[37m\u001b[0m \u001b[1m23s\u001b[0m 31ms/step - loss: 0.0428 - mean_absolute_error: 0.0994 - root_mean_squared_error: 0.1262 - val_loss: 0.0235 - val_mean_absolute_error: 0.0563 - val_root_mean_squared_error: 0.0747 - learning_rate: 6.2500e-05\n",
      "Epoch 181/300\n",
      "\u001b[1m741/742\u001b[0m \u001b[32m━━━━━━━━━━━━━━━━━━━\u001b[0m\u001b[37m━\u001b[0m \u001b[1m0s\u001b[0m 29ms/step - loss: 0.0425 - mean_absolute_error: 0.0985 - root_mean_squared_error: 0.1252\n",
      "Epoch 181: val_loss improved from 0.02348 to 0.02338, saving model to models/unet_fine_tuned_model.keras\n",
      "\u001b[1m742/742\u001b[0m \u001b[32m━━━━━━━━━━━━━━━━━━━━\u001b[0m\u001b[37m\u001b[0m \u001b[1m23s\u001b[0m 31ms/step - loss: 0.0425 - mean_absolute_error: 0.0985 - root_mean_squared_error: 0.1252 - val_loss: 0.0234 - val_mean_absolute_error: 0.0560 - val_root_mean_squared_error: 0.0742 - learning_rate: 3.1250e-05\n",
      "Epoch 182/300\n",
      "\u001b[1m741/742\u001b[0m \u001b[32m━━━━━━━━━━━━━━━━━━━\u001b[0m\u001b[37m━\u001b[0m \u001b[1m0s\u001b[0m 29ms/step - loss: 0.0424 - mean_absolute_error: 0.0992 - root_mean_squared_error: 0.1259\n",
      "Epoch 182: val_loss improved from 0.02338 to 0.02310, saving model to models/unet_fine_tuned_model.keras\n",
      "\u001b[1m742/742\u001b[0m \u001b[32m━━━━━━━━━━━━━━━━━━━━\u001b[0m\u001b[37m\u001b[0m \u001b[1m23s\u001b[0m 31ms/step - loss: 0.0424 - mean_absolute_error: 0.0992 - root_mean_squared_error: 0.1259 - val_loss: 0.0231 - val_mean_absolute_error: 0.0553 - val_root_mean_squared_error: 0.0734 - learning_rate: 3.1250e-05\n",
      "Epoch 183/300\n",
      "\u001b[1m741/742\u001b[0m \u001b[32m━━━━━━━━━━━━━━━━━━━\u001b[0m\u001b[37m━\u001b[0m \u001b[1m0s\u001b[0m 28ms/step - loss: 0.0422 - mean_absolute_error: 0.0980 - root_mean_squared_error: 0.1241\n",
      "Epoch 183: val_loss improved from 0.02310 to 0.02300, saving model to models/unet_fine_tuned_model.keras\n",
      "\u001b[1m742/742\u001b[0m \u001b[32m━━━━━━━━━━━━━━━━━━━━\u001b[0m\u001b[37m\u001b[0m \u001b[1m23s\u001b[0m 31ms/step - loss: 0.0422 - mean_absolute_error: 0.0980 - root_mean_squared_error: 0.1241 - val_loss: 0.0230 - val_mean_absolute_error: 0.0545 - val_root_mean_squared_error: 0.0725 - learning_rate: 3.1250e-05\n",
      "Epoch 184/300\n",
      "\u001b[1m741/742\u001b[0m \u001b[32m━━━━━━━━━━━━━━━━━━━\u001b[0m\u001b[37m━\u001b[0m \u001b[1m0s\u001b[0m 28ms/step - loss: 0.0421 - mean_absolute_error: 0.0973 - root_mean_squared_error: 0.1235\n",
      "Epoch 184: val_loss did not improve from 0.02300\n",
      "\u001b[1m742/742\u001b[0m \u001b[32m━━━━━━━━━━━━━━━━━━━━\u001b[0m\u001b[37m\u001b[0m \u001b[1m22s\u001b[0m 29ms/step - loss: 0.0421 - mean_absolute_error: 0.0973 - root_mean_squared_error: 0.1235 - val_loss: 0.0230 - val_mean_absolute_error: 0.0548 - val_root_mean_squared_error: 0.0729 - learning_rate: 3.1250e-05\n",
      "Epoch 185/300\n",
      "\u001b[1m741/742\u001b[0m \u001b[32m━━━━━━━━━━━━━━━━━━━\u001b[0m\u001b[37m━\u001b[0m \u001b[1m0s\u001b[0m 28ms/step - loss: 0.0418 - mean_absolute_error: 0.0958 - root_mean_squared_error: 0.1217\n",
      "Epoch 185: val_loss improved from 0.02300 to 0.02300, saving model to models/unet_fine_tuned_model.keras\n",
      "\u001b[1m742/742\u001b[0m \u001b[32m━━━━━━━━━━━━━━━━━━━━\u001b[0m\u001b[37m\u001b[0m \u001b[1m23s\u001b[0m 31ms/step - loss: 0.0418 - mean_absolute_error: 0.0958 - root_mean_squared_error: 0.1217 - val_loss: 0.0230 - val_mean_absolute_error: 0.0547 - val_root_mean_squared_error: 0.0728 - learning_rate: 3.1250e-05\n",
      "Epoch 186/300\n",
      "\u001b[1m741/742\u001b[0m \u001b[32m━━━━━━━━━━━━━━━━━━━\u001b[0m\u001b[37m━\u001b[0m \u001b[1m0s\u001b[0m 29ms/step - loss: 0.0422 - mean_absolute_error: 0.0986 - root_mean_squared_error: 0.1250\n",
      "Epoch 186: val_loss did not improve from 0.02300\n",
      "\u001b[1m742/742\u001b[0m \u001b[32m━━━━━━━━━━━━━━━━━━━━\u001b[0m\u001b[37m\u001b[0m \u001b[1m22s\u001b[0m 29ms/step - loss: 0.0422 - mean_absolute_error: 0.0986 - root_mean_squared_error: 0.1250 - val_loss: 0.0231 - val_mean_absolute_error: 0.0560 - val_root_mean_squared_error: 0.0740 - learning_rate: 3.1250e-05\n",
      "Epoch 187/300\n",
      "\u001b[1m741/742\u001b[0m \u001b[32m━━━━━━━━━━━━━━━━━━━\u001b[0m\u001b[37m━\u001b[0m \u001b[1m0s\u001b[0m 28ms/step - loss: 0.0419 - mean_absolute_error: 0.0970 - root_mean_squared_error: 0.1232\n",
      "Epoch 187: val_loss improved from 0.02300 to 0.02288, saving model to models/unet_fine_tuned_model.keras\n",
      "\u001b[1m742/742\u001b[0m \u001b[32m━━━━━━━━━━━━━━━━━━━━\u001b[0m\u001b[37m\u001b[0m \u001b[1m23s\u001b[0m 31ms/step - loss: 0.0419 - mean_absolute_error: 0.0970 - root_mean_squared_error: 0.1232 - val_loss: 0.0229 - val_mean_absolute_error: 0.0544 - val_root_mean_squared_error: 0.0722 - learning_rate: 3.1250e-05\n",
      "Epoch 188/300\n",
      "\u001b[1m741/742\u001b[0m \u001b[32m━━━━━━━━━━━━━━━━━━━\u001b[0m\u001b[37m━\u001b[0m \u001b[1m0s\u001b[0m 28ms/step - loss: 0.0420 - mean_absolute_error: 0.0977 - root_mean_squared_error: 0.1238\n",
      "Epoch 188: val_loss did not improve from 0.02288\n",
      "\u001b[1m742/742\u001b[0m \u001b[32m━━━━━━━━━━━━━━━━━━━━\u001b[0m\u001b[37m\u001b[0m \u001b[1m22s\u001b[0m 29ms/step - loss: 0.0420 - mean_absolute_error: 0.0977 - root_mean_squared_error: 0.1238 - val_loss: 0.0229 - val_mean_absolute_error: 0.0546 - val_root_mean_squared_error: 0.0725 - learning_rate: 3.1250e-05\n",
      "Epoch 189/300\n",
      "\u001b[1m741/742\u001b[0m \u001b[32m━━━━━━━━━━━━━━━━━━━\u001b[0m\u001b[37m━\u001b[0m \u001b[1m0s\u001b[0m 29ms/step - loss: 0.0419 - mean_absolute_error: 0.0970 - root_mean_squared_error: 0.1236\n",
      "Epoch 189: val_loss did not improve from 0.02288\n",
      "\u001b[1m742/742\u001b[0m \u001b[32m━━━━━━━━━━━━━━━━━━━━\u001b[0m\u001b[37m\u001b[0m \u001b[1m22s\u001b[0m 29ms/step - loss: 0.0419 - mean_absolute_error: 0.0970 - root_mean_squared_error: 0.1236 - val_loss: 0.0230 - val_mean_absolute_error: 0.0554 - val_root_mean_squared_error: 0.0734 - learning_rate: 3.1250e-05\n",
      "Epoch 190/300\n",
      "\u001b[1m327/742\u001b[0m \u001b[32m━━━━━━━━\u001b[0m\u001b[37m━━━━━━━━━━━━\u001b[0m \u001b[1m11s\u001b[0m 29ms/step - loss: 0.0425 - mean_absolute_error: 0.1004 - root_mean_squared_error: 0.1270"
     ]
    },
    {
     "ename": "KeyboardInterrupt",
     "evalue": "",
     "output_type": "error",
     "traceback": [
      "\u001b[0;31m---------------------------------------------------------------------------\u001b[0m",
      "\u001b[0;31mKeyboardInterrupt\u001b[0m                         Traceback (most recent call last)",
      "Cell \u001b[0;32mIn[12], line 64\u001b[0m\n\u001b[1;32m     39\u001b[0m callbacks \u001b[38;5;241m=\u001b[39m [\n\u001b[1;32m     40\u001b[0m     keras\u001b[38;5;241m.\u001b[39mcallbacks\u001b[38;5;241m.\u001b[39mEarlyStopping(\n\u001b[1;32m     41\u001b[0m         monitor\u001b[38;5;241m=\u001b[39m\u001b[38;5;124m'\u001b[39m\u001b[38;5;124mval_loss\u001b[39m\u001b[38;5;124m'\u001b[39m,         \n\u001b[0;32m   (...)\u001b[0m\n\u001b[1;32m     60\u001b[0m     keras\u001b[38;5;241m.\u001b[39mcallbacks\u001b[38;5;241m.\u001b[39mTerminateOnNaN()\n\u001b[1;32m     61\u001b[0m ]\n\u001b[1;32m     63\u001b[0m \u001b[38;5;66;03m# Fine-tune the model on all data with validation\u001b[39;00m\n\u001b[0;32m---> 64\u001b[0m history \u001b[38;5;241m=\u001b[39m \u001b[43mmodel\u001b[49m\u001b[38;5;241;43m.\u001b[39;49m\u001b[43mfit\u001b[49m\u001b[43m(\u001b[49m\n\u001b[1;32m     65\u001b[0m \u001b[43m    \u001b[49m\u001b[43mcmip6_train_reshaped\u001b[49m\u001b[43m,\u001b[49m\u001b[43m             \u001b[49m\u001b[38;5;66;43;03m# Full dataset input\u001b[39;49;00m\n\u001b[1;32m     66\u001b[0m \u001b[43m    \u001b[49m\u001b[43mgmfd_train_reshaped\u001b[49m\u001b[43m,\u001b[49m\u001b[43m              \u001b[49m\u001b[38;5;66;43;03m# Full dataset target\u001b[39;49;00m\n\u001b[1;32m     67\u001b[0m \u001b[43m    \u001b[49m\u001b[43mvalidation_data\u001b[49m\u001b[38;5;241;43m=\u001b[39;49m\u001b[43m(\u001b[49m\u001b[43mX_val\u001b[49m\u001b[43m,\u001b[49m\u001b[43m \u001b[49m\u001b[43my_val\u001b[49m\u001b[43m)\u001b[49m\u001b[43m,\u001b[49m\u001b[43m   \u001b[49m\u001b[38;5;66;43;03m# Add validation data here\u001b[39;49;00m\n\u001b[1;32m     68\u001b[0m \u001b[43m    \u001b[49m\u001b[43mepochs\u001b[49m\u001b[38;5;241;43m=\u001b[39;49m\u001b[43mepochs\u001b[49m\u001b[43m,\u001b[49m\n\u001b[1;32m     69\u001b[0m \u001b[43m    \u001b[49m\u001b[43mbatch_size\u001b[49m\u001b[38;5;241;43m=\u001b[39;49m\u001b[43mbatch_size\u001b[49m\u001b[43m,\u001b[49m\n\u001b[1;32m     70\u001b[0m \u001b[43m    \u001b[49m\u001b[43mcallbacks\u001b[49m\u001b[38;5;241;43m=\u001b[39;49m\u001b[43mcallbacks\u001b[49m\u001b[43m,\u001b[49m\n\u001b[1;32m     71\u001b[0m \u001b[43m    \u001b[49m\u001b[43mshuffle\u001b[49m\u001b[38;5;241;43m=\u001b[39;49m\u001b[38;5;28;43;01mTrue\u001b[39;49;00m\u001b[43m,\u001b[49m\n\u001b[1;32m     72\u001b[0m \u001b[43m    \u001b[49m\u001b[43mverbose\u001b[49m\u001b[38;5;241;43m=\u001b[39;49m\u001b[38;5;241;43m1\u001b[39;49m\u001b[43m  \u001b[49m\n\u001b[1;32m     73\u001b[0m \u001b[43m)\u001b[49m\n\u001b[1;32m     75\u001b[0m \u001b[38;5;66;03m# Final evaluation on the test set if available, otherwise on training set\u001b[39;00m\n\u001b[1;32m     76\u001b[0m \u001b[38;5;28;01mif\u001b[39;00m \u001b[38;5;124m'\u001b[39m\u001b[38;5;124mX_test\u001b[39m\u001b[38;5;124m'\u001b[39m \u001b[38;5;129;01min\u001b[39;00m \u001b[38;5;28mglobals\u001b[39m() \u001b[38;5;129;01mand\u001b[39;00m \u001b[38;5;124m'\u001b[39m\u001b[38;5;124my_test\u001b[39m\u001b[38;5;124m'\u001b[39m \u001b[38;5;129;01min\u001b[39;00m \u001b[38;5;28mglobals\u001b[39m():\n",
      "File \u001b[0;32m~/miniconda3/envs/ml/lib/python3.10/site-packages/keras/src/utils/traceback_utils.py:117\u001b[0m, in \u001b[0;36mfilter_traceback.<locals>.error_handler\u001b[0;34m(*args, **kwargs)\u001b[0m\n\u001b[1;32m    115\u001b[0m filtered_tb \u001b[38;5;241m=\u001b[39m \u001b[38;5;28;01mNone\u001b[39;00m\n\u001b[1;32m    116\u001b[0m \u001b[38;5;28;01mtry\u001b[39;00m:\n\u001b[0;32m--> 117\u001b[0m     \u001b[38;5;28;01mreturn\u001b[39;00m \u001b[43mfn\u001b[49m\u001b[43m(\u001b[49m\u001b[38;5;241;43m*\u001b[39;49m\u001b[43margs\u001b[49m\u001b[43m,\u001b[49m\u001b[43m \u001b[49m\u001b[38;5;241;43m*\u001b[39;49m\u001b[38;5;241;43m*\u001b[39;49m\u001b[43mkwargs\u001b[49m\u001b[43m)\u001b[49m\n\u001b[1;32m    118\u001b[0m \u001b[38;5;28;01mexcept\u001b[39;00m \u001b[38;5;167;01mException\u001b[39;00m \u001b[38;5;28;01mas\u001b[39;00m e:\n\u001b[1;32m    119\u001b[0m     filtered_tb \u001b[38;5;241m=\u001b[39m _process_traceback_frames(e\u001b[38;5;241m.\u001b[39m__traceback__)\n",
      "File \u001b[0;32m~/miniconda3/envs/ml/lib/python3.10/site-packages/keras/src/backend/jax/trainer.py:407\u001b[0m, in \u001b[0;36mJAXTrainer.fit\u001b[0;34m(self, x, y, batch_size, epochs, verbose, callbacks, validation_split, validation_data, shuffle, class_weight, sample_weight, initial_epoch, steps_per_epoch, validation_steps, validation_batch_size, validation_freq)\u001b[0m\n\u001b[1;32m    404\u001b[0m callbacks\u001b[38;5;241m.\u001b[39mon_epoch_begin(epoch)\n\u001b[1;32m    406\u001b[0m \u001b[38;5;28mself\u001b[39m\u001b[38;5;241m.\u001b[39m_jax_state_synced \u001b[38;5;241m=\u001b[39m \u001b[38;5;28;01mTrue\u001b[39;00m\n\u001b[0;32m--> 407\u001b[0m \u001b[38;5;28;01mfor\u001b[39;00m step, data \u001b[38;5;129;01min\u001b[39;00m epoch_iterator\u001b[38;5;241m.\u001b[39menumerate_epoch():\n\u001b[1;32m    408\u001b[0m     \u001b[38;5;66;03m# Callbacks\u001b[39;00m\n\u001b[1;32m    409\u001b[0m     callbacks\u001b[38;5;241m.\u001b[39mon_train_batch_begin(step)\n\u001b[1;32m    411\u001b[0m     \u001b[38;5;66;03m# Train step\u001b[39;00m\n",
      "File \u001b[0;32m~/miniconda3/envs/ml/lib/python3.10/site-packages/keras/src/trainers/epoch_iterator.py:110\u001b[0m, in \u001b[0;36mEpochIterator.enumerate_epoch\u001b[0;34m(self)\u001b[0m\n\u001b[1;32m    108\u001b[0m         \u001b[38;5;28;01myield\u001b[39;00m step \u001b[38;5;241m-\u001b[39m \u001b[38;5;28mlen\u001b[39m(buffer) \u001b[38;5;241m+\u001b[39m \u001b[38;5;241m1\u001b[39m, buffer\n\u001b[1;32m    109\u001b[0m \u001b[38;5;28;01melse\u001b[39;00m:\n\u001b[0;32m--> 110\u001b[0m     \u001b[38;5;28;01mfor\u001b[39;00m step, data \u001b[38;5;129;01min\u001b[39;00m \u001b[38;5;28menumerate\u001b[39m(\u001b[38;5;28mself\u001b[39m\u001b[38;5;241m.\u001b[39m_get_iterator()):\n\u001b[1;32m    111\u001b[0m         buffer\u001b[38;5;241m.\u001b[39mappend(data)\n\u001b[1;32m    112\u001b[0m         \u001b[38;5;28;01mif\u001b[39;00m \u001b[38;5;28mlen\u001b[39m(buffer) \u001b[38;5;241m==\u001b[39m \u001b[38;5;28mself\u001b[39m\u001b[38;5;241m.\u001b[39msteps_per_execution:\n",
      "File \u001b[0;32m~/miniconda3/envs/ml/lib/python3.10/site-packages/keras/src/backend/jax/trainer.py:1037\u001b[0m, in \u001b[0;36mJAXEpochIterator._prefetch_numpy_iterator\u001b[0;34m(self, numpy_iterator)\u001b[0m\n\u001b[1;32m   1035\u001b[0m \u001b[38;5;28;01mwhile\u001b[39;00m queue:\n\u001b[1;32m   1036\u001b[0m     \u001b[38;5;28;01myield\u001b[39;00m queue\u001b[38;5;241m.\u001b[39mpopleft()\n\u001b[0;32m-> 1037\u001b[0m     \u001b[43menqueue\u001b[49m\u001b[43m(\u001b[49m\u001b[38;5;241;43m1\u001b[39;49m\u001b[43m)\u001b[49m\n",
      "File \u001b[0;32m~/miniconda3/envs/ml/lib/python3.10/site-packages/keras/src/backend/jax/trainer.py:1031\u001b[0m, in \u001b[0;36mJAXEpochIterator._prefetch_numpy_iterator.<locals>.enqueue\u001b[0;34m(n)\u001b[0m\n\u001b[1;32m   1030\u001b[0m \u001b[38;5;28;01mdef\u001b[39;00m \u001b[38;5;21menqueue\u001b[39m(n\u001b[38;5;241m=\u001b[39m\u001b[38;5;241m2\u001b[39m):\n\u001b[0;32m-> 1031\u001b[0m     \u001b[38;5;28;01mfor\u001b[39;00m data \u001b[38;5;129;01min\u001b[39;00m itertools\u001b[38;5;241m.\u001b[39mislice(numpy_iterator, n):\n\u001b[1;32m   1032\u001b[0m         queue\u001b[38;5;241m.\u001b[39mappend(_distribute_data(data))\n",
      "File \u001b[0;32m~/miniconda3/envs/ml/lib/python3.10/site-packages/keras/src/trainers/data_adapters/array_data_adapter.py:341\u001b[0m, in \u001b[0;36mArrayDataAdapter._get_iterator\u001b[0;34m(self, slice_and_convert_fn, inputs)\u001b[0m\n\u001b[1;32m    336\u001b[0m     indices \u001b[38;5;241m=\u001b[39m \u001b[38;5;28mslice\u001b[39m(start, stop)\n\u001b[1;32m    338\u001b[0m slice_indices_and_convert_fn \u001b[38;5;241m=\u001b[39m functools\u001b[38;5;241m.\u001b[39mpartial(\n\u001b[1;32m    339\u001b[0m     slice_and_convert_fn, indices\u001b[38;5;241m=\u001b[39mindices\n\u001b[1;32m    340\u001b[0m )\n\u001b[0;32m--> 341\u001b[0m \u001b[38;5;28;01myield\u001b[39;00m \u001b[43mtree\u001b[49m\u001b[38;5;241;43m.\u001b[39;49m\u001b[43mmap_structure\u001b[49m\u001b[43m(\u001b[49m\u001b[43mslice_indices_and_convert_fn\u001b[49m\u001b[43m,\u001b[49m\u001b[43m \u001b[49m\u001b[43minputs\u001b[49m\u001b[43m)\u001b[49m\n",
      "File \u001b[0;32m~/miniconda3/envs/ml/lib/python3.10/site-packages/keras/src/tree/tree_api.py:148\u001b[0m, in \u001b[0;36mmap_structure\u001b[0;34m(func, *structures)\u001b[0m\n\u001b[1;32m    124\u001b[0m \u001b[38;5;129m@keras_export\u001b[39m(\u001b[38;5;124m\"\u001b[39m\u001b[38;5;124mkeras.tree.map_structure\u001b[39m\u001b[38;5;124m\"\u001b[39m)\n\u001b[1;32m    125\u001b[0m \u001b[38;5;28;01mdef\u001b[39;00m \u001b[38;5;21mmap_structure\u001b[39m(func, \u001b[38;5;241m*\u001b[39mstructures):\n\u001b[1;32m    126\u001b[0m \u001b[38;5;250m    \u001b[39m\u001b[38;5;124;03m\"\"\"Maps `func` through given structures.\u001b[39;00m\n\u001b[1;32m    127\u001b[0m \n\u001b[1;32m    128\u001b[0m \u001b[38;5;124;03m    Examples:\u001b[39;00m\n\u001b[0;32m   (...)\u001b[0m\n\u001b[1;32m    146\u001b[0m \u001b[38;5;124;03m        A new structure with the same layout as the given ones.\u001b[39;00m\n\u001b[1;32m    147\u001b[0m \u001b[38;5;124;03m    \"\"\"\u001b[39;00m\n\u001b[0;32m--> 148\u001b[0m     \u001b[38;5;28;01mreturn\u001b[39;00m \u001b[43mtree_impl\u001b[49m\u001b[38;5;241;43m.\u001b[39;49m\u001b[43mmap_structure\u001b[49m\u001b[43m(\u001b[49m\u001b[43mfunc\u001b[49m\u001b[43m,\u001b[49m\u001b[43m \u001b[49m\u001b[38;5;241;43m*\u001b[39;49m\u001b[43mstructures\u001b[49m\u001b[43m)\u001b[49m\n",
      "File \u001b[0;32m~/miniconda3/envs/ml/lib/python3.10/site-packages/keras/src/tree/optree_impl.py:79\u001b[0m, in \u001b[0;36mmap_structure\u001b[0;34m(func, *structures)\u001b[0m\n\u001b[1;32m     77\u001b[0m \u001b[38;5;28;01mfor\u001b[39;00m other \u001b[38;5;129;01min\u001b[39;00m structures[\u001b[38;5;241m1\u001b[39m:]:\n\u001b[1;32m     78\u001b[0m     assert_same_structure(structures[\u001b[38;5;241m0\u001b[39m], other, check_types\u001b[38;5;241m=\u001b[39m\u001b[38;5;28;01mFalse\u001b[39;00m)\n\u001b[0;32m---> 79\u001b[0m \u001b[38;5;28;01mreturn\u001b[39;00m \u001b[43moptree\u001b[49m\u001b[38;5;241;43m.\u001b[39;49m\u001b[43mtree_map\u001b[49m\u001b[43m(\u001b[49m\n\u001b[1;32m     80\u001b[0m \u001b[43m    \u001b[49m\u001b[43mfunc\u001b[49m\u001b[43m,\u001b[49m\u001b[43m \u001b[49m\u001b[38;5;241;43m*\u001b[39;49m\u001b[43mstructures\u001b[49m\u001b[43m,\u001b[49m\u001b[43m \u001b[49m\u001b[43mnone_is_leaf\u001b[49m\u001b[38;5;241;43m=\u001b[39;49m\u001b[38;5;28;43;01mTrue\u001b[39;49;00m\u001b[43m,\u001b[49m\u001b[43m \u001b[49m\u001b[43mnamespace\u001b[49m\u001b[38;5;241;43m=\u001b[39;49m\u001b[38;5;124;43m\"\u001b[39;49m\u001b[38;5;124;43mkeras\u001b[39;49m\u001b[38;5;124;43m\"\u001b[39;49m\n\u001b[1;32m     81\u001b[0m \u001b[43m\u001b[49m\u001b[43m)\u001b[49m\n",
      "\u001b[0;31mKeyboardInterrupt\u001b[0m: "
     ]
    }
   ],
   "source": [
    "\n",
    "climate_loss = ClimateDownscalingLossJAX()\n",
    "epochs = 300\n",
    "batch_size = 32\n",
    "\n",
    "patience = max(1, int(epochs * 0.1))  # Set patience to 10% of epochs, with a minimum of 1\n",
    "\n",
    "\n",
    "# Define input shape and initialize model\n",
    "input_shape = (cmip6_train.shape[1], cmip6_train.shape[2], 1)  # Assuming 1 channel (tas)\n",
    "model = climate_unet(input_shape)\n",
    "\n",
    "# Load pretrained weights\n",
    "model.load_weights('models/unet_best_model.keras')\n",
    "print(\"Loaded pretrained weights from the best model.\")\n",
    "\n",
    "# Learning rate and optimizer configuration (removing warmup cosine decay)\n",
    "learning_rate = 1e-3  # Directly using the inherited best model's learning rate\n",
    "optimizer = keras.optimizers.AdamW(\n",
    "    learning_rate=learning_rate,\n",
    "    weight_decay=1e-4,\n",
    "    beta_1=0.9,\n",
    "    beta_2=0.999,\n",
    "    epsilon=1e-7,\n",
    "    clipnorm=1.0\n",
    ")\n",
    "\n",
    "# Compile the model\n",
    "model.compile(\n",
    "    optimizer=optimizer,\n",
    "    loss=climate_loss,  # Use custom climate loss function\n",
    "    metrics=[\n",
    "        tf.keras.metrics.MeanAbsoluteError(),\n",
    "        tf.keras.metrics.RootMeanSquaredError()\n",
    "    ]\n",
    ")\n",
    "\n",
    "\n",
    "# Callbacks for fine-tuning with validation monitoring\n",
    "callbacks = [\n",
    "    keras.callbacks.EarlyStopping(\n",
    "        monitor='val_loss',         \n",
    "        patience=patience,             # Adjusted patience based on expected number of epochs\n",
    "        restore_best_weights=True,\n",
    "        verbose=1\n",
    "    ),\n",
    "    keras.callbacks.ModelCheckpoint(\n",
    "        'models/unet_fine_tuned_model.keras',  # Unique filename with timestamp\n",
    "        monitor='val_loss',         \n",
    "        save_best_only=True,\n",
    "        mode='min',\n",
    "        verbose=1\n",
    "    ),\n",
    "    keras.callbacks.ReduceLROnPlateau(\n",
    "        monitor='val_loss',\n",
    "        factor=0.5,\n",
    "        patience=5,\n",
    "        min_lr=1e-6,\n",
    "        verbose=1\n",
    "    ),\n",
    "    keras.callbacks.TerminateOnNaN()\n",
    "]\n",
    "\n",
    "# Fine-tune the model on all data with validation\n",
    "history = model.fit(\n",
    "    cmip6_train_reshaped,             # Full dataset input\n",
    "    gmfd_train_reshaped,              # Full dataset target\n",
    "    validation_data=(X_val, y_val),   # Add validation data here\n",
    "    epochs=epochs,\n",
    "    batch_size=batch_size,\n",
    "    callbacks=callbacks,\n",
    "    shuffle=True,\n",
    "    verbose=1  \n",
    ")\n",
    "\n",
    "# Final evaluation on the test set if available, otherwise on training set\n",
    "if 'X_test' in globals() and 'y_test' in globals():\n",
    "    print(\"Final evaluation on the test set:\")\n",
    "    results = model.evaluate(X_test, y_test, verbose=1)\n",
    "else:\n",
    "    print(\"Final evaluation on all training data:\")\n",
    "    results = model.evaluate(cmip6_train_reshaped, gmfd_train_reshaped, verbose=1)\n",
    "\n",
    "# Print final performance metrics\n",
    "print(f\"Loss: {results[0]:.4f}, MAE: {results[1]:.4f}, RMSE: {results[2]:.4f}\")\n"
   ]
  },
  {
   "cell_type": "markdown",
   "id": "601d23c2-8702-4920-9fa3-559a2da9bd81",
   "metadata": {},
   "source": [
    "#### Pred on historical data"
   ]
  },
  {
   "cell_type": "code",
   "execution_count": 48,
   "id": "5aa5daf3-f27c-4761-83b9-65d08e016cfb",
   "metadata": {},
   "outputs": [
    {
     "name": "stdout",
     "output_type": "stream",
     "text": [
      "\u001b[1m742/742\u001b[0m \u001b[32m━━━━━━━━━━━━━━━━━━━━\u001b[0m\u001b[37m\u001b[0m \u001b[1m12s\u001b[0m 14ms/step\n"
     ]
    }
   ],
   "source": [
    "# Load the model\n",
    "from keras.models import load_model\n",
    "model_saved = load_model(\n",
    "    'models/unet_best_model.keras',\n",
    "    custom_objects={'ClimateDownscalingLossJAX': ClimateDownscalingLossJAX}\n",
    ")\n",
    "\n",
    "# Predict downscaled high-resolution data\n",
    "predicted_high_res = model_saved.predict(cmip6_train_reshaped)"
   ]
  },
  {
   "cell_type": "code",
   "execution_count": 49,
   "id": "87b9710d-b80a-46a7-9429-161564a5cb1c",
   "metadata": {},
   "outputs": [
    {
     "name": "stdout",
     "output_type": "stream",
     "text": [
      "Downscaled high-resolution predictions saved to NetCDF format.\n"
     ]
    }
   ],
   "source": [
    "# Inverse transform the predictions to get the actual temperature values\n",
    "\n",
    "\n",
    "# Get the mean and std from the training set for denormalization\n",
    "cmip6_high_res_mean = cmip6_high_res['tas'].mean().values\n",
    "cmip6_high_res_std = cmip6_high_res['tas'].std().values\n",
    "\n",
    "# Back-transform the predictions and actual values\n",
    "predicted_high_res_denorm = (predicted_high_res * cmip6_high_res_std) + cmip6_high_res_mean\n",
    "\n",
    "# Reshape the predictions to match the original GMFD resolution\n",
    "predicted_high_res_final = predicted_high_res_denorm.reshape(gmfd_train.shape)\n",
    "\n",
    "# Save the predictions to a NetCDF file\n",
    "predicted_ds = xr.DataArray(predicted_high_res_final, dims=gmfd_data.dims, coords=gmfd_data.coords, name='tas_downscaled')\n",
    "predicted_ds.to_netcdf('/data/keeling/a/ad87/downscale/ncs/unet/predicted_high_res_tas_unet.nc')\n",
    "\n",
    "# #### Results saved to NetCDF format\n",
    "print(\"Downscaled high-resolution predictions saved to NetCDF format.\")"
   ]
  },
  {
   "cell_type": "markdown",
   "id": "a093f18c-f080-42a3-b7b3-8e2227209b11",
   "metadata": {},
   "source": [
    "#### Scenario data"
   ]
  },
  {
   "cell_type": "code",
   "execution_count": 50,
   "id": "24fbac18-bc26-40a7-82b0-9bbacb76a3d9",
   "metadata": {},
   "outputs": [
    {
     "data": {
      "text/plain": [
       "(31411, 42, 97, 1)"
      ]
     },
     "execution_count": 50,
     "metadata": {},
     "output_type": "execute_result"
    }
   ],
   "source": [
    "# Load the CMIP6 raw data (predictor variables)\n",
    "cmip6_ssp245 = '/data/cristi/a/cristi/downscaled_data/cmip6/raw/zarr/RO_CMIP6_raw/CNRM-ESM2-1/ssp245/r1i1p1f2/tas/tas_day_CNRM-ESM2-1_ssp245_r1i1p1f2_gr_2015_2100_rou.zarr'\n",
    "cmip6_ssp245 = xr.open_zarr(cmip6_ssp245)\n",
    "cmip6_sp245_high_res = cmip6_ssp245.interp(lat=target_lat, lon=target_lon, method='cubic', kwargs={\"fill_value\": \"extrapolate\"})\n",
    "# Get the mean and std from the training set for denormalization\n",
    "cmip6_sp245_reshaped_mean = cmip6_sp245_high_res['tas'].mean().values\n",
    "cmip6_sp245_reshaped_std = cmip6_sp245_high_res['tas'].std().values\n",
    "\n",
    "cmip6_sp245_norm = (cmip6_sp245_high_res['tas'] - cmip6_sp245_reshaped_mean) / cmip6_sp245_reshaped_std\n",
    "# Reshape data to add the channel dimension\n",
    "cmip6_sp245_reshaped = cmip6_sp245_norm.values[..., np.newaxis]\n",
    "cmip6_sp245_reshaped.shape\n"
   ]
  },
  {
   "cell_type": "markdown",
   "id": "bba08357-e9f3-4d61-aa74-02d162d0c171",
   "metadata": {},
   "source": [
    "#### Perform the predictions on scenario data"
   ]
  },
  {
   "cell_type": "code",
   "execution_count": 51,
   "id": "14d29592-7285-4bc4-a09d-75932ae709d6",
   "metadata": {},
   "outputs": [
    {
     "name": "stdout",
     "output_type": "stream",
     "text": [
      "\u001b[1m982/982\u001b[0m \u001b[32m━━━━━━━━━━━━━━━━━━━━\u001b[0m\u001b[37m\u001b[0m \u001b[1m11s\u001b[0m 11ms/step\n"
     ]
    }
   ],
   "source": [
    "# Load the model\n",
    "# Predict downscaled high-resolution data\n",
    "predicted_high_res = model_saved.predict(cmip6_sp245_reshaped)\n",
    "\n",
    "predicted_high_res_denorm = (predicted_high_res * cmip6_sp245_reshaped_std) + cmip6_sp245_reshaped_mean\n"
   ]
  },
  {
   "cell_type": "code",
   "execution_count": 52,
   "id": "6f3e7fc8-859e-46c1-84b2-09c5081fd305",
   "metadata": {},
   "outputs": [
    {
     "name": "stdout",
     "output_type": "stream",
     "text": [
      "Downscaled high-resolution predictions saved to NetCDF format.\n"
     ]
    }
   ],
   "source": [
    "predicted_high_res_final = predicted_high_res_denorm.reshape(cmip6_sp245_norm.values.shape)\n",
    "\n",
    "# Save the predictions to a NetCDF file\n",
    "predicted_ds = xr.DataArray(predicted_high_res_final, dims=cmip6_sp245_norm.dims, coords=cmip6_sp245_norm.coords, name='tas_downscaled')\n",
    "predicted_ds.to_netcdf('/data/keeling/a/ad87/downscale/ncs/unet/predicted_high_res_tas_unet_ssp245.nc')\n",
    "\n",
    "# #### Results saved to NetCDF format\n",
    "print(\"Downscaled high-resolution predictions saved to NetCDF format.\")"
   ]
  },
  {
   "cell_type": "code",
   "execution_count": 53,
   "id": "63289c89-6721-4bd6-8343-47c026271bf3",
   "metadata": {
    "editable": true,
    "slideshow": {
     "slide_type": ""
    },
    "tags": []
   },
   "outputs": [
    {
     "data": {
      "text/plain": [
       "<matplotlib.collections.QuadMesh at 0x2b42fb29e680>"
      ]
     },
     "execution_count": 53,
     "metadata": {},
     "output_type": "execute_result"
    },
    {
     "data": {
      "image/png": "[encoded data removed]",
      "text/plain": [
       "<Figure size 640x480 with 2 Axes>"
      ]
     },
     "metadata": {},
     "output_type": "display_data"
    }
   ],
   "source": [
    "#Select the first time step\n",
    "first_time_step = predicted_ds.isel(time=0).compute()  # Use .compute() if using Dask\n",
    "first_time_step.plot()"
   ]
  },
  {
   "cell_type": "markdown",
   "id": "7c9c5b5a-37f3-4f0d-aab8-f4b8f2e65d53",
   "metadata": {},
   "source": [
    "pentru estimare model scenarii"
   ]
  }
 ],
 "metadata": {
  "kernelspec": {
   "display_name": "Python 3 (ipykernel)",
   "language": "python",
   "name": "python3"
  },
  "language_info": {
   "codemirror_mode": {
    "name": "ipython",
    "version": 3
   },
   "file_extension": ".py",
   "mimetype": "text/x-python",
   "name": "python",
   "nbconvert_exporter": "python",
   "pygments_lexer": "ipython3",
   "version": "3.10.15"
  }
 },
 "nbformat": 4,
 "nbformat_minor": 5
}
