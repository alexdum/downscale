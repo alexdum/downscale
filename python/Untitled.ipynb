{
 "cells": [
  {
   "cell_type": "code",
   "execution_count": 1,
   "id": "e953515a-2402-4d08-967a-ea49958d795e",
   "metadata": {
    "scrolled": true
   },
   "outputs": [
    {
     "name": "stderr",
     "output_type": "stream",
     "text": [
      "2024-10-24 12:15:02.132452: I tensorflow/core/util/port.cc:153] oneDNN custom operations are on. You may see slightly different numerical results due to floating-point round-off errors from different computation orders. To turn them off, set the environment variable `TF_ENABLE_ONEDNN_OPTS=0`.\n",
      "2024-10-24 12:15:02.148996: E external/local_xla/xla/stream_executor/cuda/cuda_fft.cc:485] Unable to register cuFFT factory: Attempting to register factory for plugin cuFFT when one has already been registered\n",
      "2024-10-24 12:15:02.167423: E external/local_xla/xla/stream_executor/cuda/cuda_dnn.cc:8454] Unable to register cuDNN factory: Attempting to register factory for plugin cuDNN when one has already been registered\n",
      "2024-10-24 12:15:02.172875: E external/local_xla/xla/stream_executor/cuda/cuda_blas.cc:1452] Unable to register cuBLAS factory: Attempting to register factory for plugin cuBLAS when one has already been registered\n",
      "2024-10-24 12:15:02.187935: I tensorflow/core/platform/cpu_feature_guard.cc:210] This TensorFlow binary is optimized to use available CPU instructions in performance-critical operations.\n",
      "To enable the following instructions: AVX2 AVX512F AVX512_VNNI AVX512_BF16 AVX512_FP16 AVX_VNNI AMX_TILE AMX_INT8 AMX_BF16 FMA, in other operations, rebuild TensorFlow with the appropriate compiler flags.\n",
      "2024-10-24 12:15:03.448498: W tensorflow/compiler/tf2tensorrt/utils/py_utils.cc:38] TF-TRT Warning: Could not find TensorRT\n",
      "2024-10-24 12:15:05.710590: W tensorflow/core/common_runtime/gpu/gpu_device.cc:2343] Cannot dlopen some GPU libraries. Please make sure the missing libraries mentioned above are installed properly if you would like to use GPU. Follow the guide at https://www.tensorflow.org/install/gpu for how to download and setup the required libraries for your platform.\n",
      "Skipping registering GPU devices...\n"
     ]
    }
   ],
   "source": [
    "import keras\n",
    "from keras import layers\n",
    "import numpy as np\n",
    "import jax\n",
    "import jax.numpy as jnp\n",
    "\n",
    "# Define the model architecture (as done earlier)\n",
    "n = 32  # base filter count\n",
    "input_shape = (42, 97, 1)  # Assuming 1 channel (tas)\n",
    "\n",
    "def build_network(input_shape):\n",
    "    inputs = keras.Input(shape=input_shape)\n",
    "    \n",
    "    # Encoder with convolutional layers\n",
    "    x = inputs\n",
    "    skip_connections = []\n",
    "\n",
    "    # 31 convolutional layers, with filter numbers n, 2n, 4n and batch normalization\n",
    "    for i in range(31):\n",
    "        filters = n if i < 10 else (2 * n if i < 20 else 4 * n)\n",
    "        x = layers.Conv2D(filters, kernel_size=3, strides=1, padding='same')(x)\n",
    "        x = layers.BatchNormalization()(x)\n",
    "        x = layers.ReLU()(x)\n",
    "        if i % 2 == 1:  # Every 2 convolutional layers, save skip connection\n",
    "            skip_connections.append(x)\n",
    "\n",
    "    # Decoder with upsampling layers and skip connections\n",
    "    for i in range(16):\n",
    "        filters = 4 * n if i < 6 else (2 * n if i < 12 else n)\n",
    "        x = layers.Conv2DTranspose(filters, kernel_size=3, strides=1, padding='same')(x)\n",
    "        x = layers.BatchNormalization()(x)\n",
    "        x = layers.ReLU()(x)\n",
    "        \n",
    "        if i < len(skip_connections):\n",
    "            skip_connection = skip_connections[-(i + 1)]\n",
    "            if skip_connection.shape[-1] != x.shape[-1]:  # Align the number of channels\n",
    "                skip_connection = layers.Conv2D(filters, kernel_size=1, strides=1, padding='same')(skip_connection)\n",
    "            x = layers.Add()([x, skip_connection])\n",
    "\n",
    "    # Final convolutional layer without activation\n",
    "    outputs = layers.Conv2D(1, kernel_size=1, strides=1, padding='same')(x)\n",
    "    \n",
    "    # Building the model\n",
    "    model = keras.Model(inputs=inputs, outputs=outputs)\n",
    "    return model\n",
    "\n",
    "# Build and compile model\n",
    "model = build_network(input_shape)\n"
   ]
  }
 ],
 "metadata": {
  "kernelspec": {
   "display_name": "Python 3 (ipykernel)",
   "language": "python",
   "name": "python3"
  },
  "language_info": {
   "codemirror_mode": {
    "name": "ipython",
    "version": 3
   },
   "file_extension": ".py",
   "mimetype": "text/x-python",
   "name": "python",
   "nbconvert_exporter": "python",
   "pygments_lexer": "ipython3",
   "version": "3.10.15"
  }
 },
 "nbformat": 4,
 "nbformat_minor": 5
}
